{
 "cells": [
  {
   "cell_type": "markdown",
   "metadata": {},
   "source": [
    "<b>Data mining project - 2020/21</b><br>\n",
    "<b>Author</b>: [Alexandra Bradan](https://github.com/alexandrabradan)<br>\n",
    "<b>Python version</b>: 3.x<br>\n",
    "<b>Last update: 20/11/2020<b>"
   ]
  },
  {
   "cell_type": "code",
   "execution_count": 58,
   "metadata": {},
   "outputs": [],
   "source": [
    "%matplotlib inline\n",
    "\n",
    "# general libraries\n",
    "import sys\n",
    "import math\n",
    "import operator\n",
    "import itertools\n",
    "import pydotplus\n",
    "import collections\n",
    "import missingno as msno\n",
    "from pylab import MaxNLocator\n",
    "from collections import Counter\n",
    "from collections import defaultdict\n",
    "from IPython.display import Image\n",
    "\n",
    "# pandas libraries\n",
    "import pandas as pd\n",
    "from pandas import DataFrame\n",
    "from pandas.testing import assert_frame_equal\n",
    "\n",
    "# visualisation libraries\n",
    "import seaborn as sns\n",
    "import matplotlib.pyplot as plt\n",
    "from statsmodels.graphics.gofplots import qqplot\n",
    "\n",
    "# numpy libraries\n",
    "import numpy as np\n",
    "from numpy import std\n",
    "from numpy import mean\n",
    "from numpy import arange\n",
    "from numpy import argmax\n",
    "from numpy import unique\n",
    "from numpy import percentile\n",
    "\n",
    "# scipy libraries\n",
    "import scipy.stats as stats\n",
    "from scipy.stats import kstest\n",
    "from scipy.stats import normaltest\n",
    "\n",
    "# sklearn libraries\n",
    "from sklearn.impute import KNNImputer\n",
    "from sklearn.impute import SimpleImputer\n",
    "from sklearn.compose import ColumnTransformer\n",
    "from sklearn.preprocessing import MinMaxScaler\n",
    "from sklearn.preprocessing import OneHotEncoder\n",
    "from sklearn.preprocessing import OrdinalEncoder\n",
    "from sklearn.preprocessing import KBinsDiscretizer\n",
    "from sklearn.preprocessing import PolynomialFeatures\n",
    "from sklearn.experimental import enable_iterative_imputer  # explicitly require this experimental feature\n",
    "from sklearn.impute import IterativeImputer\n",
    "\n",
    "from sklearn import tree\n",
    "from sklearn.feature_selection import RFE\n",
    "from sklearn.metrics import confusion_matrix\n",
    "from sklearn.tree import DecisionTreeClassifier\n",
    "from sklearn.model_selection import GridSearchCV\n",
    "from sklearn.model_selection import cross_val_score\n",
    "from sklearn.model_selection import StratifiedKFold\n",
    "from sklearn.model_selection import train_test_split\n",
    "from imblearn.over_sampling import RandomOverSampler\n",
    "from imblearn.pipeline import Pipeline as imbPipeline\n",
    "from imblearn.pipeline import make_pipeline as imbmake_pipeline\n",
    "from imblearn.under_sampling import RandomUnderSampler\n",
    "from sklearn.model_selection import RandomizedSearchCV\n",
    "from sklearn.metrics import roc_curve, auc, roc_auc_score\n",
    "from sklearn.model_selection import RepeatedStratifiedKFold \n",
    "from sklearn.metrics import precision_recall_curve\n",
    "from sklearn.metrics import average_precision_score\n",
    "from sklearn.ensemble import RandomForestClassifier\n",
    "from sklearn.metrics import accuracy_score, f1_score, fbeta_score, recall_score, precision_score, classification_report, roc_auc_score "
   ]
  },
  {
   "cell_type": "code",
   "execution_count": 59,
   "metadata": {},
   "outputs": [],
   "source": [
    "data_directory = \"../../../data/\"\n",
    "plot_directory = \"../../../plots/DataUnderstanding/\"\n",
    "TR_cleaned_file = data_directory + \"Discretized_Train_HR_Employee_Attrition.csv\"\n",
    "TS_file = data_directory + \"Discretized_Test_HR_Employee_Attrition.csv\""
   ]
  },
  {
   "cell_type": "code",
   "execution_count": 60,
   "metadata": {},
   "outputs": [],
   "source": [
    "df_cleaned = pd.read_csv(TR_cleaned_file, sep=\",\") \n",
    "df_ts = pd.read_csv(TS_file, sep=\",\") "
   ]
  },
  {
   "cell_type": "code",
   "execution_count": 61,
   "metadata": {},
   "outputs": [
    {
     "name": "stdout",
     "output_type": "stream",
     "text": [
      "<class 'pandas.core.frame.DataFrame'>\n",
      "RangeIndex: 236 entries, 0 to 235\n",
      "Data columns (total 37 columns):\n",
      " #   Column                                  Non-Null Count  Dtype  \n",
      "---  ------                                  --------------  -----  \n",
      " 0   Age                                     236 non-null    int64  \n",
      " 1   Attrition                               236 non-null    int64  \n",
      " 2   BusinessTravel_Non-Travel               236 non-null    int64  \n",
      " 3   BusinessTravel_Travel_Rarely            236 non-null    int64  \n",
      " 4   BusinessTravel_Travel_Frequently        236 non-null    int64  \n",
      " 5   DistanceFromHome                        236 non-null    int64  \n",
      " 6   Education                               236 non-null    int64  \n",
      " 7   EnvironmentSatisfaction                 236 non-null    int64  \n",
      " 8   Gender                                  236 non-null    int64  \n",
      " 9   JobInvolvement                          236 non-null    int64  \n",
      " 10  JobLevel                                236 non-null    int64  \n",
      " 11  JobRole_Healthcare_Representative       236 non-null    int64  \n",
      " 12  JobRole_Human_Resources                 236 non-null    int64  \n",
      " 13  JobRole_Laboratory_Technician           236 non-null    int64  \n",
      " 14  JobRole_Manager_Research_&_Development  236 non-null    int64  \n",
      " 15  JobRole_Manager_Sales                   236 non-null    int64  \n",
      " 16  JobRole_Manager_Human_Resources         236 non-null    int64  \n",
      " 17  JobRole_Manager                         236 non-null    int64  \n",
      " 18  JobRole_Manufacturing_Director          236 non-null    int64  \n",
      " 19  JobRole_Research_Director               236 non-null    int64  \n",
      " 20  JobRole_Research_Scientist              236 non-null    int64  \n",
      " 21  JobRole_Sales_Executive                 236 non-null    int64  \n",
      " 22  JobRole_Sales_Representative            236 non-null    int64  \n",
      " 23  JobSatisfaction                         236 non-null    int64  \n",
      " 24  MonthlyIncome                           236 non-null    int64  \n",
      " 25  NumCompaniesWorked                      236 non-null    int64  \n",
      " 26  OverTime                                236 non-null    int64  \n",
      " 27  PercentSalaryHike                       236 non-null    int64  \n",
      " 28  RelationshipSatisfaction                236 non-null    int64  \n",
      " 29  StockOptionLevel                        236 non-null    int64  \n",
      " 30  TrainingTimesLastYear                   236 non-null    int64  \n",
      " 31  WorkLifeBalance                         236 non-null    int64  \n",
      " 32  YearsAtCompany                          236 non-null    int64  \n",
      " 33  YearsInCurrentRole                      236 non-null    int64  \n",
      " 34  MonthlyHours                            236 non-null    float64\n",
      " 35  TaxRate                                 236 non-null    float64\n",
      " 36  OverallSatisfaction                     236 non-null    float64\n",
      "dtypes: float64(3), int64(34)\n",
      "memory usage: 68.3 KB\n"
     ]
    }
   ],
   "source": [
    "df_ts.info()"
   ]
  },
  {
   "cell_type": "markdown",
   "metadata": {},
   "source": [
    "<h2> Define Training set </h2>"
   ]
  },
  {
   "cell_type": "markdown",
   "metadata": {},
   "source": [
    "<h6> Removing OverallSatisfaction not used for discretisation and DT classification</h6>"
   ]
  },
  {
   "cell_type": "code",
   "execution_count": 62,
   "metadata": {},
   "outputs": [],
   "source": [
    "del df_cleaned[\"OverallSatisfaction\"]"
   ]
  },
  {
   "cell_type": "code",
   "execution_count": 63,
   "metadata": {},
   "outputs": [
    {
     "name": "stdout",
     "output_type": "stream",
     "text": [
      "(883, 32)\n",
      "(883,)\n"
     ]
    }
   ],
   "source": [
    "y_train = df_cleaned['Attrition']\n",
    "df1 = df_cleaned.copy()\n",
    "X_train = df1.drop('Attrition', axis=1)\n",
    "print(X_train.shape)\n",
    "print(y_train.shape)"
   ]
  },
  {
   "cell_type": "markdown",
   "metadata": {},
   "source": [
    "<h2> Define Test set </h2>"
   ]
  },
  {
   "cell_type": "markdown",
   "metadata": {},
   "source": [
    "<h6> Removing Age, MonthlyHours, OverallSatisfaction not used for discretisation and DT classification</h6>"
   ]
  },
  {
   "cell_type": "code",
   "execution_count": 64,
   "metadata": {},
   "outputs": [
    {
     "name": "stdout",
     "output_type": "stream",
     "text": [
      "(236, 33)\n"
     ]
    }
   ],
   "source": [
    "to_drop = [\"Age\", \"MonthlyHours\", \"OverallSatisfaction\", \"JobRole_Manager\"]\n",
    "\n",
    "# drop features \n",
    "for column_name in to_drop:\n",
    "    del df_ts[column_name]\n",
    "\n",
    "# check dropping output\n",
    "print(df_ts.shape)"
   ]
  },
  {
   "cell_type": "code",
   "execution_count": 66,
   "metadata": {},
   "outputs": [
    {
     "name": "stdout",
     "output_type": "stream",
     "text": [
      "(236, 32)\n",
      "(883,)\n"
     ]
    }
   ],
   "source": [
    "y_test = df_cleaned['Attrition']\n",
    "df2 = df_ts.copy()\n",
    "X_test = df2.drop('Attrition', axis=1)\n",
    "print(X_test.shape)\n",
    "print(y_test.shape)"
   ]
  },
  {
   "cell_type": "markdown",
   "metadata": {},
   "source": [
    "<h2>Predict on Test set</h2>"
   ]
  }
 ],
 "metadata": {
  "kernelspec": {
   "display_name": "Python 3",
   "language": "python",
   "name": "python3"
  },
  "language_info": {
   "codemirror_mode": {
    "name": "ipython",
    "version": 3
   },
   "file_extension": ".py",
   "mimetype": "text/x-python",
   "name": "python",
   "nbconvert_exporter": "python",
   "pygments_lexer": "ipython3",
   "version": "3.8.3"
  }
 },
 "nbformat": 4,
 "nbformat_minor": 4
}
