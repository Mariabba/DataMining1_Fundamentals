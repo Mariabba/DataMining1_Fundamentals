{
 "cells": [
  {
   "cell_type": "markdown",
   "metadata": {},
   "source": [
    "<b>Data mining project - 2020/21</b><br>\n",
    "<b>Author</b>: [Alexandra Bradan](https://github.com/alexandrabradan)<br>\n",
    "<b>Python version</b>: 3.x<br>\n",
    "<b>Last update: 07/01/2021<b>"
   ]
  },
  {
   "cell_type": "code",
   "execution_count": 1,
   "metadata": {},
   "outputs": [],
   "source": [
    "%matplotlib inline\n",
    "\n",
    "# general libraries\n",
    "import sys\n",
    "import math\n",
    "import operator\n",
    "import itertools\n",
    "import collections\n",
    "from pylab import MaxNLocator\n",
    "from collections import Counter\n",
    "from collections import defaultdict\n",
    "from IPython.display import Image\n",
    "\n",
    "# pandas libraries\n",
    "import pandas as pd\n",
    "from pandas import DataFrame\n",
    "from pandas.testing import assert_frame_equal\n",
    "\n",
    "# visualisation libraries\n",
    "import seaborn as sns\n",
    "import matplotlib.pyplot as plt\n",
    "\n",
    "# numpy libraries\n",
    "import numpy as np\n",
    "from numpy import std\n",
    "from numpy import mean\n",
    "from numpy import arange\n",
    "from numpy import unique\n",
    "from numpy import percentile\n",
    "\n",
    "# scipy libraries\n",
    "import scipy.stats as stats\n",
    "from scipy.stats import kstest\n",
    "from scipy.stats import normaltest\n",
    "\n",
    "# sklearn libraries\n",
    "from sklearn.impute import KNNImputer\n",
    "from sklearn.impute import SimpleImputer\n",
    "from sklearn.compose import ColumnTransformer\n",
    "from sklearn.preprocessing import MinMaxScaler\n",
    "from sklearn.preprocessing import OneHotEncoder\n",
    "from sklearn.preprocessing import OrdinalEncoder\n",
    "from sklearn.preprocessing import KBinsDiscretizer\n",
    "from sklearn.preprocessing import PolynomialFeatures\n",
    "from sklearn.experimental import enable_iterative_imputer  # explicitly require this experimental feature\n",
    "from sklearn.impute import IterativeImputer\n",
    "\n",
    "from sklearn import tree\n",
    "from sklearn.cluster import KMeans\n",
    "from sklearn.metrics import silhouette_score\n",
    "from sklearn.feature_selection import RFE\n",
    "from sklearn.metrics import confusion_matrix\n",
    "from sklearn.tree import DecisionTreeClassifier\n",
    "from sklearn.model_selection import GridSearchCV\n",
    "from sklearn.model_selection import cross_val_score\n",
    "from sklearn.model_selection import StratifiedKFold\n",
    "from sklearn.model_selection import train_test_split\n",
    "from imblearn.over_sampling import RandomOverSampler\n",
    "from imblearn.pipeline import Pipeline as imbPipeline\n",
    "from imblearn.pipeline import make_pipeline as imbmake_pipeline\n",
    "from imblearn.under_sampling import RandomUnderSampler\n",
    "from sklearn.model_selection import RandomizedSearchCV\n",
    "from sklearn.metrics import roc_curve, auc, roc_auc_score\n",
    "from sklearn.model_selection import RepeatedStratifiedKFold \n",
    "from sklearn.metrics import precision_recall_curve\n",
    "from sklearn.metrics import average_precision_score\n",
    "from sklearn.ensemble import RandomForestClassifier\n",
    "from sklearn.preprocessing import OneHotEncoder\n",
    "from sklearn.preprocessing import KBinsDiscretizer\n",
    "from sklearn.metrics import accuracy_score, f1_score, fbeta_score, recall_score, precision_score, classification_report, roc_auc_score "
   ]
  },
  {
   "cell_type": "code",
   "execution_count": 2,
   "metadata": {},
   "outputs": [],
   "source": [
    "data_directory = \"../../../data/\"\n",
    "plot_directory = \"../../../plots/DataUnderstanding/\"\n",
    "TR_file = data_directory + \"Train_HR_Employee_Attrition.csv\"\n",
    "TR_cleaned_file = data_directory + \"Numerical_Encoding_Train_HR_Employee_Attrition.csv\"\n",
    "TS_file = data_directory + \"Numerical_Encoding_Test_HR_Employee_Attrition.csv\""
   ]
  },
  {
   "cell_type": "code",
   "execution_count": 3,
   "metadata": {},
   "outputs": [],
   "source": [
    "df_cleaned = pd.read_csv(TR_cleaned_file, sep=\",\") \n",
    "df_ts = pd.read_csv(TS_file, sep=\",\") "
   ]
  },
  {
   "cell_type": "code",
   "execution_count": 4,
   "metadata": {},
   "outputs": [
    {
     "name": "stdout",
     "output_type": "stream",
     "text": [
      "<class 'pandas.core.frame.DataFrame'>\n",
      "RangeIndex: 883 entries, 0 to 882\n",
      "Data columns (total 24 columns):\n",
      " #   Column                    Non-Null Count  Dtype  \n",
      "---  ------                    --------------  -----  \n",
      " 0   Age                       883 non-null    int64  \n",
      " 1   Attrition                 883 non-null    int64  \n",
      " 2   BusinessTravel            883 non-null    int64  \n",
      " 3   DistanceFromHome          883 non-null    int64  \n",
      " 4   Education                 883 non-null    int64  \n",
      " 5   EnvironmentSatisfaction   883 non-null    int64  \n",
      " 6   Gender                    883 non-null    int64  \n",
      " 7   JobInvolvement            883 non-null    int64  \n",
      " 8   JobLevel                  883 non-null    int64  \n",
      " 9   JobRole                   883 non-null    int64  \n",
      " 10  JobSatisfaction           883 non-null    int64  \n",
      " 11  MonthlyIncome             883 non-null    int64  \n",
      " 12  NumCompaniesWorked        883 non-null    int64  \n",
      " 13  OverTime                  883 non-null    int64  \n",
      " 14  PercentSalaryHike         883 non-null    int64  \n",
      " 15  RelationshipSatisfaction  883 non-null    int64  \n",
      " 16  StockOptionLevel          883 non-null    int64  \n",
      " 17  TrainingTimesLastYear     883 non-null    int64  \n",
      " 18  WorkLifeBalance           883 non-null    int64  \n",
      " 19  YearsAtCompany            883 non-null    int64  \n",
      " 20  YearsInCurrentRole        883 non-null    int64  \n",
      " 21  MonthlyHours              883 non-null    float64\n",
      " 22  TaxRate                   883 non-null    float64\n",
      " 23  OverallSatisfaction       883 non-null    float64\n",
      "dtypes: float64(3), int64(21)\n",
      "memory usage: 165.7 KB\n"
     ]
    }
   ],
   "source": [
    "df_cleaned.info()"
   ]
  },
  {
   "cell_type": "code",
   "execution_count": 5,
   "metadata": {},
   "outputs": [
    {
     "name": "stdout",
     "output_type": "stream",
     "text": [
      "<class 'pandas.core.frame.DataFrame'>\n",
      "RangeIndex: 219 entries, 0 to 218\n",
      "Data columns (total 24 columns):\n",
      " #   Column                    Non-Null Count  Dtype  \n",
      "---  ------                    --------------  -----  \n",
      " 0   Age                       219 non-null    int64  \n",
      " 1   Attrition                 219 non-null    int64  \n",
      " 2   BusinessTravel            219 non-null    int64  \n",
      " 3   DistanceFromHome          219 non-null    int64  \n",
      " 4   Education                 219 non-null    int64  \n",
      " 5   EnvironmentSatisfaction   219 non-null    int64  \n",
      " 6   Gender                    219 non-null    int64  \n",
      " 7   JobInvolvement            219 non-null    int64  \n",
      " 8   JobLevel                  219 non-null    int64  \n",
      " 9   JobRole                   219 non-null    int64  \n",
      " 10  JobSatisfaction           219 non-null    int64  \n",
      " 11  MonthlyIncome             219 non-null    int64  \n",
      " 12  NumCompaniesWorked        219 non-null    int64  \n",
      " 13  OverTime                  219 non-null    int64  \n",
      " 14  PercentSalaryHike         219 non-null    int64  \n",
      " 15  RelationshipSatisfaction  219 non-null    int64  \n",
      " 16  StockOptionLevel          219 non-null    int64  \n",
      " 17  TrainingTimesLastYear     219 non-null    int64  \n",
      " 18  WorkLifeBalance           219 non-null    int64  \n",
      " 19  YearsAtCompany            219 non-null    int64  \n",
      " 20  YearsInCurrentRole        219 non-null    int64  \n",
      " 21  MonthlyHours              219 non-null    float64\n",
      " 22  TaxRate                   219 non-null    float64\n",
      " 23  OverallSatisfaction       219 non-null    float64\n",
      "dtypes: float64(3), int64(21)\n",
      "memory usage: 41.2 KB\n"
     ]
    }
   ],
   "source": [
    "df_ts.info()"
   ]
  },
  {
   "cell_type": "markdown",
   "metadata": {},
   "source": [
    "<h2> Discretisation approach </h2> \n",
    "Approaches to transform continuous variables into discrete ones. This process is also known as <b>binning</b>, with each bin being each interval. Discretization methods fall into 2 categories: \n",
    "\n",
    "- supervised: do not use any information, other than the variable distribution, to create the contiguous bins in which the values will be placed;\n",
    "- unsupervised: typically use target information in order to create bins or intervals.\n",
    "\n",
    "Since we are dealying with DT it is natural to use a **supervised discretisation method** with them:\n",
    "\n",
    "<u>Step 1</u>: First it trains a decision tree of limited depth (2, 3 or 4) using the variable we want to discretize to predict the target;\n",
    "\n",
    "<u>Step 2</u>: The original variable values are then replaced by the probability returned by the tree. The probability is the same for all the observations within a single bin, thus replacing by the probability is equivalent to grouping the observations within the cut-off decided by the decision tree.\n",
    "\n",
    "**Advantages** :\n",
    "- The probabilistic predictions returned decision tree are monotonically related to the target.\n",
    "- The new bins show decreased entropy, this is the observations within each bucket/bin are more similar to themselves than to those of other buckets/bins.\n",
    "- The tree finds the bins automatically.\n",
    "\n",
    "**Disadvantages**:\n",
    "- It may cause over-fitting\n",
    "- More importantly, some tuning of tree parameters might need to be done to obtain the optimal splits (e.g., depth, the minimum number of samples in one partition, the maximum number of partitions, and a minimum information gain). This it can be time-consuming.\n",
    "\n",
    "<u>Features to discretize</u>:\n",
    "- Age\n",
    "- DistanceFromHome\n",
    "- YearsAtCompany\n",
    "- YearsInCurrentRole\n",
    "- NumCompaniesWorked\n",
    "- MonthlyIncome\n",
    "- MonthlyHours\n",
    "\n",
    "- PercentSalaryHike\n",
    "- TaxRate"
   ]
  },
  {
   "cell_type": "code",
   "execution_count": 6,
   "metadata": {},
   "outputs": [],
   "source": [
    "X_train = df_cleaned.copy()\n",
    "X_test = df_ts.copy()"
   ]
  },
  {
   "cell_type": "code",
   "execution_count": 7,
   "metadata": {},
   "outputs": [],
   "source": [
    "def print_performed_encoding(column_name, train_encoded):\n",
    "    column_index = df_cleaned.columns.get_loc(column_name)\n",
    "    encoding_info = {}\n",
    "    for enc, i in zip(train_encoded, range(0, len(train_encoded))):\n",
    "        try:\n",
    "            tmp_list = encoding_info[str(enc)]\n",
    "            tmp_list.append(df_cleaned.iloc[i, column_index])\n",
    "            encoding_info[str(enc)] = tmp_list\n",
    "        except KeyError:\n",
    "            encoding_info[str(enc)] = [df_cleaned.iloc[i, column_index]]\n",
    "            \n",
    "    for key, value in encoding_info.items():\n",
    "        min_value = min(value)\n",
    "        max_value = max(value)\n",
    "        print(column_name, key, \"[%s-%s]\" %(min_value, max_value),sep=\"\\t\")"
   ]
  },
  {
   "cell_type": "code",
   "execution_count": 8,
   "metadata": {},
   "outputs": [],
   "source": [
    "def equal_frequency_discretizer(column_name, best_k):\n",
    "    discretizer = KBinsDiscretizer(n_bins=best_k, encode='ordinal', strategy='quantile').fit(X_train[[column_name]])\n",
    "    train_encoded = discretizer.transform(X_train[[column_name]]).astype(int)\n",
    "    test_encoded = discretizer.transform(X_test[[column_name]]).astype(int)\n",
    "    X_train[column_name] = train_encoded\n",
    "    X_test[column_name] = test_encoded\n",
    "    print_performed_encoding(column_name, train_encoded)"
   ]
  },
  {
   "cell_type": "markdown",
   "metadata": {},
   "source": [
    "<h6>Age </h6>\n",
    "Build a classification tree using the Age to predict Attrition in order to discretise the age variable"
   ]
  },
  {
   "cell_type": "code",
   "execution_count": 9,
   "metadata": {},
   "outputs": [
    {
     "name": "stdout",
     "output_type": "stream",
     "text": [
      "Age\t[5]\t[45-60]\n",
      "Age\t[3]\t[35-38]\n",
      "Age\t[0]\t[18-28]\n",
      "Age\t[2]\t[32-34]\n",
      "Age\t[1]\t[29-31]\n",
      "Age\t[4]\t[39-44]\n"
     ]
    }
   ],
   "source": [
    "best_k = 6\n",
    "column_name = \"Age\"\n",
    "equal_frequency_discretizer(column_name, best_k)"
   ]
  },
  {
   "cell_type": "markdown",
   "metadata": {},
   "source": [
    "<h6>DistanceFromHome </h6>\n",
    "Build a classification tree using the variable to predict Attrition in order to discretise it"
   ]
  },
  {
   "cell_type": "code",
   "execution_count": 10,
   "metadata": {},
   "outputs": [
    {
     "name": "stdout",
     "output_type": "stream",
     "text": [
      "DistanceFromHome\t[3]\t[7-9]\n",
      "DistanceFromHome\t[0]\t[1-1]\n",
      "DistanceFromHome\t[4]\t[10-18]\n",
      "DistanceFromHome\t[2]\t[3-6]\n",
      "DistanceFromHome\t[5]\t[19-29]\n",
      "DistanceFromHome\t[1]\t[2-2]\n"
     ]
    }
   ],
   "source": [
    "best_k = 6\n",
    "column_name = \"DistanceFromHome\"\n",
    "equal_frequency_discretizer(column_name, best_k)"
   ]
  },
  {
   "cell_type": "markdown",
   "metadata": {},
   "source": [
    "<h6> YearsAtCompany </h6>"
   ]
  },
  {
   "cell_type": "code",
   "execution_count": 11,
   "metadata": {},
   "outputs": [
    {
     "name": "stdout",
     "output_type": "stream",
     "text": [
      "YearsAtCompany\t[3]\t[7-9]\n",
      "YearsAtCompany\t[0]\t[0-1]\n",
      "YearsAtCompany\t[1]\t[2-4]\n",
      "YearsAtCompany\t[4]\t[10-20]\n",
      "YearsAtCompany\t[2]\t[5-6]\n"
     ]
    }
   ],
   "source": [
    "best_k = 5\n",
    "column_name = \"YearsAtCompany\"\n",
    "equal_frequency_discretizer(column_name, best_k)"
   ]
  },
  {
   "cell_type": "markdown",
   "metadata": {},
   "source": [
    "<h6> YearsInCurrentRole </h6>"
   ]
  },
  {
   "cell_type": "code",
   "execution_count": 12,
   "metadata": {},
   "outputs": [
    {
     "name": "stdout",
     "output_type": "stream",
     "text": [
      "YearsInCurrentRole\t[3]\t[7-16]\n",
      "YearsInCurrentRole\t[2]\t[3-6]\n",
      "YearsInCurrentRole\t[1]\t[2-2]\n",
      "YearsInCurrentRole\t[0]\t[0-1]\n"
     ]
    }
   ],
   "source": [
    "best_k = 4\n",
    "column_name = \"YearsInCurrentRole\"\n",
    "equal_frequency_discretizer(column_name, best_k)"
   ]
  },
  {
   "cell_type": "markdown",
   "metadata": {},
   "source": [
    "<h6> NumCompaniesWorked </h6>"
   ]
  },
  {
   "cell_type": "code",
   "execution_count": 13,
   "metadata": {},
   "outputs": [
    {
     "name": "stdout",
     "output_type": "stream",
     "text": [
      "NumCompaniesWorked\t[1]\t[2-9]\n",
      "NumCompaniesWorked\t[0]\t[0-1]\n"
     ]
    }
   ],
   "source": [
    "best_k = 2\n",
    "column_name = \"NumCompaniesWorked\"\n",
    "equal_frequency_discretizer(column_name, best_k)"
   ]
  },
  {
   "cell_type": "markdown",
   "metadata": {},
   "source": [
    "<h6> MonthlyIncome </h6>"
   ]
  },
  {
   "cell_type": "code",
   "execution_count": 14,
   "metadata": {},
   "outputs": [
    {
     "name": "stdout",
     "output_type": "stream",
     "text": [
      "MonthlyIncome\t[8]\t[8318-10400]\n",
      "MonthlyIncome\t[5]\t[4728-5410]\n",
      "MonthlyIncome\t[2]\t[2739-3306]\n",
      "MonthlyIncome\t[6]\t[5429-6384]\n",
      "MonthlyIncome\t[0]\t[1009-2311]\n",
      "MonthlyIncome\t[3]\t[3312-4060]\n",
      "MonthlyIncome\t[1]\t[2318-2725]\n",
      "MonthlyIncome\t[9]\t[10422-14961]\n",
      "MonthlyIncome\t[10]\t[15232-26997]\n",
      "MonthlyIncome\t[7]\t[6385-8268]\n",
      "MonthlyIncome\t[4]\t[4071-4724]\n"
     ]
    }
   ],
   "source": [
    "best_k = 11\n",
    "column_name = \"MonthlyIncome\"\n",
    "equal_frequency_discretizer(column_name, best_k)"
   ]
  },
  {
   "cell_type": "markdown",
   "metadata": {},
   "source": [
    "<h6> MonthlyHours </h6>"
   ]
  },
  {
   "cell_type": "code",
   "execution_count": 15,
   "metadata": {},
   "outputs": [
    {
     "name": "stdout",
     "output_type": "stream",
     "text": [
      "MonthlyHours\t[0]\t[26.04347826086957-163.67073170731706]\n",
      "MonthlyHours\t[2]\t[271.78205128205127-590.9767441860465]\n",
      "MonthlyHours\t[1]\t[163.70666666666668-271.75]\n"
     ]
    }
   ],
   "source": [
    "best_k = 3\n",
    "column_name = \"MonthlyHours\"\n",
    "equal_frequency_discretizer(column_name, best_k)"
   ]
  },
  {
   "cell_type": "markdown",
   "metadata": {},
   "source": [
    "<h6> PercentSalaryHike </h6>"
   ]
  },
  {
   "cell_type": "code",
   "execution_count": 16,
   "metadata": {},
   "outputs": [
    {
     "name": "stdout",
     "output_type": "stream",
     "text": [
      "PercentSalaryHike\t[2]\t[14-17]\n",
      "PercentSalaryHike\t[3]\t[18-25]\n",
      "PercentSalaryHike\t[1]\t[12-13]\n",
      "PercentSalaryHike\t[0]\t[11-11]\n"
     ]
    }
   ],
   "source": [
    "best_k = 4\n",
    "column_name = \"PercentSalaryHike\"\n",
    "equal_frequency_discretizer(column_name, best_k)"
   ]
  },
  {
   "cell_type": "markdown",
   "metadata": {},
   "source": [
    "<h6> TaxRate </h6>"
   ]
  },
  {
   "cell_type": "code",
   "execution_count": 17,
   "metadata": {},
   "outputs": [
    {
     "name": "stdout",
     "output_type": "stream",
     "text": [
      "TaxRate\t[1]\t[0.13020833333333334-0.5271877403703923]\n",
      "TaxRate\t[2]\t[0.528359484706026-0.7622001654259719]\n",
      "TaxRate\t[3]\t[0.7629205375665193-0.9513959334891722]\n",
      "TaxRate\t[0]\t[0.0-0.12925247468426446]\n"
     ]
    }
   ],
   "source": [
    "best_k = 4\n",
    "column_name = \"TaxRate\"\n",
    "equal_frequency_discretizer(column_name, best_k)"
   ]
  },
  {
   "cell_type": "markdown",
   "metadata": {},
   "source": [
    "<h6> OverallSatisfaction </h6>"
   ]
  },
  {
   "cell_type": "code",
   "execution_count": 18,
   "metadata": {},
   "outputs": [
    {
     "name": "stdout",
     "output_type": "stream",
     "text": [
      "OverallSatisfaction\t[2]\t[2.6-2.6]\n",
      "OverallSatisfaction\t[3]\t[2.8-2.8]\n",
      "OverallSatisfaction\t[5]\t[3.2-4.0]\n",
      "OverallSatisfaction\t[1]\t[2.4-2.4]\n",
      "OverallSatisfaction\t[4]\t[3.0-3.0]\n",
      "OverallSatisfaction\t[0]\t[1.2-2.2]\n"
     ]
    }
   ],
   "source": [
    "best_k = 6\n",
    "column_name = \"OverallSatisfaction\"\n",
    "equal_frequency_discretizer(column_name, best_k)"
   ]
  },
  {
   "cell_type": "markdown",
   "metadata": {},
   "source": [
    "<h2> Discretize variables and save them on new file </h2>"
   ]
  },
  {
   "cell_type": "code",
   "execution_count": 19,
   "metadata": {},
   "outputs": [
    {
     "name": "stdout",
     "output_type": "stream",
     "text": [
      "train DistanceFromHome [0, 1, 2, 3, 4, 5]\n",
      "test DistanceFromHome [0, 1, 2, 3, 4, 5]\n",
      "train YearsAtCompany [0, 1, 2, 3, 4]\n",
      "test YearsAtCompany [0, 1, 2, 3, 4]\n",
      "train YearsInCurrentRole [0, 1, 2, 3]\n",
      "test YearsInCurrentRole [0, 1, 2, 3]\n",
      "train NumCompaniesWorked [0, 1]\n",
      "test NumCompaniesWorked [0, 1]\n",
      "train MonthlyIncome [0, 1, 2, 3, 4, 5, 6, 7, 8, 9, 10]\n",
      "test MonthlyIncome [0, 1, 2, 3, 4, 5, 6, 7, 8, 9, 10]\n",
      "train PercentSalaryHike [0, 1, 2, 3]\n",
      "test PercentSalaryHike [0, 1, 2, 3]\n",
      "train TaxRate [0, 1, 2, 3]\n",
      "test TaxRate [0, 1, 2, 3]\n",
      "train Age [0, 1, 2, 3, 4, 5]\n",
      "test Age [0, 1, 2, 3, 4, 5]\n",
      "train MonthlyHours [0, 1, 2]\n",
      "test MonthlyHours [0, 1, 2]\n",
      "train OverallSatisfaction [0, 1, 2, 3, 4, 5]\n",
      "test OverallSatisfaction [0, 1, 2, 3, 4, 5]\n"
     ]
    }
   ],
   "source": [
    "discrete_variables = [\"DistanceFromHome\", \"YearsAtCompany\", \"YearsInCurrentRole\", \"NumCompaniesWorked\",\n",
    "                      \"MonthlyIncome\", \"PercentSalaryHike\", \"TaxRate\", \"Age\", \"MonthlyHours\", \"OverallSatisfaction\"]\n",
    "for var in discrete_variables:\n",
    "    print(\"train\", var, sorted(X_train[var].unique()))\n",
    "    print(\"test\", var, sorted(X_test[var].unique()))"
   ]
  },
  {
   "cell_type": "code",
   "execution_count": 20,
   "metadata": {},
   "outputs": [
    {
     "name": "stdout",
     "output_type": "stream",
     "text": [
      "(883, 24)\n",
      "(219, 24)\n"
     ]
    }
   ],
   "source": [
    "print(X_train.shape)\n",
    "print(X_test.shape)"
   ]
  },
  {
   "cell_type": "code",
   "execution_count": 21,
   "metadata": {},
   "outputs": [],
   "source": [
    "df1 = X_train.copy()\n",
    "df2 = X_test.copy()"
   ]
  },
  {
   "cell_type": "code",
   "execution_count": 22,
   "metadata": {},
   "outputs": [],
   "source": [
    "df1.to_csv(data_directory + \"Discretized_Quantile_Numerical_Encoding_Train_HR_Employee_Attrition.csv\", index=False, header=True)\n",
    "df2.to_csv(data_directory + \"Discretized_Quantile_Numerical_Encoding_Test_HR_Employee_Attrition.csv\", index=False, header=True)"
   ]
  },
  {
   "cell_type": "code",
   "execution_count": 23,
   "metadata": {},
   "outputs": [
    {
     "data": {
      "text/plain": [
       "(883, 24)"
      ]
     },
     "execution_count": 23,
     "metadata": {},
     "output_type": "execute_result"
    }
   ],
   "source": [
    "df_discretized = pd.read_csv(data_directory + \"Discretized_Quantile_Numerical_Encoding_Train_HR_Employee_Attrition.csv\", sep=\",\") \n",
    "df_discretized.shape"
   ]
  },
  {
   "cell_type": "code",
   "execution_count": 24,
   "metadata": {},
   "outputs": [
    {
     "data": {
      "text/plain": [
       "(219, 24)"
      ]
     },
     "execution_count": 24,
     "metadata": {},
     "output_type": "execute_result"
    }
   ],
   "source": [
    "df_discretized = pd.read_csv(data_directory + \"Discretized_Quantile_Numerical_Encoding_Test_HR_Employee_Attrition.csv\", sep=\",\") \n",
    "df_discretized.shape"
   ]
  }
 ],
 "metadata": {
  "kernelspec": {
   "display_name": "Python 3",
   "language": "python",
   "name": "python3"
  },
  "language_info": {
   "codemirror_mode": {
    "name": "ipython",
    "version": 3
   },
   "file_extension": ".py",
   "mimetype": "text/x-python",
   "name": "python",
   "nbconvert_exporter": "python",
   "pygments_lexer": "ipython3",
   "version": "3.6.9"
  }
 },
 "nbformat": 4,
 "nbformat_minor": 4
}
