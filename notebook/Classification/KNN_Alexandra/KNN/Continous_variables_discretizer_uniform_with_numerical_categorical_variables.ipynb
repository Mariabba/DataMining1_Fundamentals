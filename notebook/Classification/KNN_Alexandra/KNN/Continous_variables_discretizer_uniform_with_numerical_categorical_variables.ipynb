{
 "cells": [
  {
   "cell_type": "markdown",
   "metadata": {},
   "source": [
    "<b>Data mining project - 2020/21</b><br>\n",
    "<b>Author</b>: [Alexandra Bradan](https://github.com/alexandrabradan)<br>\n",
    "<b>Python version</b>: 3.x<br>\n",
    "<b>Last update: 07/01/2021<b>"
   ]
  },
  {
   "cell_type": "code",
   "execution_count": 1,
   "metadata": {},
   "outputs": [],
   "source": [
    "%matplotlib inline\n",
    "\n",
    "# general libraries\n",
    "import sys\n",
    "import math\n",
    "import operator\n",
    "import itertools\n",
    "import collections\n",
    "from pylab import MaxNLocator\n",
    "from collections import Counter\n",
    "from collections import defaultdict\n",
    "from IPython.display import Image\n",
    "\n",
    "# pandas libraries\n",
    "import pandas as pd\n",
    "from pandas import DataFrame\n",
    "from pandas.testing import assert_frame_equal\n",
    "\n",
    "# visualisation libraries\n",
    "import seaborn as sns\n",
    "import matplotlib.pyplot as plt\n",
    "\n",
    "# numpy libraries\n",
    "import numpy as np\n",
    "from numpy import std\n",
    "from numpy import mean\n",
    "from numpy import arange\n",
    "from numpy import unique\n",
    "from numpy import percentile\n",
    "\n",
    "# scipy libraries\n",
    "import scipy.stats as stats\n",
    "from scipy.stats import kstest\n",
    "from scipy.stats import normaltest\n",
    "\n",
    "# sklearn libraries\n",
    "from sklearn.impute import KNNImputer\n",
    "from sklearn.impute import SimpleImputer\n",
    "from sklearn.compose import ColumnTransformer\n",
    "from sklearn.preprocessing import MinMaxScaler\n",
    "from sklearn.preprocessing import OneHotEncoder\n",
    "from sklearn.preprocessing import OrdinalEncoder\n",
    "from sklearn.preprocessing import KBinsDiscretizer\n",
    "from sklearn.preprocessing import PolynomialFeatures\n",
    "from sklearn.experimental import enable_iterative_imputer  # explicitly require this experimental feature\n",
    "from sklearn.impute import IterativeImputer\n",
    "\n",
    "from sklearn import tree\n",
    "from sklearn.cluster import KMeans\n",
    "from sklearn.metrics import silhouette_score\n",
    "from sklearn.feature_selection import RFE\n",
    "from sklearn.metrics import confusion_matrix\n",
    "from sklearn.tree import DecisionTreeClassifier\n",
    "from sklearn.model_selection import GridSearchCV\n",
    "from sklearn.model_selection import cross_val_score\n",
    "from sklearn.model_selection import StratifiedKFold\n",
    "from sklearn.model_selection import train_test_split\n",
    "from imblearn.over_sampling import RandomOverSampler\n",
    "from imblearn.pipeline import Pipeline as imbPipeline\n",
    "from imblearn.pipeline import make_pipeline as imbmake_pipeline\n",
    "from imblearn.under_sampling import RandomUnderSampler\n",
    "from sklearn.model_selection import RandomizedSearchCV\n",
    "from sklearn.metrics import roc_curve, auc, roc_auc_score\n",
    "from sklearn.model_selection import RepeatedStratifiedKFold \n",
    "from sklearn.metrics import precision_recall_curve\n",
    "from sklearn.metrics import average_precision_score\n",
    "from sklearn.ensemble import RandomForestClassifier\n",
    "from sklearn.preprocessing import OneHotEncoder\n",
    "from sklearn.preprocessing import KBinsDiscretizer\n",
    "from sklearn.metrics import accuracy_score, f1_score, fbeta_score, recall_score, precision_score, classification_report, roc_auc_score "
   ]
  },
  {
   "cell_type": "code",
   "execution_count": 2,
   "metadata": {},
   "outputs": [],
   "source": [
    "data_directory = \"../../../data/\"\n",
    "plot_directory = \"../../../plots/DataUnderstanding/\"\n",
    "TR_file = data_directory + \"Train_HR_Employee_Attrition.csv\"\n",
    "TR_cleaned_file = data_directory + \"Numerical_Encoding_Train_HR_Employee_Attrition.csv\"\n",
    "TS_file = data_directory + \"Numerical_Encoding_Test_HR_Employee_Attrition.csv\""
   ]
  },
  {
   "cell_type": "code",
   "execution_count": 3,
   "metadata": {},
   "outputs": [],
   "source": [
    "df_cleaned = pd.read_csv(TR_cleaned_file, sep=\",\") \n",
    "df_ts = pd.read_csv(TS_file, sep=\",\") "
   ]
  },
  {
   "cell_type": "code",
   "execution_count": 4,
   "metadata": {},
   "outputs": [
    {
     "name": "stdout",
     "output_type": "stream",
     "text": [
      "<class 'pandas.core.frame.DataFrame'>\n",
      "RangeIndex: 883 entries, 0 to 882\n",
      "Data columns (total 24 columns):\n",
      " #   Column                    Non-Null Count  Dtype  \n",
      "---  ------                    --------------  -----  \n",
      " 0   Age                       883 non-null    int64  \n",
      " 1   Attrition                 883 non-null    int64  \n",
      " 2   BusinessTravel            883 non-null    int64  \n",
      " 3   DistanceFromHome          883 non-null    int64  \n",
      " 4   Education                 883 non-null    int64  \n",
      " 5   EnvironmentSatisfaction   883 non-null    int64  \n",
      " 6   Gender                    883 non-null    int64  \n",
      " 7   JobInvolvement            883 non-null    int64  \n",
      " 8   JobLevel                  883 non-null    int64  \n",
      " 9   JobRole                   883 non-null    int64  \n",
      " 10  JobSatisfaction           883 non-null    int64  \n",
      " 11  MonthlyIncome             883 non-null    int64  \n",
      " 12  NumCompaniesWorked        883 non-null    int64  \n",
      " 13  OverTime                  883 non-null    int64  \n",
      " 14  PercentSalaryHike         883 non-null    int64  \n",
      " 15  RelationshipSatisfaction  883 non-null    int64  \n",
      " 16  StockOptionLevel          883 non-null    int64  \n",
      " 17  TrainingTimesLastYear     883 non-null    int64  \n",
      " 18  WorkLifeBalance           883 non-null    int64  \n",
      " 19  YearsAtCompany            883 non-null    int64  \n",
      " 20  YearsInCurrentRole        883 non-null    int64  \n",
      " 21  MonthlyHours              883 non-null    float64\n",
      " 22  TaxRate                   883 non-null    float64\n",
      " 23  OverallSatisfaction       883 non-null    float64\n",
      "dtypes: float64(3), int64(21)\n",
      "memory usage: 165.7 KB\n"
     ]
    }
   ],
   "source": [
    "df_cleaned.info()"
   ]
  },
  {
   "cell_type": "code",
   "execution_count": 5,
   "metadata": {},
   "outputs": [
    {
     "name": "stdout",
     "output_type": "stream",
     "text": [
      "<class 'pandas.core.frame.DataFrame'>\n",
      "RangeIndex: 219 entries, 0 to 218\n",
      "Data columns (total 24 columns):\n",
      " #   Column                    Non-Null Count  Dtype  \n",
      "---  ------                    --------------  -----  \n",
      " 0   Age                       219 non-null    int64  \n",
      " 1   Attrition                 219 non-null    int64  \n",
      " 2   BusinessTravel            219 non-null    int64  \n",
      " 3   DistanceFromHome          219 non-null    int64  \n",
      " 4   Education                 219 non-null    int64  \n",
      " 5   EnvironmentSatisfaction   219 non-null    int64  \n",
      " 6   Gender                    219 non-null    int64  \n",
      " 7   JobInvolvement            219 non-null    int64  \n",
      " 8   JobLevel                  219 non-null    int64  \n",
      " 9   JobRole                   219 non-null    int64  \n",
      " 10  JobSatisfaction           219 non-null    int64  \n",
      " 11  MonthlyIncome             219 non-null    int64  \n",
      " 12  NumCompaniesWorked        219 non-null    int64  \n",
      " 13  OverTime                  219 non-null    int64  \n",
      " 14  PercentSalaryHike         219 non-null    int64  \n",
      " 15  RelationshipSatisfaction  219 non-null    int64  \n",
      " 16  StockOptionLevel          219 non-null    int64  \n",
      " 17  TrainingTimesLastYear     219 non-null    int64  \n",
      " 18  WorkLifeBalance           219 non-null    int64  \n",
      " 19  YearsAtCompany            219 non-null    int64  \n",
      " 20  YearsInCurrentRole        219 non-null    int64  \n",
      " 21  MonthlyHours              219 non-null    float64\n",
      " 22  TaxRate                   219 non-null    float64\n",
      " 23  OverallSatisfaction       219 non-null    float64\n",
      "dtypes: float64(3), int64(21)\n",
      "memory usage: 41.2 KB\n"
     ]
    }
   ],
   "source": [
    "df_ts.info()"
   ]
  },
  {
   "cell_type": "markdown",
   "metadata": {},
   "source": [
    "<h2> Discretisation approach </h2> \n",
    "Approaches to transform continuous variables into discrete ones. This process is also known as <b>binning</b>, with each bin being each interval. Discretization methods fall into 2 categories: \n",
    "\n",
    "- supervised: do not use any information, other than the variable distribution, to create the contiguous bins in which the values will be placed;\n",
    "- unsupervised: typically use target information in order to create bins or intervals.\n",
    "\n",
    "Since we are dealying with DT it is natural to use a **supervised discretisation method** with them:\n",
    "\n",
    "<u>Step 1</u>: First it trains a decision tree of limited depth (2, 3 or 4) using the variable we want to discretize to predict the target;\n",
    "\n",
    "<u>Step 2</u>: The original variable values are then replaced by the probability returned by the tree. The probability is the same for all the observations within a single bin, thus replacing by the probability is equivalent to grouping the observations within the cut-off decided by the decision tree.\n",
    "\n",
    "**Advantages** :\n",
    "- The probabilistic predictions returned decision tree are monotonically related to the target.\n",
    "- The new bins show decreased entropy, this is the observations within each bucket/bin are more similar to themselves than to those of other buckets/bins.\n",
    "- The tree finds the bins automatically.\n",
    "\n",
    "**Disadvantages**:\n",
    "- It may cause over-fitting\n",
    "- More importantly, some tuning of tree parameters might need to be done to obtain the optimal splits (e.g., depth, the minimum number of samples in one partition, the maximum number of partitions, and a minimum information gain). This it can be time-consuming.\n",
    "\n",
    "<u>Features to discretize</u>:\n",
    "- Age\n",
    "- DistanceFromHome\n",
    "- YearsAtCompany\n",
    "- YearsInCurrentRole\n",
    "- NumCompaniesWorked\n",
    "- MonthlyIncome\n",
    "- MonthlyHours\n",
    "\n",
    "- PercentSalaryHike\n",
    "- TaxRate"
   ]
  },
  {
   "cell_type": "code",
   "execution_count": 6,
   "metadata": {},
   "outputs": [],
   "source": [
    "X_train = df_cleaned.copy()\n",
    "X_test = df_ts.copy()"
   ]
  },
  {
   "cell_type": "code",
   "execution_count": 7,
   "metadata": {},
   "outputs": [],
   "source": [
    "def estimate_column_best_k(column_name):\n",
    "    sse= []\n",
    "    silhouette = []\n",
    "    for k in range(2, 21):\n",
    "        kmeans = KMeans(n_clusters=k, n_init=10, max_iter=100)\n",
    "        kmeans.fit(X_train[[column_name]]) # performing K-means clustering\n",
    "\n",
    "        sse.append(kmeans.inertia_) # storing the distorsion values\n",
    "        silhouette.append(silhouette_score(X_train[[column_name]], kmeans.labels_)) # storing the silhouette scores\n",
    "    # draw_sse_and_silhouette\n",
    "    f, axs = plt.subplots(nrows=2, figsize=(15,5))\n",
    "    plt.subplots_adjust(hspace=0.5)\n",
    "    axs[0].plot(range(2, len(sse[0:13]) + 2), sse[0:13])\n",
    "    axs[0].set_title('Sum Sqared Error for k = 2...12')\n",
    "    axs[0].set_ylabel('SEE')\n",
    "    axs[1].set_xlabel('K')\n",
    "\n",
    "    axs[1].plot(range(2, len(silhouette[0:13]) + 2), silhouette[0:13])\n",
    "    axs[1].set_title('Silhouette Score for k = 2...12')\n",
    "    axs[1].set_ylabel('SIL')\n",
    "    axs[0].set_xlabel('K')"
   ]
  },
  {
   "cell_type": "code",
   "execution_count": 8,
   "metadata": {},
   "outputs": [],
   "source": [
    "def print_performed_encoding(column_name, train_encoded):\n",
    "    column_index = df_cleaned.columns.get_loc(column_name)\n",
    "    encoding_info = {}\n",
    "    for enc, i in zip(train_encoded, range(0, len(train_encoded))):\n",
    "        try:\n",
    "            tmp_list = encoding_info[str(enc)]\n",
    "            tmp_list.append(df_cleaned.iloc[i, column_index])\n",
    "            encoding_info[str(enc)] = tmp_list\n",
    "        except KeyError:\n",
    "            encoding_info[str(enc)] = [df_cleaned.iloc[i, column_index]]\n",
    "            \n",
    "    for key, value in encoding_info.items():\n",
    "        min_value = min(value)\n",
    "        max_value = max(value)\n",
    "        print(column_name, key, \"[%s-%s]\" %(min_value, max_value),sep=\"\\t\")"
   ]
  },
  {
   "cell_type": "code",
   "execution_count": 9,
   "metadata": {},
   "outputs": [],
   "source": [
    "def uniform_discretizer(column_name, best_k):\n",
    "    discretizer = KBinsDiscretizer(n_bins=best_k, encode='ordinal', strategy='uniform').fit(X_train[[column_name]])\n",
    "    train_encoded = discretizer.transform(X_train[[column_name]]).astype(int)\n",
    "    test_encoded = discretizer.transform(X_test[[column_name]]).astype(int)\n",
    "    X_train[column_name] = train_encoded\n",
    "    X_test[column_name] = test_encoded\n",
    "    print_performed_encoding(column_name, train_encoded)"
   ]
  },
  {
   "cell_type": "markdown",
   "metadata": {},
   "source": [
    "<h6>Age </h6>\n",
    "Build a classification tree using the Age to predict Attrition in order to discretise the age variable"
   ]
  },
  {
   "cell_type": "code",
   "execution_count": 10,
   "metadata": {},
   "outputs": [
    {
     "name": "stdout",
     "output_type": "stream",
     "text": [
      "Age\t[4]\t[46-52]\n",
      "Age\t[2]\t[32-38]\n",
      "Age\t[1]\t[25-31]\n",
      "Age\t[0]\t[18-24]\n",
      "Age\t[3]\t[39-45]\n",
      "Age\t[5]\t[53-60]\n"
     ]
    }
   ],
   "source": [
    "best_k = 6\n",
    "column_name = \"Age\"\n",
    "uniform_discretizer(column_name, best_k)"
   ]
  },
  {
   "cell_type": "markdown",
   "metadata": {},
   "source": [
    "<h6>DistanceFromHome </h6>\n",
    "Build a classification tree using the variable to predict Attrition in order to discretise it"
   ]
  },
  {
   "cell_type": "code",
   "execution_count": 11,
   "metadata": {},
   "outputs": [
    {
     "name": "stdout",
     "output_type": "stream",
     "text": [
      "DistanceFromHome\t[1]\t[6-10]\n",
      "DistanceFromHome\t[0]\t[1-5]\n",
      "DistanceFromHome\t[3]\t[15-19]\n",
      "DistanceFromHome\t[5]\t[25-29]\n",
      "DistanceFromHome\t[2]\t[11-14]\n",
      "DistanceFromHome\t[4]\t[20-24]\n"
     ]
    }
   ],
   "source": [
    "# best_k = 12\n",
    "best_k = 6\n",
    "column_name = \"DistanceFromHome\"\n",
    "uniform_discretizer(column_name, best_k)"
   ]
  },
  {
   "cell_type": "markdown",
   "metadata": {},
   "source": [
    "<h6> YearsAtCompany </h6>"
   ]
  },
  {
   "cell_type": "code",
   "execution_count": 12,
   "metadata": {},
   "outputs": [
    {
     "name": "stdout",
     "output_type": "stream",
     "text": [
      "YearsAtCompany\t[2]\t[8-11]\n",
      "YearsAtCompany\t[0]\t[0-3]\n",
      "YearsAtCompany\t[1]\t[4-7]\n",
      "YearsAtCompany\t[3]\t[12-15]\n",
      "YearsAtCompany\t[4]\t[16-20]\n"
     ]
    }
   ],
   "source": [
    "# best_k = 12\n",
    "best_k = 5\n",
    "column_name = \"YearsAtCompany\"\n",
    "uniform_discretizer(column_name, best_k)"
   ]
  },
  {
   "cell_type": "markdown",
   "metadata": {},
   "source": [
    "<h6> YearsInCurrentRole </h6>"
   ]
  },
  {
   "cell_type": "code",
   "execution_count": 13,
   "metadata": {},
   "outputs": [
    {
     "name": "stdout",
     "output_type": "stream",
     "text": [
      "YearsInCurrentRole\t[1]\t[4-7]\n",
      "YearsInCurrentRole\t[2]\t[8-11]\n",
      "YearsInCurrentRole\t[0]\t[0-3]\n",
      "YearsInCurrentRole\t[3]\t[12-16]\n"
     ]
    }
   ],
   "source": [
    "# best_k = 9\n",
    "best_k = 4\n",
    "column_name = \"YearsInCurrentRole\"\n",
    "uniform_discretizer(column_name, best_k)"
   ]
  },
  {
   "cell_type": "markdown",
   "metadata": {},
   "source": [
    "<h6> NumCompaniesWorked </h6>"
   ]
  },
  {
   "cell_type": "code",
   "execution_count": 14,
   "metadata": {},
   "outputs": [
    {
     "name": "stdout",
     "output_type": "stream",
     "text": [
      "NumCompaniesWorked\t[1]\t[5-9]\n",
      "NumCompaniesWorked\t[0]\t[0-4]\n"
     ]
    }
   ],
   "source": [
    "# best_k = 7\n",
    "best_k = 2\n",
    "column_name = \"NumCompaniesWorked\"\n",
    "uniform_discretizer(column_name, best_k)"
   ]
  },
  {
   "cell_type": "markdown",
   "metadata": {},
   "source": [
    "<h6> MonthlyIncome </h6>"
   ]
  },
  {
   "cell_type": "code",
   "execution_count": 15,
   "metadata": {},
   "outputs": [
    {
     "name": "stdout",
     "output_type": "stream",
     "text": [
      "MonthlyIncome\t[3]\t[8224-10448]\n",
      "MonthlyIncome\t[1]\t[3372-5715]\n",
      "MonthlyIncome\t[0]\t[1009-3339]\n",
      "MonthlyIncome\t[2]\t[5747-8059]\n",
      "MonthlyIncome\t[5]\t[12930-14961]\n",
      "MonthlyIncome\t[6]\t[15232-17491]\n",
      "MonthlyIncome\t[4]\t[10475-12761]\n",
      "MonthlyIncome\t[10]\t[24907-26997]\n",
      "MonthlyIncome\t[9]\t[22670-24624]\n",
      "MonthlyIncome\t[7]\t[17689-19630]\n",
      "MonthlyIncome\t[8]\t[19921-22052]\n"
     ]
    }
   ],
   "source": [
    "# best_k = 3\n",
    "best_k = 11\n",
    "column_name = \"MonthlyIncome\"\n",
    "uniform_discretizer(column_name, best_k)"
   ]
  },
  {
   "cell_type": "markdown",
   "metadata": {},
   "source": [
    "<h6> MonthlyHours </h6>"
   ]
  },
  {
   "cell_type": "code",
   "execution_count": 16,
   "metadata": {},
   "outputs": [
    {
     "name": "stdout",
     "output_type": "stream",
     "text": [
      "MonthlyHours\t[0]\t[26.04347826086957-213.95744680851064]\n",
      "MonthlyHours\t[2]\t[403.135593220339-590.9767441860465]\n",
      "MonthlyHours\t[1]\t[214.38461538461542-401.75471698113205]\n"
     ]
    }
   ],
   "source": [
    "best_k = 3\n",
    "column_name = \"MonthlyHours\"\n",
    "uniform_discretizer(column_name, best_k)"
   ]
  },
  {
   "cell_type": "markdown",
   "metadata": {},
   "source": [
    "<h6> PercentSalaryHike </h6>"
   ]
  },
  {
   "cell_type": "code",
   "execution_count": 17,
   "metadata": {},
   "outputs": [
    {
     "name": "stdout",
     "output_type": "stream",
     "text": [
      "PercentSalaryHike\t[1]\t[15-17]\n",
      "PercentSalaryHike\t[0]\t[11-14]\n",
      "PercentSalaryHike\t[3]\t[22-25]\n",
      "PercentSalaryHike\t[2]\t[18-21]\n"
     ]
    }
   ],
   "source": [
    "# best_k = 8\n",
    "best_k = 4\n",
    "column_name = \"PercentSalaryHike\"\n",
    "uniform_discretizer(column_name, best_k)"
   ]
  },
  {
   "cell_type": "markdown",
   "metadata": {},
   "source": [
    "<h6> TaxRate </h6>"
   ]
  },
  {
   "cell_type": "code",
   "execution_count": 18,
   "metadata": {},
   "outputs": [
    {
     "name": "stdout",
     "output_type": "stream",
     "text": [
      "TaxRate\t[4]\t[0.38578498171125297-0.4754080403110965]\n",
      "TaxRate\t[7]\t[0.6661545847335574-0.7603383981744309]\n",
      "TaxRate\t[8]\t[0.7612710917123543-0.8559182118364237]\n",
      "TaxRate\t[2]\t[0.19085714285714286-0.28304261823413057]\n",
      "TaxRate\t[6]\t[0.5716970494267994-0.6658350226103228]\n",
      "TaxRate\t[9]\t[0.8566194430874451-0.9513959334891722]\n",
      "TaxRate\t[0]\t[0.0-0.09503916449086162]\n",
      "TaxRate\t[3]\t[0.2860106314015299-0.37822089169250506]\n",
      "TaxRate\t[5]\t[0.476064057549028-0.5692245229395047]\n",
      "TaxRate\t[1]\t[0.10514018691588783-0.18983516483516485]\n"
     ]
    }
   ],
   "source": [
    "# best_k = 3\n",
    "best_k = 10\n",
    "column_name = \"TaxRate\"\n",
    "uniform_discretizer(column_name, best_k)"
   ]
  },
  {
   "cell_type": "markdown",
   "metadata": {},
   "source": [
    "<h6> OverallSatisfaction </h6>"
   ]
  },
  {
   "cell_type": "code",
   "execution_count": 19,
   "metadata": {},
   "outputs": [
    {
     "name": "stdout",
     "output_type": "stream",
     "text": [
      "OverallSatisfaction\t[3]\t[2.4-2.6]\n",
      "OverallSatisfaction\t[4]\t[2.8-3.0]\n",
      "OverallSatisfaction\t[5]\t[3.2-3.4]\n",
      "OverallSatisfaction\t[6]\t[3.6-4.0]\n",
      "OverallSatisfaction\t[2]\t[2.0-2.2]\n",
      "OverallSatisfaction\t[0]\t[1.2-1.4]\n",
      "OverallSatisfaction\t[1]\t[1.6-1.8]\n"
     ]
    }
   ],
   "source": [
    "# best_k = 10\n",
    "best_k = 7\n",
    "column_name = \"OverallSatisfaction\"\n",
    "uniform_discretizer(column_name, best_k)"
   ]
  },
  {
   "cell_type": "markdown",
   "metadata": {},
   "source": [
    "<h2> Discretize variables and save them on new file </h2>"
   ]
  },
  {
   "cell_type": "code",
   "execution_count": 20,
   "metadata": {},
   "outputs": [
    {
     "name": "stdout",
     "output_type": "stream",
     "text": [
      "train DistanceFromHome [0, 1, 2, 3, 4, 5]\n",
      "test DistanceFromHome [0, 1, 2, 3, 4, 5]\n",
      "train YearsAtCompany [0, 1, 2, 3, 4]\n",
      "test YearsAtCompany [0, 1, 2, 3, 4]\n",
      "train YearsInCurrentRole [0, 1, 2, 3]\n",
      "test YearsInCurrentRole [0, 1, 2, 3]\n",
      "train NumCompaniesWorked [0, 1]\n",
      "test NumCompaniesWorked [0, 1]\n",
      "train MonthlyIncome [0, 1, 2, 3, 4, 5, 6, 7, 8, 9, 10]\n",
      "test MonthlyIncome [0, 1, 2, 3, 4, 5, 6, 7, 8, 9, 10]\n",
      "train PercentSalaryHike [0, 1, 2, 3]\n",
      "test PercentSalaryHike [0, 1, 2, 3]\n",
      "train TaxRate [0, 1, 2, 3, 4, 5, 6, 7, 8, 9]\n",
      "test TaxRate [0, 1, 2, 3, 4, 5, 6, 7, 8, 9]\n",
      "train Age [0, 1, 2, 3, 4, 5]\n",
      "test Age [0, 1, 2, 3, 4, 5]\n",
      "train MonthlyHours [0, 1, 2]\n",
      "test MonthlyHours [0, 1, 2]\n",
      "train OverallSatisfaction [0, 1, 2, 3, 4, 5, 6]\n",
      "test OverallSatisfaction [0, 1, 2, 3, 4, 5, 6]\n"
     ]
    }
   ],
   "source": [
    "discrete_variables = [\"DistanceFromHome\", \"YearsAtCompany\", \"YearsInCurrentRole\", \"NumCompaniesWorked\",\n",
    "                      \"MonthlyIncome\", \"PercentSalaryHike\", \"TaxRate\", \"Age\", \"MonthlyHours\", \"OverallSatisfaction\"]\n",
    "for var in discrete_variables:\n",
    "    print(\"train\", var, sorted(X_train[var].unique()))\n",
    "    print(\"test\", var, sorted(X_test[var].unique()))"
   ]
  },
  {
   "cell_type": "code",
   "execution_count": 21,
   "metadata": {},
   "outputs": [
    {
     "name": "stdout",
     "output_type": "stream",
     "text": [
      "(883, 24)\n",
      "(219, 24)\n"
     ]
    }
   ],
   "source": [
    "print(X_train.shape)\n",
    "print(X_test.shape)"
   ]
  },
  {
   "cell_type": "code",
   "execution_count": 22,
   "metadata": {},
   "outputs": [],
   "source": [
    "df1 = X_train.copy()\n",
    "df2 = X_test.copy()"
   ]
  },
  {
   "cell_type": "code",
   "execution_count": 23,
   "metadata": {},
   "outputs": [],
   "source": [
    "df1.to_csv(data_directory + \"Discretized_Uniform_Numerical_Encoding_Train_HR_Employee_Attrition.csv\", index=False, header=True)\n",
    "df2.to_csv(data_directory + \"Discretized_Uniform_Numerical_Encoding_Test_HR_Employee_Attrition.csv\", index=False, header=True)"
   ]
  },
  {
   "cell_type": "code",
   "execution_count": 24,
   "metadata": {},
   "outputs": [
    {
     "data": {
      "text/plain": [
       "(883, 24)"
      ]
     },
     "execution_count": 24,
     "metadata": {},
     "output_type": "execute_result"
    }
   ],
   "source": [
    "df_discretized = pd.read_csv(data_directory + \"Discretized_Uniform_Numerical_Encoding_Train_HR_Employee_Attrition.csv\", sep=\",\") \n",
    "df_discretized.shape"
   ]
  },
  {
   "cell_type": "code",
   "execution_count": 25,
   "metadata": {},
   "outputs": [
    {
     "data": {
      "text/plain": [
       "(219, 24)"
      ]
     },
     "execution_count": 25,
     "metadata": {},
     "output_type": "execute_result"
    }
   ],
   "source": [
    "df_discretized = pd.read_csv(data_directory + \"Discretized_Uniform_Numerical_Encoding_Test_HR_Employee_Attrition.csv\", sep=\",\") \n",
    "df_discretized.shape"
   ]
  }
 ],
 "metadata": {
  "kernelspec": {
   "display_name": "Python 3",
   "language": "python",
   "name": "python3"
  },
  "language_info": {
   "codemirror_mode": {
    "name": "ipython",
    "version": 3
   },
   "file_extension": ".py",
   "mimetype": "text/x-python",
   "name": "python",
   "nbconvert_exporter": "python",
   "pygments_lexer": "ipython3",
   "version": "3.6.9"
  }
 },
 "nbformat": 4,
 "nbformat_minor": 4
}
