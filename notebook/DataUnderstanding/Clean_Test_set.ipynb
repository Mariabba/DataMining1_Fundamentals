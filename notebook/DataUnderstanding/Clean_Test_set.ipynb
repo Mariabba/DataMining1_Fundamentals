{
 "cells": [
  {
   "cell_type": "markdown",
   "metadata": {},
   "source": [
    "<b>Data mining project - 2020/21</b><br>\n",
    "<b>Author</b>: [Alexandra Bradan](https://github.com/alexandrabradan)<br>\n",
    "<b>Python version</b>: 3.x<br>\n",
    "<b>Last update: 20/11/2020<b>"
   ]
  },
  {
   "cell_type": "code",
   "execution_count": 79,
   "metadata": {},
   "outputs": [],
   "source": [
    "%matplotlib inline\n",
    "\n",
    "# general libraries\n",
    "import sys\n",
    "import math\n",
    "import operator\n",
    "import itertools\n",
    "import pydotplus\n",
    "import collections\n",
    "import missingno as msno\n",
    "from pylab import MaxNLocator\n",
    "from collections import Counter\n",
    "from collections import defaultdict\n",
    "from IPython.display import Image\n",
    "\n",
    "# pandas libraries\n",
    "import pandas as pd\n",
    "from pandas import DataFrame\n",
    "from pandas.testing import assert_frame_equal\n",
    "\n",
    "# visualisation libraries\n",
    "import seaborn as sns\n",
    "import matplotlib.pyplot as plt\n",
    "from statsmodels.graphics.gofplots import qqplot\n",
    "\n",
    "# numpy libraries\n",
    "import numpy as np\n",
    "from numpy import std\n",
    "from numpy import mean\n",
    "from numpy import arange\n",
    "from numpy import argmax\n",
    "from numpy import unique\n",
    "from numpy import percentile\n",
    "\n",
    "# scipy libraries\n",
    "import scipy.stats as stats\n",
    "from scipy.stats import kstest\n",
    "from scipy.stats import normaltest\n",
    "\n",
    "# sklearn libraries\n",
    "from sklearn.impute import KNNImputer\n",
    "from sklearn.impute import SimpleImputer\n",
    "from sklearn.compose import ColumnTransformer\n",
    "from sklearn.preprocessing import MinMaxScaler\n",
    "from sklearn.preprocessing import OneHotEncoder\n",
    "from sklearn.preprocessing import OrdinalEncoder\n",
    "from sklearn.preprocessing import KBinsDiscretizer\n",
    "from sklearn.preprocessing import PolynomialFeatures\n",
    "from sklearn.experimental import enable_iterative_imputer  # explicitly require this experimental feature\n",
    "from sklearn.impute import IterativeImputer\n",
    "\n",
    "from sklearn import tree\n",
    "from sklearn.feature_selection import RFE\n",
    "from sklearn.metrics import confusion_matrix\n",
    "from sklearn.tree import DecisionTreeClassifier\n",
    "from sklearn.model_selection import GridSearchCV\n",
    "from sklearn.model_selection import cross_val_score\n",
    "from sklearn.model_selection import StratifiedKFold\n",
    "from sklearn.model_selection import train_test_split\n",
    "from imblearn.over_sampling import RandomOverSampler\n",
    "from imblearn.pipeline import Pipeline as imbPipeline\n",
    "from imblearn.pipeline import make_pipeline as imbmake_pipeline\n",
    "from imblearn.under_sampling import RandomUnderSampler\n",
    "from sklearn.model_selection import RandomizedSearchCV\n",
    "from sklearn.metrics import roc_curve, auc, roc_auc_score\n",
    "from sklearn.model_selection import RepeatedStratifiedKFold \n",
    "from sklearn.metrics import precision_recall_curve\n",
    "from sklearn.metrics import average_precision_score\n",
    "from sklearn.ensemble import RandomForestClassifier\n",
    "from sklearn.metrics import accuracy_score, f1_score, fbeta_score, recall_score, precision_score, classification_report, roc_auc_score "
   ]
  },
  {
   "cell_type": "code",
   "execution_count": 80,
   "metadata": {},
   "outputs": [],
   "source": [
    "data_directory = \"../../data/\"\n",
    "plot_directory = \"../../../plots/DataUnderstanding/\"\n",
    "TR_file = data_directory + \"Train_HR_Employee_Attrition.csv\"\n",
    "TR_cleaned_file = data_directory + \"Cleaned_Train_HR_Employee_Attrition.csv\"\n",
    "TS_file = data_directory + \"Test_HR_Employee_Attrition.csv\""
   ]
  },
  {
   "cell_type": "code",
   "execution_count": 81,
   "metadata": {},
   "outputs": [
    {
     "name": "stdout",
     "output_type": "stream",
     "text": [
      "<class 'pandas.core.frame.DataFrame'>\n",
      "RangeIndex: 294 entries, 0 to 293\n",
      "Data columns (total 33 columns):\n",
      " #   Column                    Non-Null Count  Dtype  \n",
      "---  ------                    --------------  -----  \n",
      " 0   Age                       258 non-null    float64\n",
      " 1   Attrition                 294 non-null    object \n",
      " 2   BusinessTravel            270 non-null    object \n",
      " 3   DailyRate                 294 non-null    int64  \n",
      " 4   Department                294 non-null    object \n",
      " 5   DistanceFromHome          294 non-null    int64  \n",
      " 6   Education                 294 non-null    int64  \n",
      " 7   EducationField            294 non-null    object \n",
      " 8   EnvironmentSatisfaction   294 non-null    int64  \n",
      " 9   Gender                    278 non-null    object \n",
      " 10  HourlyRate                294 non-null    int64  \n",
      " 11  JobInvolvement            294 non-null    int64  \n",
      " 12  JobLevel                  294 non-null    int64  \n",
      " 13  JobRole                   294 non-null    object \n",
      " 14  JobSatisfaction           294 non-null    int64  \n",
      " 15  MaritalStatus             294 non-null    object \n",
      " 16  MonthlyIncome             227 non-null    float64\n",
      " 17  MonthlyRate               294 non-null    int64  \n",
      " 18  NumCompaniesWorked        294 non-null    int64  \n",
      " 19  Over18                    198 non-null    object \n",
      " 20  OverTime                  294 non-null    object \n",
      " 21  PercentSalaryHike         294 non-null    int64  \n",
      " 22  PerformanceRating         260 non-null    float64\n",
      " 23  RelationshipSatisfaction  294 non-null    int64  \n",
      " 24  StandardHours             147 non-null    float64\n",
      " 25  StockOptionLevel          294 non-null    int64  \n",
      " 26  TotalWorkingYears         294 non-null    int64  \n",
      " 27  TrainingTimesLastYear     235 non-null    float64\n",
      " 28  WorkLifeBalance           294 non-null    int64  \n",
      " 29  YearsAtCompany            280 non-null    float64\n",
      " 30  YearsInCurrentRole        294 non-null    int64  \n",
      " 31  YearsSinceLastPromotion   294 non-null    int64  \n",
      " 32  YearsWithCurrManager      294 non-null    int64  \n",
      "dtypes: float64(6), int64(18), object(9)\n",
      "memory usage: 75.9+ KB\n"
     ]
    }
   ],
   "source": [
    "df = pd.read_csv(TS_file, sep=\",\") \n",
    "df.info()"
   ]
  },
  {
   "cell_type": "code",
   "execution_count": 82,
   "metadata": {},
   "outputs": [
    {
     "name": "stdout",
     "output_type": "stream",
     "text": [
      "Duplicate rows = \tFalse\n"
     ]
    }
   ],
   "source": [
    "# calculate duplicated rows\n",
    "dups = df.duplicated()\n",
    "# report if there are any duplicates\n",
    "print(\"Duplicate rows = \", dups.any(), sep=\"\\t\")\n",
    "\n",
    "# list all duplicate rows\n",
    "# print(df[dups])\n",
    "\n",
    "# delete duplicate rows\n",
    "# df.drop_duplicates(inplace=True)"
   ]
  },
  {
   "cell_type": "markdown",
   "metadata": {},
   "source": [
    "<h2> Add our 3 new features to Test Set </h2>"
   ]
  },
  {
   "cell_type": "code",
   "execution_count": 83,
   "metadata": {},
   "outputs": [
    {
     "data": {
      "text/plain": [
       "(294, 34)"
      ]
     },
     "execution_count": 83,
     "metadata": {},
     "output_type": "execute_result"
    }
   ],
   "source": [
    "# insert new feature \"OverallSatisfaction\"\n",
    "last_column_index = df.columns.get_loc(\"YearsWithCurrManager\")\n",
    "data = []\n",
    "for row in df[[\"EnvironmentSatisfaction\", \"JobInvolvement\", \"JobSatisfaction\",\"RelationshipSatisfaction\",\n",
    "        \"WorkLifeBalance\"]].itertuples():\n",
    "    tmp_list = []\n",
    "    tmp_list.append(row.EnvironmentSatisfaction)\n",
    "    tmp_list.append(row.JobInvolvement)\n",
    "    tmp_list.append(row.JobSatisfaction)\n",
    "    tmp_list.append(row.RelationshipSatisfaction)\n",
    "    tmp_list.append(row.WorkLifeBalance)\n",
    "    data.append(np.mean(tmp_list))  \n",
    "\n",
    "df.insert(last_column_index, 'OverallSatisfaction', data)\n",
    "df.shape"
   ]
  },
  {
   "cell_type": "code",
   "execution_count": 84,
   "metadata": {},
   "outputs": [
    {
     "data": {
      "text/plain": [
       "(294, 35)"
      ]
     },
     "execution_count": 84,
     "metadata": {},
     "output_type": "execute_result"
    }
   ],
   "source": [
    "# insert new feature \"TaxRate\"\n",
    "last_column_index = df.columns.get_loc(\"OverallSatisfaction\")\n",
    "data = []\n",
    "for row in df.itertuples():\n",
    "    if row.MonthlyRate > row.MonthlyIncome:\n",
    "        tax_rate = ((row.MonthlyRate - row.MonthlyIncome) / row.MonthlyRate)\n",
    "        try:\n",
    "            data.append(tax_rate)  # 2 decimals precision\n",
    "        except ValueError:  # omitt NaN values\n",
    "            data.append(np.NaN) \n",
    "    else:  # MonthlyIncome > MonthlyRate\n",
    "        data.append(np.NaN)  # for now put NaN \n",
    "\n",
    "df.insert(last_column_index, 'TaxRate', data)\n",
    "df.shape"
   ]
  },
  {
   "cell_type": "code",
   "execution_count": 85,
   "metadata": {},
   "outputs": [
    {
     "data": {
      "text/plain": [
       "(294, 36)"
      ]
     },
     "execution_count": 85,
     "metadata": {},
     "output_type": "execute_result"
    }
   ],
   "source": [
    "# insert new feature \"MonthlyHours\"\n",
    "last_column_index = df.columns.get_loc(\"TaxRate\")\n",
    "data = []\n",
    "for row in df.itertuples():\n",
    "    if row.MonthlyIncome > 0:\n",
    "        if row.MonthlyRate > row.MonthlyIncome:\n",
    "            monthly_hours = row.MonthlyRate / row.HourlyRate\n",
    "            try:\n",
    "                 data.append(monthly_hours) # 2 decimals precision\n",
    "            except ValueError:  # omitt NaN values\n",
    "                data.append(np.NaN) \n",
    "        else: # MonthlyIncome > MonthlyRate\n",
    "            monthly_hours = row.MonthlyIncome / row.HourlyRate\n",
    "            try:\n",
    "                data.append(monthly_hours) # 2 decimals precision\n",
    "            except ValueError:  # omitt NaN values\n",
    "                data.append(np.NaN) \n",
    "                \n",
    "    else:  # MonthlyIncome is NaN\n",
    "        monthly_hours = row.MonthlyRate / row.HourlyRate\n",
    "        try:\n",
    "             data.append(monthly_hours) # 2 decimals precision\n",
    "        except ValueError:  # omitt NaN values\n",
    "            data.append(np.NaN) \n",
    "        \n",
    "\n",
    "df.insert(last_column_index, 'MonthlyHours', data)\n",
    "df.shape"
   ]
  },
  {
   "cell_type": "markdown",
   "metadata": {},
   "source": [
    "<h2> Test set checkings </h2>"
   ]
  },
  {
   "cell_type": "code",
   "execution_count": 86,
   "metadata": {},
   "outputs": [],
   "source": [
    "def get_column1_greater_than_column2_difference(column_name1, column_name2):\n",
    "    column1_index = list(df.columns).index(column_name1)\n",
    "    column2_index = list(df.columns).index(column_name2)\n",
    "    tmp_list = []\n",
    "    for i in df.index[df[column_name1] > df[column_name2]]:\n",
    "        tmp_list.append(df.iloc[i, column1_index] - df.iloc[i, column2_index])\n",
    "    return tmp_list"
   ]
  },
  {
   "cell_type": "code",
   "execution_count": 87,
   "metadata": {},
   "outputs": [],
   "source": [
    "def get_age_difference(column_name2):\n",
    "    column_index = list(df.columns).index(column_name2)\n",
    "    tmp_list = []\n",
    "    i = 0\n",
    "    for row in df[[\"Age\", column_name2]].itertuples():\n",
    "        if row.Age - df.iloc[i, column_index] < 16:\n",
    "            tmp_list.append(i)\n",
    "        i += 1\n",
    "    return tmp_list"
   ]
  },
  {
   "cell_type": "code",
   "execution_count": 88,
   "metadata": {},
   "outputs": [
    {
     "name": "stdout",
     "output_type": "stream",
     "text": [
      "employees_who_work_more_than_24_hours =  40\n",
      "employees_who_work_more_than_30_days =  78\n",
      "employees_who_work_more_than_720_hours =  2\n"
     ]
    },
    {
     "data": {
      "image/png": "[encoded data removed]",
      "text/plain": [
       "<Figure size 1440x360 with 3 Axes>"
      ]
     },
     "metadata": {
      "needs_background": "light"
     },
     "output_type": "display_data"
    }
   ],
   "source": [
    "working_hours_in_a_month = []\n",
    "working_daily_hours = []\n",
    "working_days = []\n",
    "i = 0\n",
    "employees_who_work_more_than_720_hours = []\n",
    "for row in df.itertuples():\n",
    "    hours = row.DailyRate / row.HourlyRate\n",
    "    days = row.MonthlyRate / row.DailyRate\n",
    "    if row.MonthlyRate > row.MonthlyIncome:\n",
    "        m_hours = row.MonthlyRate / row.HourlyRate\n",
    "    else:\n",
    "        m_hours = row.MonthlyIncome / row.HourlyRate\n",
    "    working_daily_hours.append(hours)\n",
    "    working_days.append(days)\n",
    "    working_hours_in_a_month.append(m_hours)\n",
    "    if m_hours > 720:\n",
    "        employees_who_work_more_than_720_hours.append(i)\n",
    "    i += 1\n",
    "    \n",
    "fig = plt.subplots(figsize=(20, 5))\n",
    "fig_dims = (1, 3)\n",
    "\n",
    "ax = plt.subplot2grid(fig_dims, (0, 0))\n",
    "sns.distplot(working_daily_hours, kde=False)\n",
    "plt.xlabel(\"Daily working hours derived from MonthlyRate\")\n",
    "plt.ylabel(\"Frequencies\")\n",
    "\n",
    "ax = plt.subplot2grid(fig_dims, (0, 1))\n",
    "sns.distplot(working_days, kde=False)\n",
    "plt.xlabel(\"Monthly working days derived from MonthlyRate\")\n",
    "plt.ylabel(\"Frequencies\")\n",
    "\n",
    "ax = plt.subplot2grid(fig_dims, (0, 2))\n",
    "sns.distplot(working_hours_in_a_month, kde=False)\n",
    "plt.xlabel(\"Monthly working hours derived from MonthlyRate\")\n",
    "plt.ylabel(\"Frequencies\")\n",
    "\n",
    "employees_who_work_more_than_24_hours = len([x for x in working_daily_hours if x > 24])\n",
    "employees_who_work_more_than_30_days = len([x for x in working_days if x > 30])\n",
    "print(\"employees_who_work_more_than_24_hours = \", employees_who_work_more_than_24_hours)\n",
    "print(\"employees_who_work_more_than_30_days = \", employees_who_work_more_than_30_days)\n",
    "print(\"employees_who_work_more_than_720_hours = \", len(employees_who_work_more_than_720_hours))\n",
    "plt.show()"
   ]
  },
  {
   "cell_type": "code",
   "execution_count": 89,
   "metadata": {},
   "outputs": [
    {
     "name": "stdout",
     "output_type": "stream",
     "text": [
      "Age < TotalWorkingYears:  61\n",
      "Age < YearsAtCompany:  0\n",
      "Age < YearsInCurrentRole:  10\n",
      "Age < YearsSinceLastPromotion:  5\n",
      "Age < YearsWithCurrManager:  9\n"
     ]
    }
   ],
   "source": [
    "print(\"Age < TotalWorkingYears: \", len(get_age_difference(\"TotalWorkingYears\")))\n",
    "print(\"Age < YearsAtCompany: \", len(get_age_difference(\"YearsAtCompany\")))\n",
    "print(\"Age < YearsInCurrentRole: \", len(get_age_difference(\"YearsInCurrentRole\")))\n",
    "print(\"Age < YearsSinceLastPromotion: \", len(get_age_difference(\"YearsSinceLastPromotion\")))\n",
    "print(\"Age < YearsWithCurrManager: \", len(get_age_difference(\"YearsWithCurrManager\")))"
   ]
  },
  {
   "cell_type": "code",
   "execution_count": 90,
   "metadata": {},
   "outputs": [
    {
     "name": "stdout",
     "output_type": "stream",
     "text": [
      "YearsInCurrentRole > TotalWorkingYears:  0\n",
      "YearsAtCompany > TotalWorkingYears:  69\n",
      "YearsWithCurrManager > YearsAtCompany:  89\n",
      "YearsWithCurrManager > TotalWorkingYears:  0\n",
      "HourlyRate > DailyRate:  0\n",
      "HourlyRate > MonthlyRate:  0\n",
      "HourlyRate > MonthlyIncome:  0\n",
      "DailyRate > MonthlyRate:  0\n",
      "DailyRate > MonthlyIncome:  0\n",
      "YearsSinceLastPromotion > YearsInCurrentRole:  34\n",
      "YearsInCurrentRole > YearsAtCompany and NumCompaniesWorked = 0:  15\n",
      "YearsSinceLastPromotion > YearsAtCompany and NumCompaniesWorked = 0:  4\n"
     ]
    }
   ],
   "source": [
    "print(\"YearsInCurrentRole > TotalWorkingYears: \", len(get_column1_greater_than_column2_difference(\n",
    "                                                                  \"YearsInCurrentRole\", \"TotalWorkingYears\")))\n",
    "print(\"YearsAtCompany > TotalWorkingYears: \", len(get_column1_greater_than_column2_difference(\n",
    "                                                                    \"YearsAtCompany\", \"TotalWorkingYears\")))\n",
    "print(\"YearsWithCurrManager > YearsAtCompany: \", len(get_column1_greater_than_column2_difference(\n",
    "                                                                 \"YearsWithCurrManager\", \"YearsAtCompany\")))\n",
    "print(\"YearsWithCurrManager > TotalWorkingYears: \", len(get_column1_greater_than_column2_difference(\n",
    "                                                                 \"YearsWithCurrManager\", \"TotalWorkingYears\")))\n",
    "print(\"HourlyRate > DailyRate: \", len(get_column1_greater_than_column2_difference(\n",
    "                                                                                  \"HourlyRate\", \"DailyRate\")))\n",
    "print(\"HourlyRate > MonthlyRate: \", len(get_column1_greater_than_column2_difference(\n",
    "                                                                                  \"HourlyRate\", \"MonthlyRate\")))\n",
    "print(\"HourlyRate > MonthlyIncome: \", len(get_column1_greater_than_column2_difference(\n",
    "                                                                                \"HourlyRate\", \"MonthlyIncome\")))\n",
    "print(\"DailyRate > MonthlyRate: \", len(get_column1_greater_than_column2_difference(\n",
    "                                                                               \"DailyRate\", \"MonthlyRate\")))\n",
    "print(\"DailyRate > MonthlyIncome: \", len(get_column1_greater_than_column2_difference(\n",
    "                                                                                  \"DailyRate\", \"MonthlyIncome\")))\n",
    "print(\"YearsSinceLastPromotion > YearsInCurrentRole: \", len(get_column1_greater_than_column2_difference(\n",
    "                                                            \"YearsSinceLastPromotion\",  \"YearsInCurrentRole\")))\n",
    "tmp_res = df[(df[\"YearsInCurrentRole\"] > df[\"YearsAtCompany\"]) & (df[\"NumCompaniesWorked\"] == 0)].shape[0]\n",
    "print(\"YearsInCurrentRole > YearsAtCompany and NumCompaniesWorked = 0: \", tmp_res)\n",
    "tmp_res = df[(df[\"YearsSinceLastPromotion\"] > df[\"YearsAtCompany\"]) & (df[\"NumCompaniesWorked\"] == 0)].shape[0]\n",
    "print(\"YearsSinceLastPromotion > YearsAtCompany and NumCompaniesWorked = 0: \", tmp_res)"
   ]
  },
  {
   "cell_type": "code",
   "execution_count": 91,
   "metadata": {},
   "outputs": [
    {
     "name": "stdout",
     "output_type": "stream",
     "text": [
      "dropped rows = \t58\n"
     ]
    },
    {
     "data": {
      "text/plain": [
       "(236, 36)"
      ]
     },
     "execution_count": 91,
     "metadata": {},
     "output_type": "execute_result"
    }
   ],
   "source": [
    "# remove incosistent records\n",
    "to_drop_indexes = set()\n",
    "# add employees_who_work_more_than_720_hours to row's indexes to eliminate\n",
    "for elem in employees_who_work_more_than_720_hours:\n",
    "    to_drop_indexes.add(elem)\n",
    "\n",
    "to_drop_indexes = to_drop_indexes.union(set(list(df.index[df[\"DailyRate\"] > df[\"MonthlyIncome\"]])))\n",
    "to_drop_indexes = to_drop_indexes.union(set(get_age_difference(\"YearsInCurrentRole\")))\n",
    "to_drop_indexes = to_drop_indexes.union(set(get_age_difference(\"YearsSinceLastPromotion\")))\n",
    "to_drop_indexes = to_drop_indexes.union(set(list(df.index[df[\"YearsSinceLastPromotion\"] > df[\"YearsInCurrentRole\"]])))\n",
    "tmp_list = df.index[(df[\"YearsInCurrentRole\"] > df[\"YearsAtCompany\"]) & (df[\"NumCompaniesWorked\"] == 0)]\n",
    "to_drop_indexes = to_drop_indexes.union(set(tmp_list))\n",
    "tmp_list = df.index[(df[\"YearsSinceLastPromotion\"] > df[\"YearsAtCompany\"]) & (df[\"NumCompaniesWorked\"] == 0)]\n",
    "to_drop_indexes = to_drop_indexes.union(set(tmp_list))\n",
    "\n",
    "df.drop(list(to_drop_indexes), axis=0, inplace=True)\n",
    "df.reset_index(drop=True, inplace=True)\n",
    "print(\"dropped rows = \", len(to_drop_indexes), sep=\"\\t\")\n",
    "\n",
    "df.shape"
   ]
  },
  {
   "cell_type": "markdown",
   "metadata": {},
   "source": [
    "<h2> Switch MonthlyIncome and MonthlyRate rows, if MonthlyIncome >= MonthlyRate</h2> "
   ]
  },
  {
   "cell_type": "code",
   "execution_count": 92,
   "metadata": {},
   "outputs": [
    {
     "data": {
      "text/plain": [
       "37"
      ]
     },
     "execution_count": 92,
     "metadata": {},
     "output_type": "execute_result"
    }
   ],
   "source": [
    "df[(df[\"MonthlyIncome\"]) >= (df[\"MonthlyRate\"])].shape[0]"
   ]
  },
  {
   "cell_type": "code",
   "execution_count": 93,
   "metadata": {},
   "outputs": [
    {
     "data": {
      "text/plain": [
       "(236, 36)"
      ]
     },
     "execution_count": 93,
     "metadata": {},
     "output_type": "execute_result"
    }
   ],
   "source": [
    "index1 = df.columns.get_loc(\"MonthlyIncome\")\n",
    "index2 = df.columns.get_loc(\"MonthlyRate\")\n",
    "index3 = df.columns.get_loc(\"TaxRate\")\n",
    "\n",
    "# switch biased records \n",
    "data1 = []\n",
    "data2 = []\n",
    "for row in df.itertuples():\n",
    "    if row.MonthlyIncome > row.MonthlyRate:\n",
    "        data1.append(row.MonthlyRate)\n",
    "        data2.append(row.MonthlyIncome)\n",
    "    else:\n",
    "        data1.append(row.MonthlyIncome)\n",
    "        data2.append(row.MonthlyRate)\n",
    "\n",
    "# correct TaxRate feature \n",
    "data3 = []\n",
    "for i in range(0, len(data1)):\n",
    "    tax_rate = ((data2[i] - data1[i]) / data2[i])\n",
    "    try:\n",
    "        computed_income_floor = math.floor(data2[i] - data2[i]*tax_rate)\n",
    "        computed_income_ceil = math.ceil(data2[i] - data2[i]*tax_rate)\n",
    "        if computed_income_floor == data1[i] or computed_income_ceil == data1[i]:\n",
    "            data3.append(tax_rate)  \n",
    "        else:\n",
    "            print(\"error\")\n",
    "            sys.exit(-1)\n",
    "    except ValueError:  # omitt NaN values\n",
    "        data3.append(np.NaN) \n",
    "\n",
    "del df[\"MonthlyIncome\"]\n",
    "del df[\"MonthlyRate\"]\n",
    "del df[\"TaxRate\"]\n",
    "\n",
    "df.insert(index1, 'MonthlyIncome', data1)\n",
    "df.insert(index2, 'MonthlyRate', data2)\n",
    "df.insert(index3, 'TaxRate', data3)\n",
    "df.shape"
   ]
  },
  {
   "cell_type": "code",
   "execution_count": 94,
   "metadata": {},
   "outputs": [
    {
     "data": {
      "text/plain": [
       "0"
      ]
     },
     "execution_count": 94,
     "metadata": {},
     "output_type": "execute_result"
    }
   ],
   "source": [
    "df[(df[\"MonthlyIncome\"]) >= (df[\"MonthlyRate\"])].shape[0]"
   ]
  },
  {
   "cell_type": "markdown",
   "metadata": {},
   "source": [
    "<h2> Remove irrilevant features from Test Set </h2>"
   ]
  },
  {
   "cell_type": "code",
   "execution_count": 95,
   "metadata": {},
   "outputs": [
    {
     "name": "stdout",
     "output_type": "stream",
     "text": [
      "(236, 26)\n"
     ]
    }
   ],
   "source": [
    "to_drop = [\"MaritalStatus\", \"EducationField\", \"YearsSinceLastPromotion\", \n",
    "           \"HourlyRate\", \"DailyRate\", \"YearsWithCurrManager\", \"TotalWorkingYears\", \"Over18\",\n",
    "           \"PerformanceRating\", \"StandardHours\"]\n",
    "\n",
    "for column_name in to_drop:\n",
    "    del df[column_name]\n",
    "\n",
    "# check dropping output\n",
    "print(df.shape)"
   ]
  },
  {
   "cell_type": "code",
   "execution_count": 96,
   "metadata": {},
   "outputs": [
    {
     "name": "stdout",
     "output_type": "stream",
     "text": [
      "<class 'pandas.core.frame.DataFrame'>\n",
      "RangeIndex: 236 entries, 0 to 235\n",
      "Data columns (total 26 columns):\n",
      " #   Column                    Non-Null Count  Dtype  \n",
      "---  ------                    --------------  -----  \n",
      " 0   Age                       206 non-null    float64\n",
      " 1   Attrition                 236 non-null    object \n",
      " 2   BusinessTravel            217 non-null    object \n",
      " 3   Department                236 non-null    object \n",
      " 4   DistanceFromHome          236 non-null    int64  \n",
      " 5   Education                 236 non-null    int64  \n",
      " 6   EnvironmentSatisfaction   236 non-null    int64  \n",
      " 7   Gender                    223 non-null    object \n",
      " 8   JobInvolvement            236 non-null    int64  \n",
      " 9   JobLevel                  236 non-null    int64  \n",
      " 10  JobRole                   236 non-null    object \n",
      " 11  JobSatisfaction           236 non-null    int64  \n",
      " 12  MonthlyIncome             182 non-null    float64\n",
      " 13  MonthlyRate               236 non-null    float64\n",
      " 14  NumCompaniesWorked        236 non-null    int64  \n",
      " 15  OverTime                  236 non-null    object \n",
      " 16  PercentSalaryHike         236 non-null    int64  \n",
      " 17  RelationshipSatisfaction  236 non-null    int64  \n",
      " 18  StockOptionLevel          236 non-null    int64  \n",
      " 19  TrainingTimesLastYear     185 non-null    float64\n",
      " 20  WorkLifeBalance           236 non-null    int64  \n",
      " 21  YearsAtCompany            224 non-null    float64\n",
      " 22  YearsInCurrentRole        236 non-null    int64  \n",
      " 23  MonthlyHours              236 non-null    float64\n",
      " 24  TaxRate                   182 non-null    float64\n",
      " 25  OverallSatisfaction       236 non-null    float64\n",
      "dtypes: float64(8), int64(12), object(6)\n",
      "memory usage: 48.1+ KB\n"
     ]
    }
   ],
   "source": [
    "df.info()"
   ]
  },
  {
   "cell_type": "markdown",
   "metadata": {},
   "source": [
    "<h2>Save cleaned Test Set on file</h2> "
   ]
  },
  {
   "cell_type": "code",
   "execution_count": 97,
   "metadata": {},
   "outputs": [],
   "source": [
    "df.to_csv(data_directory + \"Cleaned_Test_HR_Employee_Attrition.csv\", index=False, header=True)"
   ]
  }
 ],
 "metadata": {
  "kernelspec": {
   "display_name": "Python 3",
   "language": "python",
   "name": "python3"
  },
  "language_info": {
   "codemirror_mode": {
    "name": "ipython",
    "version": 3
   },
   "file_extension": ".py",
   "mimetype": "text/x-python",
   "name": "python",
   "nbconvert_exporter": "python",
   "pygments_lexer": "ipython3",
   "version": "3.8.3"
  }
 },
 "nbformat": 4,
 "nbformat_minor": 4
}
