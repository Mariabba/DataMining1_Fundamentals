{
 "cells": [
  {
   "cell_type": "markdown",
   "metadata": {},
   "source": [
    "<b>Data mining project - 2020/21</b><br>\n",
    "<b>Authors</b>: [Alexandra Bradan](https://github.com/alexandrabradan), [Marianna Abbattista](https://github.com/Mariabba), [Eleonora Cocciu](https://github.com/eleonoracocciu) and [Dafina Leva](https://github.com/dafina-95)<br>\n",
    "<b>Python version</b>: 3.x<br>\n",
    "<b>Last update: 20/11/2020<b>"
   ]
  },
  {
   "cell_type": "code",
   "execution_count": 2243,
   "metadata": {},
   "outputs": [],
   "source": [
    "%matplotlib inline\n",
    "\n",
    "# general libraries\n",
    "import os\n",
    "import sys\n",
    "import math\n",
    "import statistics\n",
    "import collections\n",
    "import missingno as msno\n",
    "from pylab import MaxNLocator\n",
    "from collections import defaultdict\n",
    "\n",
    "# pandas libraries\n",
    "import pandas as pd\n",
    "from pandas import DataFrame\n",
    "from pandas.testing import assert_frame_equal\n",
    "\n",
    "# visualisation libraries\n",
    "import seaborn as sns\n",
    "import matplotlib.pyplot as plt\n",
    "from statsmodels.graphics.gofplots import qqplot\n",
    "\n",
    "# numpy libraries\n",
    "import numpy as np\n",
    "from numpy import std\n",
    "from numpy import mean\n",
    "from numpy import percentile\n",
    "\n",
    "# scipy libraries\n",
    "from scipy.stats import pearsonr\n",
    "\n",
    "# sklearn libraries\n",
    "from sklearn.impute import KNNImputer\n",
    "from sklearn.pipeline import Pipeline\n",
    "from sklearn.impute import SimpleImputer\n",
    "from sklearn.compose import ColumnTransformer\n",
    "from sklearn.preprocessing import MinMaxScaler\n",
    "from sklearn.preprocessing import OneHotEncoder\n",
    "from sklearn.preprocessing import OrdinalEncoder\n",
    "from sklearn.preprocessing import KBinsDiscretizer\n",
    "from sklearn.preprocessing import PolynomialFeatures\n",
    "from sklearn.experimental import enable_iterative_imputer  # explicitly require this experimental feature\n",
    "from sklearn.impute import IterativeImputer"
   ]
  },
  {
   "cell_type": "code",
   "execution_count": 2244,
   "metadata": {},
   "outputs": [],
   "source": [
    "data_directory = \"../../data/\"\n",
    "plot_directory = \"../../plots/DataUnderstanding/\"\n",
    "TR_file = data_directory + \"Train_HR_Employee_Attrition.csv\"\n",
    "TS_file = data_directory + \"Test_HR_Employee_Attrition.csv\""
   ]
  },
  {
   "cell_type": "markdown",
   "metadata": {},
   "source": [
    "<h1> Data understanding </h1>"
   ]
  },
  {
   "cell_type": "code",
   "execution_count": 2245,
   "metadata": {},
   "outputs": [],
   "source": [
    "df = pd.read_csv(TR_file, sep=\",\") "
   ]
  },
  {
   "cell_type": "code",
   "execution_count": 2246,
   "metadata": {},
   "outputs": [
    {
     "data": {
      "text/html": [
       "<div>\n",
       "<style scoped>\n",
       "    .dataframe tbody tr th:only-of-type {\n",
       "        vertical-align: middle;\n",
       "    }\n",
       "\n",
       "    .dataframe tbody tr th {\n",
       "        vertical-align: top;\n",
       "    }\n",
       "\n",
       "    .dataframe thead th {\n",
       "        text-align: right;\n",
       "    }\n",
       "</style>\n",
       "<table border=\"1\" class=\"dataframe\">\n",
       "  <thead>\n",
       "    <tr style=\"text-align: right;\">\n",
       "      <th></th>\n",
       "      <th>Age</th>\n",
       "      <th>Attrition</th>\n",
       "      <th>BusinessTravel</th>\n",
       "      <th>DailyRate</th>\n",
       "      <th>Department</th>\n",
       "      <th>DistanceFromHome</th>\n",
       "      <th>Education</th>\n",
       "      <th>EducationField</th>\n",
       "      <th>EnvironmentSatisfaction</th>\n",
       "      <th>Gender</th>\n",
       "      <th>...</th>\n",
       "      <th>RelationshipSatisfaction</th>\n",
       "      <th>StandardHours</th>\n",
       "      <th>StockOptionLevel</th>\n",
       "      <th>TotalWorkingYears</th>\n",
       "      <th>TrainingTimesLastYear</th>\n",
       "      <th>WorkLifeBalance</th>\n",
       "      <th>YearsAtCompany</th>\n",
       "      <th>YearsInCurrentRole</th>\n",
       "      <th>YearsSinceLastPromotion</th>\n",
       "      <th>YearsWithCurrManager</th>\n",
       "    </tr>\n",
       "  </thead>\n",
       "  <tbody>\n",
       "    <tr>\n",
       "      <th>0</th>\n",
       "      <td>52.00</td>\n",
       "      <td>No</td>\n",
       "      <td>Travel_Rarely</td>\n",
       "      <td>593</td>\n",
       "      <td>Research &amp; Development</td>\n",
       "      <td>9</td>\n",
       "      <td>4</td>\n",
       "      <td>Medical</td>\n",
       "      <td>2</td>\n",
       "      <td>Male</td>\n",
       "      <td>...</td>\n",
       "      <td>3</td>\n",
       "      <td>80.00</td>\n",
       "      <td>0</td>\n",
       "      <td>20</td>\n",
       "      <td>2.00</td>\n",
       "      <td>2</td>\n",
       "      <td>8.00</td>\n",
       "      <td>7</td>\n",
       "      <td>2</td>\n",
       "      <td>13</td>\n",
       "    </tr>\n",
       "    <tr>\n",
       "      <th>1</th>\n",
       "      <td>36.00</td>\n",
       "      <td>No</td>\n",
       "      <td>Travel_Rarely</td>\n",
       "      <td>1218</td>\n",
       "      <td>Research &amp; Development</td>\n",
       "      <td>1</td>\n",
       "      <td>1</td>\n",
       "      <td>Life Sciences</td>\n",
       "      <td>2</td>\n",
       "      <td>Male</td>\n",
       "      <td>...</td>\n",
       "      <td>3</td>\n",
       "      <td>80.00</td>\n",
       "      <td>1</td>\n",
       "      <td>21</td>\n",
       "      <td>3.00</td>\n",
       "      <td>3</td>\n",
       "      <td>1.00</td>\n",
       "      <td>8</td>\n",
       "      <td>1</td>\n",
       "      <td>6</td>\n",
       "    </tr>\n",
       "    <tr>\n",
       "      <th>2</th>\n",
       "      <td>nan</td>\n",
       "      <td>No</td>\n",
       "      <td>Travel_Frequently</td>\n",
       "      <td>530</td>\n",
       "      <td>Sales</td>\n",
       "      <td>16</td>\n",
       "      <td>3</td>\n",
       "      <td>Life Sciences</td>\n",
       "      <td>3</td>\n",
       "      <td>NaN</td>\n",
       "      <td>...</td>\n",
       "      <td>3</td>\n",
       "      <td>nan</td>\n",
       "      <td>1</td>\n",
       "      <td>7</td>\n",
       "      <td>4.00</td>\n",
       "      <td>3</td>\n",
       "      <td>1.00</td>\n",
       "      <td>5</td>\n",
       "      <td>1</td>\n",
       "      <td>2</td>\n",
       "    </tr>\n",
       "    <tr>\n",
       "      <th>3</th>\n",
       "      <td>33.00</td>\n",
       "      <td>No</td>\n",
       "      <td>Travel_Rarely</td>\n",
       "      <td>953</td>\n",
       "      <td>Research &amp; Development</td>\n",
       "      <td>5</td>\n",
       "      <td>4</td>\n",
       "      <td>Technical Degree</td>\n",
       "      <td>2</td>\n",
       "      <td>Male</td>\n",
       "      <td>...</td>\n",
       "      <td>2</td>\n",
       "      <td>nan</td>\n",
       "      <td>0</td>\n",
       "      <td>12</td>\n",
       "      <td>1.00</td>\n",
       "      <td>3</td>\n",
       "      <td>3.00</td>\n",
       "      <td>7</td>\n",
       "      <td>0</td>\n",
       "      <td>7</td>\n",
       "    </tr>\n",
       "    <tr>\n",
       "      <th>4</th>\n",
       "      <td>nan</td>\n",
       "      <td>No</td>\n",
       "      <td>Travel_Rarely</td>\n",
       "      <td>1380</td>\n",
       "      <td>Research &amp; Development</td>\n",
       "      <td>9</td>\n",
       "      <td>2</td>\n",
       "      <td>Life Sciences</td>\n",
       "      <td>3</td>\n",
       "      <td>Female</td>\n",
       "      <td>...</td>\n",
       "      <td>3</td>\n",
       "      <td>80.00</td>\n",
       "      <td>0</td>\n",
       "      <td>2</td>\n",
       "      <td>nan</td>\n",
       "      <td>3</td>\n",
       "      <td>10.00</td>\n",
       "      <td>2</td>\n",
       "      <td>2</td>\n",
       "      <td>1</td>\n",
       "    </tr>\n",
       "  </tbody>\n",
       "</table>\n",
       "<p>5 rows × 33 columns</p>\n",
       "</div>"
      ],
      "text/plain": [
       "    Age Attrition     BusinessTravel  DailyRate              Department  \\\n",
       "0 52.00        No      Travel_Rarely        593  Research & Development   \n",
       "1 36.00        No      Travel_Rarely       1218  Research & Development   \n",
       "2   nan        No  Travel_Frequently        530                   Sales   \n",
       "3 33.00        No      Travel_Rarely        953  Research & Development   \n",
       "4   nan        No      Travel_Rarely       1380  Research & Development   \n",
       "\n",
       "   DistanceFromHome  Education    EducationField  EnvironmentSatisfaction  \\\n",
       "0                 9          4           Medical                        2   \n",
       "1                 1          1     Life Sciences                        2   \n",
       "2                16          3     Life Sciences                        3   \n",
       "3                 5          4  Technical Degree                        2   \n",
       "4                 9          2     Life Sciences                        3   \n",
       "\n",
       "   Gender  ...  RelationshipSatisfaction  StandardHours  StockOptionLevel  \\\n",
       "0    Male  ...                         3          80.00                 0   \n",
       "1    Male  ...                         3          80.00                 1   \n",
       "2     NaN  ...                         3            nan                 1   \n",
       "3    Male  ...                         2            nan                 0   \n",
       "4  Female  ...                         3          80.00                 0   \n",
       "\n",
       "  TotalWorkingYears  TrainingTimesLastYear WorkLifeBalance  YearsAtCompany  \\\n",
       "0                20                   2.00               2            8.00   \n",
       "1                21                   3.00               3            1.00   \n",
       "2                 7                   4.00               3            1.00   \n",
       "3                12                   1.00               3            3.00   \n",
       "4                 2                    nan               3           10.00   \n",
       "\n",
       "   YearsInCurrentRole  YearsSinceLastPromotion YearsWithCurrManager  \n",
       "0                   7                        2                   13  \n",
       "1                   8                        1                    6  \n",
       "2                   5                        1                    2  \n",
       "3                   7                        0                    7  \n",
       "4                   2                        2                    1  \n",
       "\n",
       "[5 rows x 33 columns]"
      ]
     },
     "execution_count": 2246,
     "metadata": {},
     "output_type": "execute_result"
    }
   ],
   "source": [
    "df.head()  # first rows sneak peek"
   ]
  },
  {
   "cell_type": "markdown",
   "metadata": {},
   "source": [
    "<h6> Columns' data type and number of non-null elements identification </h6>"
   ]
  },
  {
   "cell_type": "code",
   "execution_count": 2247,
   "metadata": {},
   "outputs": [
    {
     "name": "stdout",
     "output_type": "stream",
     "text": [
      "<class 'pandas.core.frame.DataFrame'>\n",
      "RangeIndex: 1176 entries, 0 to 1175\n",
      "Data columns (total 33 columns):\n",
      " #   Column                    Non-Null Count  Dtype  \n",
      "---  ------                    --------------  -----  \n",
      " 0   Age                       1000 non-null   float64\n",
      " 1   Attrition                 1176 non-null   object \n",
      " 2   BusinessTravel            1069 non-null   object \n",
      " 3   DailyRate                 1176 non-null   int64  \n",
      " 4   Department                1176 non-null   object \n",
      " 5   DistanceFromHome          1176 non-null   int64  \n",
      " 6   Education                 1176 non-null   int64  \n",
      " 7   EducationField            1176 non-null   object \n",
      " 8   EnvironmentSatisfaction   1176 non-null   int64  \n",
      " 9   Gender                    1117 non-null   object \n",
      " 10  HourlyRate                1176 non-null   int64  \n",
      " 11  JobInvolvement            1176 non-null   int64  \n",
      " 12  JobLevel                  1176 non-null   int64  \n",
      " 13  JobRole                   1176 non-null   object \n",
      " 14  JobSatisfaction           1176 non-null   int64  \n",
      " 15  MaritalStatus             1176 non-null   object \n",
      " 16  MonthlyIncome             963 non-null    float64\n",
      " 17  MonthlyRate               1176 non-null   int64  \n",
      " 18  NumCompaniesWorked        1176 non-null   int64  \n",
      " 19  Over18                    804 non-null    object \n",
      " 20  OverTime                  1176 non-null   object \n",
      " 21  PercentSalaryHike         1176 non-null   int64  \n",
      " 22  PerformanceRating         1038 non-null   float64\n",
      " 23  RelationshipSatisfaction  1176 non-null   int64  \n",
      " 24  StandardHours             606 non-null    float64\n",
      " 25  StockOptionLevel          1176 non-null   int64  \n",
      " 26  TotalWorkingYears         1176 non-null   int64  \n",
      " 27  TrainingTimesLastYear     943 non-null    float64\n",
      " 28  WorkLifeBalance           1176 non-null   int64  \n",
      " 29  YearsAtCompany            1116 non-null   float64\n",
      " 30  YearsInCurrentRole        1176 non-null   int64  \n",
      " 31  YearsSinceLastPromotion   1176 non-null   int64  \n",
      " 32  YearsWithCurrManager      1176 non-null   int64  \n",
      "dtypes: float64(6), int64(18), object(9)\n",
      "memory usage: 303.3+ KB\n"
     ]
    }
   ],
   "source": [
    "df.info() # DataFrame's summary"
   ]
  },
  {
   "cell_type": "markdown",
   "metadata": {},
   "source": [
    "Our dataframe contains 33 columns and 1175 rows. The following 8 columns have <b>missing values</b>:\n",
    "- Age;\n",
    "- BusinessTravel;\n",
    "- Gender;\n",
    "- MonthlyIncome;\n",
    "- Over18;\n",
    "- PerformanceRating;\n",
    "- StandardHours;\n",
    "- TrainingTimesLastYear. \n",
    "\n",
    "The missing values will be replaced in section <b>Missing data imputation</b>. \n",
    "\n",
    "Since all 9 objects columns are <b>nominal/ordinal attributes</b>, they must be converted to integer values:\n",
    "- Attrition;\n",
    "- BusinessTravel;\n",
    "- Department;\n",
    "- EducationField;\n",
    "- Gender;\n",
    "- JobRole;\n",
    "- MaritalStatus;\n",
    "- Over18;\n",
    "- OverTime.\n",
    "\n",
    "The categorical/ordinal attributes will be encoded in section <b>Type conversion (Part 1)</b>.\n",
    "\n",
    "All 6 float64 columns have <b>misinterpreted data types</b> (ideally, it's better to express thems as int64):\n",
    "- Age;\n",
    "- MonthlyIncome;\n",
    "- PerformanceRating;\n",
    "- StandardHours;\n",
    "- TrainingTimesLastYear\n",
    "- YearsAtCompany.\n",
    "\n",
    "The misinterpreted data types will be converted in section <b>Type conversion (Part 2)</b>.\n",
    "\n",
    "We will see that some columns are non meaningful to our analysis in section <b>Dimensionality Reduction (Part 1)</b> and others are correlated among them, as described in section <b>Dimensionality Reduction (Part 2)</b>.\n",
    "    \n",
    "Finally, we will perform discretisation on some of our numerical features in section <b>Data discretisation </b> and we will extract some additional and useful features in section <b>Additional feature extraction</b>."
   ]
  },
  {
   "cell_type": "markdown",
   "metadata": {},
   "source": [
    "<h6>Graphical visualize null values</h6>"
   ]
  },
  {
   "cell_type": "code",
   "execution_count": 2248,
   "metadata": {},
   "outputs": [
    {
     "data": {
      "text/plain": [
       "<matplotlib.axes._subplots.AxesSubplot at 0x7f6b2bbb2eb0>"
      ]
     },
     "execution_count": 2248,
     "metadata": {},
     "output_type": "execute_result"
    },
    {
     "data": {
      "image/png": "[encoded data removed]",
      "text/plain": [
       "<Figure size 1800x720 with 2 Axes>"
      ]
     },
     "metadata": {
      "needs_background": "light"
     },
     "output_type": "display_data"
    }
   ],
   "source": [
    "msno.matrix(df)"
   ]
  },
  {
   "cell_type": "markdown",
   "metadata": {},
   "source": [
    "The <b>missingno library</b> confirms that our dataset has the above 9 missing features."
   ]
  },
  {
   "cell_type": "markdown",
   "metadata": {},
   "source": [
    "<h2> New feature extraction</h2>\n",
    "\n",
    "Often, the input features for a predictive modeling task interact in unexpected. For example, it is common to add new variables that represent the interaction between given features, e.g a new column that represents one variable multiplied by another.\n",
    "\n",
    "In our dataset we consider meanigful the addition of the following features:\n",
    "- <b>OverallSatisfaction</b>, expressed as:\n",
    "$$\\dfrac{EnvironmentSatisfaction + JobInvolvement + JobSatisfaction + RelationshipSatisfaction + WorkLifeBalance}{N}$$\n",
    "- <b>TaxRate</b>, expressed as:\n",
    "$$\\dfrac{MonthlyRate - MonthlyIncome}{MonthlyRate} $$\n",
    "- <b>MonthlyHours</b>, expressed as:\n",
    "$$\\dfrac{MonthlyRate}{HourlyRate}$$"
   ]
  },
  {
   "cell_type": "code",
   "execution_count": 2249,
   "metadata": {},
   "outputs": [
    {
     "data": {
      "text/plain": [
       "(1176, 34)"
      ]
     },
     "execution_count": 2249,
     "metadata": {},
     "output_type": "execute_result"
    }
   ],
   "source": [
    "# insert new feature \"OverallSatisfaction\"\n",
    "last_column_index = df.columns.get_loc(\"YearsWithCurrManager\")\n",
    "data = []\n",
    "for row in df[[\"EnvironmentSatisfaction\", \"JobInvolvement\", \"JobSatisfaction\",\"RelationshipSatisfaction\",\n",
    "        \"WorkLifeBalance\"]].itertuples():\n",
    "    tmp_list = []\n",
    "    tmp_list.append(row.EnvironmentSatisfaction)\n",
    "    tmp_list.append(row.JobInvolvement)\n",
    "    tmp_list.append(row.JobSatisfaction)\n",
    "    tmp_list.append(row.RelationshipSatisfaction)\n",
    "    tmp_list.append(row.WorkLifeBalance)\n",
    "    data.append(math.floor(np.mean(tmp_list)))  # rounded down\n",
    "\n",
    "df.insert(last_column_index, 'OverallSatisfaction', data)\n",
    "df.shape"
   ]
  },
  {
   "cell_type": "code",
   "execution_count": 2250,
   "metadata": {},
   "outputs": [
    {
     "data": {
      "text/plain": [
       "(1176, 35)"
      ]
     },
     "execution_count": 2250,
     "metadata": {},
     "output_type": "execute_result"
    }
   ],
   "source": [
    "# insert new feature \"TaxRate\"\n",
    "last_column_index = df.columns.get_loc(\"OverallSatisfaction\")\n",
    "data = []\n",
    "for row in df.itertuples():\n",
    "    if row.MonthlyRate > row.MonthlyIncome:\n",
    "        tax_rate = ((row.MonthlyRate - row.MonthlyIncome) / row.MonthlyRate)\n",
    "        try:\n",
    "            data.append(round(tax_rate, 2))  # 2 decimals precision\n",
    "        except ValueError:  # omitt NaN values\n",
    "            data.append(np.NaN) \n",
    "    else:  # MonthlyIncome > MonthlyRate\n",
    "        data.append(np.NaN)  # for now put NaN \n",
    "\n",
    "df.insert(last_column_index, 'TaxRate', data)\n",
    "df.shape"
   ]
  },
  {
   "cell_type": "code",
   "execution_count": 2251,
   "metadata": {},
   "outputs": [
    {
     "data": {
      "text/plain": [
       "(1176, 36)"
      ]
     },
     "execution_count": 2251,
     "metadata": {},
     "output_type": "execute_result"
    }
   ],
   "source": [
    "# insert new feature \"MonthlyHours\"\n",
    "last_column_index = df.columns.get_loc(\"TaxRate\")\n",
    "data = []\n",
    "for row in df.itertuples():\n",
    "    if row.MonthlyIncome > 0:\n",
    "        if row.MonthlyRate > row.MonthlyIncome:\n",
    "            monthly_hours = row.MonthlyRate / row.HourlyRate\n",
    "            try:\n",
    "                 data.append(round(monthly_hours, 2)) # 2 decimals precision\n",
    "            except ValueError:  # omitt NaN values\n",
    "                data.append(np.NaN) \n",
    "        else: # MonthlyIncome > MonthlyRate\n",
    "            monthly_hours = row.MonthlyIncome / row.HourlyRate\n",
    "            try:\n",
    "                data.append(round(monthly_hours, 2)) # 2 decimals precision\n",
    "            except ValueError:  # omitt NaN values\n",
    "                data.append(np.NaN) \n",
    "                \n",
    "    else:  # MonthlyIncome is NaN\n",
    "        monthly_hours = row.MonthlyRate / row.HourlyRate\n",
    "        try:\n",
    "             data.append(round(monthly_hours, 2)) # 2 decimals precision\n",
    "        except ValueError:  # omitt NaN values\n",
    "            data.append(np.NaN) \n",
    "        \n",
    "\n",
    "df.insert(last_column_index, 'MonthlyHours', data)\n",
    "df.shape"
   ]
  },
  {
   "cell_type": "markdown",
   "metadata": {},
   "source": [
    "By adding the additional feature TaxRate, we notice that some taxes have a negative value, which is explained due to the presence of records having MonthlyIncome > MonthlyRate. We will try to solve this problem in section <b> Inconsistent values elimination </b>."
   ]
  },
  {
   "cell_type": "markdown",
   "metadata": {},
   "source": [
    "<h6> Rows that contain duplicate data identification </h6>"
   ]
  },
  {
   "cell_type": "code",
   "execution_count": 2252,
   "metadata": {},
   "outputs": [
    {
     "name": "stdout",
     "output_type": "stream",
     "text": [
      "Duplicate rows = \tFalse\n"
     ]
    }
   ],
   "source": [
    "# calculate duplicated rows\n",
    "dups = df.duplicated()\n",
    "# report if there are any duplicates\n",
    "print(\"Duplicate rows = \", dups.any(), sep=\"\\t\")\n",
    "\n",
    "# list all duplicate rows\n",
    "# print(df[dups])\n",
    "\n",
    "# delete duplicate rows\n",
    "# df.drop_duplicates(inplace=True)"
   ]
  },
  {
   "cell_type": "markdown",
   "metadata": {},
   "source": [
    "<h6>Inconsistent values elimination</h6>"
   ]
  },
  {
   "cell_type": "markdown",
   "metadata": {},
   "source": [
    "We notice that in our dataset some records have unconstrained records, such as rows having:\n",
    "- <b>MonthlyIncome < DailyRate</b>;\n",
    "- <b>Age - TotalworkingYears < 16</b>;\n",
    "- <b>Age - YearsAtCompany < 16</b>;\n",
    "- <b>TotalworkingYears < YearsAtCompany</b>;\n",
    "- <b>YearsInCurrentRole < YearsSinceLastPromotion</b>;\n",
    "- <b>YearsAtCompany < YearsInCurrentRole</b> and <b>NumCompaniesWorked = 0</b>;\n",
    "- <b>YearsAtCompany < YearsSinceLastPromotion</b> and <b>NumCompaniesWorked = 0</b>;\n",
    "- <b>YearsAtCompany < YearsWithCurrManager</b>;\n",
    "- <b>MonthlyRate < MonthlyIncome</b>.\n",
    "    \n",
    "We think the above records are incosistent, since:\n",
    "- MonthlyIncome is the result of DailyRate multiplies by the number of working days in a month, from which is subtracted taxes and additional levies. For this reason ideally MonthlyIncome must be greater than DailyRate;\n",
    "- stating IBM's policies (https://www.ibm.com/ibm/responsibility/policy11.shtml), the company doesn't use child labor, where the term \"child\" refers to any employed person under the age of 16;\n",
    "- for the same reason of above, an employee can't work in the current company under the age of 16;\n",
    "- ideally, an employee's years at company counts his contract working years at the company, so this value has to be smaller or equal the total number of his working years;\n",
    "- years since last promotion must be at least equal to the years in current job, smaller if in the promotion years are counted jobrole's advancement levels;\n",
    "- if an employee is in his current jobrole more years than he is working in the current company, he must had worked at least in a previous company;\n",
    "- if last employee's promotion is elder than his working yearst at the current company, he must had worked at least in a previous company;\n",
    "- an employee's years with current manager must be within his working years at the current company;\n",
    "- since \"MonthlyIncome\" equals the net income and \"MonthlyRate\" equals the groos income, the first must be smaller  the second.\n",
    "    \n",
    "For the above mentioned reasons, we will drop some of the above inconsistent records or features."
   ]
  },
  {
   "cell_type": "code",
   "execution_count": 2253,
   "metadata": {},
   "outputs": [],
   "source": [
    "def get_pearson_correlation_coefficient(column_name1, column_name2):\n",
    "    # normalized values received as input\n",
    "    x = df[[column_name1]].fillna(0)\n",
    "    y = df[[column_name2]].fillna(0)\n",
    "    min_max_scaler = MinMaxScaler()\n",
    "    x_scaled = min_max_scaler.fit_transform(x)[:, 0]\n",
    "    y_scaled = min_max_scaler.fit_transform(y)[:, 0]\n",
    "\n",
    "    corr, _ = pearsonr(x_scaled, y_scaled)\n",
    "    return corr"
   ]
  },
  {
   "cell_type": "code",
   "execution_count": 2254,
   "metadata": {},
   "outputs": [],
   "source": [
    "def get_age_difference(column_name2):\n",
    "    column_index = list(df.columns).index(column_name2)\n",
    "    tmp_list = []\n",
    "    i = 0\n",
    "    for row in df[[\"Age\", column_name2]].itertuples():\n",
    "        if row.Age - df.iloc[i, column_index] < 16:\n",
    "            tmp_list.append(i)\n",
    "        i += 1\n",
    "    return tmp_list"
   ]
  },
  {
   "cell_type": "code",
   "execution_count": 2255,
   "metadata": {},
   "outputs": [],
   "source": [
    "def get_column1_greater_than_column2_difference(column_name1, column_name2):\n",
    "    column1_index = list(df.columns).index(column_name1)\n",
    "    column2_index = list(df.columns).index(column_name2)\n",
    "    tmp_list = []\n",
    "    for i in df.index[df[column_name1] > df[column_name2]]:\n",
    "        tmp_list.append(df.iloc[i, column1_index] - df.iloc[i, column2_index])\n",
    "    return tmp_list"
   ]
  },
  {
   "cell_type": "code",
   "execution_count": 2256,
   "metadata": {},
   "outputs": [
    {
     "name": "stdout",
     "output_type": "stream",
     "text": [
      "employees_who_work_more_than_24_hours =  130\n",
      "employees_who_work_more_than_30_days =  341\n",
      "employees_who_work_more_than_720_hours =  7\n"
     ]
    },
    {
     "data": {
      "image/png": "[encoded data removed]",
      "text/plain": [
       "<Figure size 1440x360 with 3 Axes>"
      ]
     },
     "metadata": {
      "needs_background": "light"
     },
     "output_type": "display_data"
    }
   ],
   "source": [
    "working_hours_in_a_month = []\n",
    "working_daily_hours = []\n",
    "working_days = []\n",
    "i = 0\n",
    "employees_who_work_more_than_720_hours = []\n",
    "for row in df.itertuples():\n",
    "    hours = row.DailyRate / row.HourlyRate\n",
    "    days = row.MonthlyRate / row.DailyRate\n",
    "    if row.MonthlyRate > row.MonthlyIncome:\n",
    "        m_hours = row.MonthlyRate / row.HourlyRate\n",
    "    else:\n",
    "        m_hours = row.MonthlyIncome / row.HourlyRate\n",
    "    working_daily_hours.append(hours)\n",
    "    working_days.append(days)\n",
    "    working_hours_in_a_month.append(m_hours)\n",
    "    if m_hours > 720:\n",
    "        employees_who_work_more_than_720_hours.append(i)\n",
    "    i += 1\n",
    "    \n",
    "fig = plt.subplots(figsize=(20, 5))\n",
    "fig_dims = (1, 3)\n",
    "\n",
    "ax = plt.subplot2grid(fig_dims, (0, 0))\n",
    "sns.distplot(working_daily_hours, kde=False)\n",
    "plt.xlabel(\"Daily working hours derived from MonthlyRate\")\n",
    "plt.ylabel(\"Frequencies\")\n",
    "\n",
    "ax = plt.subplot2grid(fig_dims, (0, 1))\n",
    "sns.distplot(working_days, kde=False)\n",
    "plt.xlabel(\"Monthly working days derived from MonthlyRate\")\n",
    "plt.ylabel(\"Frequencies\")\n",
    "\n",
    "ax = plt.subplot2grid(fig_dims, (0, 2))\n",
    "sns.distplot(working_hours_in_a_month, kde=False)\n",
    "plt.xlabel(\"Monthly working hours derived from MonthlyRate\")\n",
    "plt.ylabel(\"Frequencies\")\n",
    "\n",
    "employees_who_work_more_than_24_hours = len([x for x in working_daily_hours if x > 24])\n",
    "employees_who_work_more_than_30_days = len([x for x in working_days if x > 30])\n",
    "print(\"employees_who_work_more_than_24_hours = \", employees_who_work_more_than_24_hours)\n",
    "print(\"employees_who_work_more_than_30_days = \", employees_who_work_more_than_30_days)\n",
    "print(\"employees_who_work_more_than_720_hours = \", len(employees_who_work_more_than_720_hours))\n",
    "plt.show()"
   ]
  },
  {
   "cell_type": "code",
   "execution_count": 2257,
   "metadata": {},
   "outputs": [
    {
     "name": "stdout",
     "output_type": "stream",
     "text": [
      "Age < TotalWorkingYears:  154\n",
      "Age < YearsAtCompany:  0\n",
      "Age < YearsInCurrentRole:  24\n",
      "Age < YearsSinceLastPromotion:  10\n",
      "Age < YearsWithCurrManager:  20\n"
     ]
    }
   ],
   "source": [
    "print(\"Age < TotalWorkingYears: \", len(get_age_difference(\"TotalWorkingYears\")))\n",
    "print(\"Age < YearsAtCompany: \", len(get_age_difference(\"YearsAtCompany\")))\n",
    "print(\"Age < YearsInCurrentRole: \", len(get_age_difference(\"YearsInCurrentRole\")))\n",
    "print(\"Age < YearsSinceLastPromotion: \", len(get_age_difference(\"YearsSinceLastPromotion\")))\n",
    "print(\"Age < YearsWithCurrManager: \", len(get_age_difference(\"YearsWithCurrManager\")))"
   ]
  },
  {
   "cell_type": "code",
   "execution_count": 2258,
   "metadata": {},
   "outputs": [
    {
     "name": "stdout",
     "output_type": "stream",
     "text": [
      "YearsInCurrentRole > TotalWorkingYears:  0\n",
      "YearsAtCompany > TotalWorkingYears:  321\n",
      "YearsWithCurrManager > YearsAtCompany:  361\n",
      "YearsWithCurrManager > TotalWorkingYears:  0\n",
      "HourlyRate > DailyRate:  0\n",
      "HourlyRate > MonthlyRate:  0\n",
      "HourlyRate > MonthlyIncome:  0\n",
      "DailyRate > MonthlyRate:  0\n",
      "DailyRate > MonthlyIncome:  1\n",
      "avg DailyRate - MonthlyIncome 55.0\n",
      "YearsSinceLastPromotion > YearsInCurrentRole:  125\n",
      "YearsInCurrentRole > YearsAtCompany and NumCompaniesWorked = 0:  56\n",
      "YearsSinceLastPromotion > YearsAtCompany and NumCompaniesWorked = 0:  23\n"
     ]
    }
   ],
   "source": [
    "print(\"YearsInCurrentRole > TotalWorkingYears: \", len(get_column1_greater_than_column2_difference(\n",
    "                                                                  \"YearsInCurrentRole\", \"TotalWorkingYears\")))\n",
    "print(\"YearsAtCompany > TotalWorkingYears: \", len(get_column1_greater_than_column2_difference(\n",
    "                                                                    \"YearsAtCompany\", \"TotalWorkingYears\")))\n",
    "print(\"YearsWithCurrManager > YearsAtCompany: \", len(get_column1_greater_than_column2_difference(\n",
    "                                                                 \"YearsWithCurrManager\", \"YearsAtCompany\")))\n",
    "print(\"YearsWithCurrManager > TotalWorkingYears: \", len(get_column1_greater_than_column2_difference(\n",
    "                                                                 \"YearsWithCurrManager\", \"TotalWorkingYears\")))\n",
    "print(\"HourlyRate > DailyRate: \", len(get_column1_greater_than_column2_difference(\n",
    "                                                                                  \"HourlyRate\", \"DailyRate\")))\n",
    "print(\"HourlyRate > MonthlyRate: \", len(get_column1_greater_than_column2_difference(\n",
    "                                                                                  \"HourlyRate\", \"MonthlyRate\")))\n",
    "print(\"HourlyRate > MonthlyIncome: \", len(get_column1_greater_than_column2_difference(\n",
    "                                                                                \"HourlyRate\", \"MonthlyIncome\")))\n",
    "print(\"DailyRate > MonthlyRate: \", len(get_column1_greater_than_column2_difference(\n",
    "                                                                               \"DailyRate\", \"MonthlyRate\")))\n",
    "print(\"DailyRate > MonthlyIncome: \", len(get_column1_greater_than_column2_difference(\n",
    "                                                                                  \"DailyRate\", \"MonthlyIncome\")))\n",
    "print(\"avg DailyRate - MonthlyIncome\", np.mean(get_column1_greater_than_column2_difference(\n",
    "                                                                                  \"DailyRate\", \"MonthlyIncome\")))\n",
    "print(\"YearsSinceLastPromotion > YearsInCurrentRole: \", len(get_column1_greater_than_column2_difference(\n",
    "                                                            \"YearsSinceLastPromotion\",  \"YearsInCurrentRole\")))\n",
    "tmp_res = df[(df[\"YearsInCurrentRole\"] > df[\"YearsAtCompany\"]) & (df[\"NumCompaniesWorked\"] == 0)].shape[0]\n",
    "print(\"YearsInCurrentRole > YearsAtCompany and NumCompaniesWorked = 0: \", tmp_res)\n",
    "tmp_res = df[(df[\"YearsSinceLastPromotion\"] > df[\"YearsAtCompany\"]) & (df[\"NumCompaniesWorked\"] == 0)].shape[0]\n",
    "print(\"YearsSinceLastPromotion > YearsAtCompany and NumCompaniesWorked = 0: \", tmp_res)"
   ]
  },
  {
   "cell_type": "code",
   "execution_count": 2259,
   "metadata": {},
   "outputs": [
    {
     "name": "stdout",
     "output_type": "stream",
     "text": [
      "avg MonthlyIncome - row.DailyRate =  5762.359667359668\n"
     ]
    }
   ],
   "source": [
    "tmp_list = []\n",
    "for row in df[[\"DailyRate\", \"MonthlyIncome\"]].itertuples():\n",
    "    if row.MonthlyIncome > row.DailyRate:\n",
    "        tmp_list.append(row.MonthlyIncome - row.DailyRate)\n",
    "print(\"avg MonthlyIncome - row.DailyRate = \", np.mean(tmp_list))"
   ]
  },
  {
   "cell_type": "markdown",
   "metadata": {},
   "source": [
    "By taking into account the validity of \"Age\" and \"YearsAtCompany\" features (all records have Age - YearsAtCompany < 16), we can drop the following <b>incosistent features</b>:\n",
    "- <b>TotalWorkingYears</b>: 154 records have Age - TotalworkingYears < 16 and since 321 additional records have YearsAtCompany > TotalWorkingYears, with an average difference of 6.741 between them, we think \"TotalWorkingYears\" is a biased feature (too high values in the first case, too small in the second), so we will drop it;\n",
    "- <b>YearsWithCurrManager</b>:  20 records have Age - YearsWithCurrManager < 16 and 361 record have YearsWithCurrManager > YearsAtCompany, which again we reputate to be semantically wrong.\n",
    "\n",
    "These two features elimination is justified also by their meaningful positive correlation:\n",
    "- TotalWorkingYears has a <b>+0.774</b> Pearson Correlation Coefficient with JobLevel;\n",
    "- YearsWithCurrManager has a <b>+0.711</b> Pearson Correlation Coefficient with YearsInCurrentRole.\n",
    "\n",
    "By taking into account the validity of \"MonthlyIncome\" and \"MonthlyRate\" features (in fact, we were able to derive the column \"TaxRate\" by their relationship), can drop the following <b>incosistent features</b>:\n",
    "- <b>DailyRate</b>: we tried dividing MonthlyRate with DailyRate to found out employee's working days in a month, but we obtained incosistent values for 341 records;\n",
    "\n",
    "We tried dividing DailyRate with HourlyRate to found out employee's working hours in a day, but we obtained incosistent values for 130 records and since DailyRate is quite strange from above, we aren't sure from the other features, too. By dividing MonthlyRate with HourlyRate, however, we found employee's working hours in a month, which with the exception of <b>9 biased records</b> (they worked more than 24hours*30 days=720hours at month), are quite consistent. For this reason we will keep HourlyRate column, dropping only the DailyRate one.\n",
    "    \n",
    "We will drop the following inconsistent records, too:\n",
    "- 1 record has MonthlyIncome < DailyRate, since their difference is equal to 55 (the average difference between MonthlyIncome and DailyRate is 5762.359 in our Dafadrame);\n",
    "- 24 records have Age - YearsInCurrentRole < 16;\n",
    "- 10 records have Age - YearsSinceLastPromotion < 16;\n",
    "- 56 records have YearsAtCompany < YearsInCurrentRole and NumCompaniesWorked = 0;\n",
    "- 23 records have YearsAtCompany < YearsSinceLastPromotion and NumCompaniesWorked = 0;\n",
    "- 125 records have YearsInCurrentRole < YearsSinceLastPromotion."
   ]
  },
  {
   "cell_type": "code",
   "execution_count": 2260,
   "metadata": {},
   "outputs": [
    {
     "name": "stdout",
     "output_type": "stream",
     "text": [
      "Pearsons correlation: 0.774\n"
     ]
    }
   ],
   "source": [
    "print('Pearsons correlation: %.3f' % get_pearson_correlation_coefficient(\"TotalWorkingYears\", \n",
    "                                                                                         \"JobLevel\"))"
   ]
  },
  {
   "cell_type": "code",
   "execution_count": 2261,
   "metadata": {},
   "outputs": [
    {
     "name": "stdout",
     "output_type": "stream",
     "text": [
      "Pearsons correlation: 0.711\n"
     ]
    }
   ],
   "source": [
    "print('Pearsons correlation: %.3f' % get_pearson_correlation_coefficient(\"YearsWithCurrManager\", \n",
    "                                                                                         \"YearsInCurrentRole\"))"
   ]
  },
  {
   "cell_type": "code",
   "execution_count": 2262,
   "metadata": {},
   "outputs": [
    {
     "name": "stdout",
     "output_type": "stream",
     "text": [
      "dropped rows = \t199\n"
     ]
    },
    {
     "data": {
      "text/plain": [
       "(977, 33)"
      ]
     },
     "execution_count": 2262,
     "metadata": {},
     "output_type": "execute_result"
    }
   ],
   "source": [
    "# remove incosistent records\n",
    "to_drop_indexes = set()\n",
    "# add employees_who_work_more_than_720_hours to row's indexes to eliminate\n",
    "for elem in employees_who_work_more_than_720_hours:\n",
    "    to_drop_indexes.add(elem)\n",
    "\n",
    "to_drop_indexes = to_drop_indexes.union(set(list(df.index[df[\"DailyRate\"] > df[\"MonthlyIncome\"]])))\n",
    "to_drop_indexes = to_drop_indexes.union(set(get_age_difference(\"YearsInCurrentRole\")))\n",
    "to_drop_indexes = to_drop_indexes.union(set(get_age_difference(\"YearsSinceLastPromotion\")))\n",
    "to_drop_indexes = to_drop_indexes.union(set(list(df.index[df[\"YearsSinceLastPromotion\"] > df[\"YearsInCurrentRole\"]])))\n",
    "tmp_list = df.index[(df[\"YearsInCurrentRole\"] > df[\"YearsAtCompany\"]) & (df[\"NumCompaniesWorked\"] == 0)]\n",
    "to_drop_indexes = to_drop_indexes.union(set(tmp_list))\n",
    "tmp_list = df.index[(df[\"YearsSinceLastPromotion\"] > df[\"YearsAtCompany\"]) & (df[\"NumCompaniesWorked\"] == 0)]\n",
    "to_drop_indexes = to_drop_indexes.union(set(tmp_list))\n",
    "\n",
    "df.drop(list(to_drop_indexes), axis=0, inplace=True)\n",
    "df.reset_index(drop=True, inplace=True)\n",
    "print(\"dropped rows = \", len(to_drop_indexes), sep=\"\\t\")\n",
    "\n",
    "# remove incosistent features\n",
    "del df[\"TotalWorkingYears\"]\n",
    "del df[\"YearsWithCurrManager\"]\n",
    "del df[\"DailyRate\"]\n",
    "\n",
    "df.shape"
   ]
  },
  {
   "cell_type": "markdown",
   "metadata": {},
   "source": [
    "Our record cleaning process removed <b>200 baised records</b> and <b>3 biased features</b> (some record had two or more unsatisfied constrains).\n",
    "\n",
    "Finally, we have 161 records where MonthlyRate <= MonthlyIncome. Since the two feature's name start both with \"Month\", we think are part of a type error. To avalorate our intuition we compare these baised taxrates with the ones of similar records (by taking records with same JobRole and JobLevel as the biased ones, we were able to find at least one similar record for all of them):"
   ]
  },
  {
   "cell_type": "code",
   "execution_count": 2263,
   "metadata": {},
   "outputs": [],
   "source": [
    "def get_neighbours_taxrate(jobRole, jobLevel):\n",
    "    tmp_df = df[(df[\"JobRole\"] == jobRole) & (df[\"JobLevel\"] == jobLevel)]\n",
    "    taxes = []\n",
    "    \n",
    "    for row in tmp_df.itertuples():\n",
    "        if row.MonthlyRate > row.MonthlyIncome:\n",
    "            taxes.append(row.TaxRate)\n",
    "    return taxes"
   ]
  },
  {
   "cell_type": "code",
   "execution_count": 2264,
   "metadata": {},
   "outputs": [],
   "source": [
    "def imputation_support_function(tmp_df, featureToImpute, age, yearsAtCompany):\n",
    "    if tmp_df.shape[0] > 1:  # at least a neighbours\n",
    "        values = []\n",
    "        for row in tmp_df.itertuples():\n",
    "            if featureToImpute == \"yearsAtCompany\":\n",
    "                if row.YearsAtCompany >= 0:   # this excludes NaN values\n",
    "                    values.append(row.YearsAtCompany)\n",
    "            elif featureToImpute == \"taxRate\" or featureToImpute == \"neighbours_taxRate\":\n",
    "                if row.TaxRate >= 0:   # this excludes NaN values\n",
    "                    values.append(row.TaxRate)\n",
    "            elif featureToImpute == \"age\":   # this excludes NaN values\n",
    "                if row.Age > 0:\n",
    "                     values.append(row.Age)\n",
    "            else:\n",
    "                print(\"Error feature to impute = \", featureToImpute)\n",
    "                sys.exit(-1)\n",
    "\n",
    "        if len(values) > 0:\n",
    "            avg_value = int(statistics.mean(values))\n",
    "            med_value = int(statistics.median(values))\n",
    "            mode_value = int(statistics.mode(values))\n",
    "        \n",
    "            if featureToImpute == \"yearsAtCompany\":\n",
    "                # checking if Age - YearsAtCompany >= 16\n",
    "                if age > 0:\n",
    "                    if age - avg_value >= 16:\n",
    "                        return avg_value\n",
    "                else:\n",
    "                    return avg_value\n",
    "            elif featureToImpute == \"age\":\n",
    "                # checking if Age - YearsAtCompany >= 16\n",
    "                if yearsAtCompany > 0:\n",
    "                    if avg_value - yearsAtCompany >= 16:\n",
    "                        return avg_value\n",
    "                else:\n",
    "                    return avg_value\n",
    "            elif featureToImpute == \"neighbours_taxRate\":\n",
    "                return values\n",
    "            else:\n",
    "                 return avg_value\n",
    "        \n",
    "    return -1"
   ]
  },
  {
   "cell_type": "code",
   "execution_count": 2265,
   "metadata": {},
   "outputs": [],
   "source": [
    "def self_made_neighbours_imputation(jobRole, jobLevel, yearsAtCompany, age, trainingTimeLastYear,\n",
    "                                    percentSalaryHike, stockOptionLevel, yearsInCurrentRole, featureToImpute):\n",
    "    age_cut_off = 6\n",
    "    y_company_cutt_off = 6\n",
    "    \n",
    "    if featureToImpute == \"taxRate\" or featureToImpute == \"neighbours_taxRate\":\n",
    "        for age_cut_off in range(1, age_cut_off):\n",
    "            for y_company_cut_off in range(1, y_company_cutt_off):\n",
    "                tmp_df = df[(df[\"JobRole\"] == jobRole) &\n",
    "                            (df[\"JobLevel\"] == jobLevel) &\n",
    "                            (df[\"YearsAtCompany\"] > (yearsAtCompany - y_company_cut_off)) &\n",
    "                            (df[\"YearsAtCompany\"] < (yearsAtCompany + y_company_cut_off)) &\n",
    "                            (df[\"Age\"] > (age - age_cut_off)) &\n",
    "                            (df[\"Age\"] < (age + age_cut_off)) &\n",
    "                            (df[\"TrainingTimesLastYear\"] == trainingTimeLastYear) &\n",
    "                            (df[\"PercentSalaryHike\"] == percentSalaryHike) &\n",
    "                            (df[\"StockOptionLevel\"] == stockOptionLevel) &\n",
    "                            (df[\"YearsInCurrentRole\"] == yearsInCurrentRole)]\n",
    "                check = imputation_support_function(tmp_df, featureToImpute, age, yearsAtCompany)\n",
    "                if type(check) == np.int:\n",
    "                    if check  >= 0:\n",
    "                        return check\n",
    "                elif len(check) > 0:\n",
    "                    return check\n",
    "    elif featureToImpute == \"age\":\n",
    "        for y_company_cut_off in range(1, y_company_cutt_off):\n",
    "            tmp_df = df[(df[\"JobRole\"] == jobRole) &\n",
    "                        (df[\"JobLevel\"] == jobLevel) &\n",
    "                        (df[\"YearsAtCompany\"] > (yearsAtCompany - y_company_cut_off)) &\n",
    "                        (df[\"YearsAtCompany\"] < (yearsAtCompany + y_company_cut_off)) &\n",
    "                        (df[\"TrainingTimesLastYear\"] == trainingTimeLastYear) &\n",
    "                        (df[\"PercentSalaryHike\"] == percentSalaryHike) &\n",
    "                        (df[\"StockOptionLevel\"] == stockOptionLevel) &\n",
    "                        (df[\"YearsInCurrentRole\"] == yearsInCurrentRole)]\n",
    "            check = imputation_support_function(tmp_df, featureToImpute, age, yearsAtCompany)\n",
    "            if check >= 0:\n",
    "                return check\n",
    "    elif featureToImpute == \"yearsAtCompany\":\n",
    "            for age_cut_off in range(1, age_cut_off):\n",
    "                tmp_df = df[(df[\"JobRole\"] == jobRole) &\n",
    "                            (df[\"JobLevel\"] == jobLevel) &\n",
    "                            (df[\"Age\"] > (age - age_cut_off)) &\n",
    "                            (df[\"Age\"] < (age + age_cut_off)) &\n",
    "                            (df[\"TrainingTimesLastYear\"] == trainingTimeLastYear) &\n",
    "                            (df[\"PercentSalaryHike\"] == percentSalaryHike) &\n",
    "                            (df[\"StockOptionLevel\"] == stockOptionLevel) &\n",
    "                            (df[\"YearsInCurrentRole\"] == yearsInCurrentRole)]\n",
    "                check = imputation_support_function(tmp_df, featureToImpute, age, yearsAtCompany)\n",
    "                if check >= 0:\n",
    "                    return check\n",
    "    else:\n",
    "        print(\"Error feature to impute = \", featureToImpute)\n",
    "        sys.exit(-1)\n",
    "\n",
    "    # if I'm here its means that I haven't found anyting to impute =>\n",
    "    # I'll drop the YearsInCurrentRole constrain \n",
    "    if featureToImpute == \"taxRate\" or featureToImpute == \"neighbours_taxRate\":\n",
    "        for age_cut_off in range(1, age_cut_off):\n",
    "            for y_company_cut_off in range(1, y_company_cut_off):\n",
    "                tmp_df = df[(df[\"JobRole\"] == jobRole) &\n",
    "                            (df[\"JobLevel\"] == jobLevel) &\n",
    "                            (df[\"YearsAtCompany\"] > (yearsAtCompany - y_company_cut_off)) &\n",
    "                            (df[\"YearsAtCompany\"] < (yearsAtCompany + y_company_cut_off)) &\n",
    "                            (df[\"Age\"] > (age - age_cut_off)) &\n",
    "                            (df[\"Age\"] < (age + age_cut_off)) &\n",
    "                            (df[\"TrainingTimesLastYear\"] == trainingTimeLastYear) &\n",
    "                            (df[\"PercentSalaryHike\"] == percentSalaryHike) &\n",
    "                            (df[\"StockOptionLevel\"] == stockOptionLevel) ]\n",
    "                check = imputation_support_function(tmp_df, featureToImpute, age, yearsAtCompany)\n",
    "                if type(check) == np.int:\n",
    "                    if check  >= 0:\n",
    "                        return check\n",
    "                elif len(check) > 0:\n",
    "                    return check\n",
    "    elif featureToImpute == \"age\":\n",
    "            for y_company_cut_off in range(1, y_company_cut_off):\n",
    "                tmp_df = df[(df[\"JobRole\"] == jobRole) &\n",
    "                            (df[\"JobLevel\"] == jobLevel) &\n",
    "                            (df[\"YearsAtCompany\"] > (yearsAtCompany - y_company_cut_off)) &\n",
    "                            (df[\"YearsAtCompany\"] < (yearsAtCompany + y_company_cut_off)) &\n",
    "                            (df[\"TrainingTimesLastYear\"] == trainingTimeLastYear) &\n",
    "                            (df[\"PercentSalaryHike\"] == percentSalaryHike) &\n",
    "                            (df[\"StockOptionLevel\"] == stockOptionLevel) ]\n",
    "                check = imputation_support_function(tmp_df, featureToImpute, age, yearsAtCompany)\n",
    "                if check >= 0:\n",
    "                    return check\n",
    "    elif featureToImpute == \"yearsAtCompany\":\n",
    "            for age_cut_off in range(1, age_cut_off):\n",
    "                tmp_df = df[(df[\"JobRole\"] == jobRole) &\n",
    "                            (df[\"JobLevel\"] == jobLevel) &\n",
    "                            (df[\"Age\"] > (age - age_cut_off)) &\n",
    "                            (df[\"Age\"] < (age + age_cut_off)) &\n",
    "                            (df[\"TrainingTimesLastYear\"] == trainingTimeLastYear) &\n",
    "                            (df[\"PercentSalaryHike\"] == percentSalaryHike) &\n",
    "                            (df[\"StockOptionLevel\"] == stockOptionLevel) ]\n",
    "                check = imputation_support_function(tmp_df, featureToImpute, age, yearsAtCompany)\n",
    "                if check >= 0:\n",
    "                    return check\n",
    "    \n",
    "\n",
    "\n",
    "    # if I'm here its means that I haven't found anyting to impute =>\n",
    "    # I'll drop the StockOptionLevel constrain \n",
    "    if featureToImpute == \"taxRate\" or featureToImpute == \"neighbours_taxRate\":\n",
    "        for age_cut_off in range(1, age_cut_off):\n",
    "            for y_company_cut_off in range(1, y_company_cut_off):\n",
    "                tmp_df = df[(df[\"JobRole\"] == jobRole) &\n",
    "                            (df[\"JobLevel\"] == jobLevel) &\n",
    "                            (df[\"YearsAtCompany\"] > (yearsAtCompany - y_company_cut_off)) &\n",
    "                            (df[\"YearsAtCompany\"] < (yearsAtCompany + y_company_cut_off)) &\n",
    "                            (df[\"Age\"] > (age - age_cut_off)) &\n",
    "                            (df[\"Age\"] < (age + age_cut_off)) &\n",
    "                            (df[\"TrainingTimesLastYear\"] == trainingTimeLastYear) &\n",
    "                            (df[\"PercentSalaryHike\"] == percentSalaryHike)]\n",
    "                check = imputation_support_function(tmp_df, featureToImpute, age, yearsAtCompany)\n",
    "                if type(check) == np.int:\n",
    "                    if check  >= 0:\n",
    "                        return check\n",
    "                elif len(check) > 0:\n",
    "                    return check\n",
    "    elif featureToImpute == \"age\":\n",
    "            for y_company_cut_off in range(1, y_company_cut_off):\n",
    "                tmp_df = df[(df[\"JobRole\"] == jobRole) &\n",
    "                            (df[\"JobLevel\"] == jobLevel) &\n",
    "                            (df[\"YearsAtCompany\"] > (yearsAtCompany - y_company_cut_off)) &\n",
    "                            (df[\"YearsAtCompany\"] < (yearsAtCompany + y_company_cut_off)) &\n",
    "                            (df[\"TrainingTimesLastYear\"] == trainingTimeLastYear) &\n",
    "                            (df[\"PercentSalaryHike\"] == percentSalaryHike)]\n",
    "                check = imputation_support_function(tmp_df, featureToImpute, age, yearsAtCompany)\n",
    "                if check >= 0:\n",
    "                    return check\n",
    "    elif featureToImpute == \"yearsAtCompany\":\n",
    "            for age_cut_off in range(1, age_cut_off):\n",
    "                tmp_df = df[(df[\"JobRole\"] == jobRole) &\n",
    "                            (df[\"JobLevel\"] == jobLevel) &\n",
    "                            (df[\"Age\"] > (age - age_cut_off)) &\n",
    "                            (df[\"Age\"] < (age + age_cut_off)) &\n",
    "                            (df[\"TrainingTimesLastYear\"] == trainingTimeLastYear) &\n",
    "                            (df[\"PercentSalaryHike\"] == percentSalaryHike)]\n",
    "                check = imputation_support_function(tmp_df, featureToImpute, age, yearsAtCompany)\n",
    "                if check >= 0:\n",
    "                    return check\n",
    "\n",
    "                \n",
    "    # if I'm here its means that I haven't found anyting to impute =>\n",
    "    # I'll drop the PercentSalaryHikeConstrain constrain \n",
    "    if featureToImpute == \"taxRate\" or featureToImpute == \"neighbours_taxRate\":\n",
    "        for age_cut_off in range(1, age_cut_off):\n",
    "            for y_company_cut_off in range(1, y_company_cut_off):\n",
    "                tmp_df = df[(df[\"JobRole\"] == jobRole) &\n",
    "                            (df[\"JobLevel\"] == jobLevel) &\n",
    "                            (df[\"YearsAtCompany\"] > (yearsAtCompany - y_company_cut_off)) &\n",
    "                            (df[\"YearsAtCompany\"] < (yearsAtCompany + y_company_cut_off)) &\n",
    "                            (df[\"Age\"] > (age - age_cut_off)) &\n",
    "                            (df[\"Age\"] < (age + age_cut_off)) &\n",
    "                            (df[\"TrainingTimesLastYear\"] == trainingTimeLastYear)]\n",
    "                check = imputation_support_function(tmp_df, featureToImpute, age, yearsAtCompany)\n",
    "                if type(check) == np.int:\n",
    "                    if check  >= 0:\n",
    "                        return check\n",
    "                elif len(check) > 0:\n",
    "                    return check\n",
    "    elif featureToImpute == \"age\":\n",
    "            for y_company_cut_off in range(1, y_company_cut_off):\n",
    "                tmp_df = df[(df[\"JobRole\"] == jobRole) &\n",
    "                            (df[\"JobLevel\"] == jobLevel) &\n",
    "                            (df[\"YearsAtCompany\"] > (yearsAtCompany - y_company_cut_off)) &\n",
    "                            (df[\"YearsAtCompany\"] < (yearsAtCompany + y_company_cut_off)) &\n",
    "                            (df[\"TrainingTimesLastYear\"] == trainingTimeLastYear)]\n",
    "                check = imputation_support_function(tmp_df, featureToImpute, age, yearsAtCompany)\n",
    "                if check >= 0:\n",
    "                    return check\n",
    "    elif featureToImpute == \"yearsAtCompany\":\n",
    "        for age_cut_off in range(1, age_cut_off):\n",
    "            tmp_df = df[(df[\"JobRole\"] == jobRole) &\n",
    "                        (df[\"JobLevel\"] == jobLevel) &\n",
    "                        (df[\"Age\"] > (age - age_cut_off)) &\n",
    "                        (df[\"Age\"] < (age + age_cut_off)) &\n",
    "                        (df[\"TrainingTimesLastYear\"] == trainingTimeLastYear)]\n",
    "            check = imputation_support_function(tmp_df, featureToImpute, age, yearsAtCompany)\n",
    "            if check >= 0:\n",
    "                return check\n",
    "        \n",
    "\n",
    "\n",
    "    # if I'm here its means that I haven't found anyting to impute =>\n",
    "    # I'll drop the TrainingTimeLastYear constrain \n",
    "    if featureToImpute == \"taxRate\" or featureToImpute == \"neighbours_taxRate\":\n",
    "        for age_cut_off in range(1, age_cut_off):\n",
    "            for y_company_cut_off in range(1, y_company_cut_off):\n",
    "                tmp_df = df[(df[\"JobRole\"] == jobRole) &\n",
    "                            (df[\"JobLevel\"] == jobLevel) &\n",
    "                            (df[\"YearsAtCompany\"] > (yearsAtCompany - y_company_cut_off)) &\n",
    "                            (df[\"YearsAtCompany\"] < (yearsAtCompany + y_company_cut_off)) &\n",
    "                            (df[\"Age\"] > (age - age_cut_off)) &\n",
    "                            (df[\"Age\"] < (age + age_cut_off))]\n",
    "                check = imputation_support_function(tmp_df, featureToImpute, age, yearsAtCompany)\n",
    "                if type(check) == np.int:\n",
    "                    if check  >= 0:\n",
    "                        return check\n",
    "                elif len(check) > 0:\n",
    "                    return check\n",
    "    elif featureToImpute == \"age\":\n",
    "            for y_company_cut_off in range(1, y_company_cut_off):\n",
    "                tmp_df = df[(df[\"JobRole\"] == jobRole) &\n",
    "                            (df[\"JobLevel\"] == jobLevel) &\n",
    "                            (df[\"YearsAtCompany\"] > (yearsAtCompany - y_company_cut_off)) &\n",
    "                            (df[\"YearsAtCompany\"] < (yearsAtCompany + y_company_cut_off))]\n",
    "                check = imputation_support_function(tmp_df, featureToImpute, age, yearsAtCompany)\n",
    "                if check >= 0:\n",
    "                    return check\n",
    "    elif featureToImpute == \"yearsAtCompany\":\n",
    "            for age_cut_off in range(1, age_cut_off):\n",
    "                tmp_df = df[(df[\"JobRole\"] == jobRole) &\n",
    "                            (df[\"JobLevel\"] == jobLevel) &\n",
    "                            (df[\"Age\"] > (age - age_cut_off)) &\n",
    "                            (df[\"Age\"] < (age + age_cut_off))]\n",
    "                check = imputation_support_function(tmp_df, featureToImpute, age, yearsAtCompany)\n",
    "                if check >= 0:\n",
    "                    return check\n",
    "        \n",
    "\n",
    "    # if I'm here its means that I haven't found anyting to impute =>\n",
    "    # I'll drop the Age constrain\n",
    "    if featureToImpute != \"yearsAtCompany\":\n",
    "        for y_company_cut_off in range(1, y_company_cut_off):\n",
    "            tmp_df = df[(df[\"JobRole\"] == jobRole) &\n",
    "                    (df[\"JobLevel\"] == jobLevel) &\n",
    "                    (df[\"YearsAtCompany\"] > (yearsAtCompany - y_company_cut_off)) & \n",
    "                    (df[\"YearsAtCompany\"] < (yearsAtCompany + y_company_cut_off)) ]\n",
    "            check = imputation_support_function(tmp_df, featureToImpute, age, yearsAtCompany)\n",
    "            if type(check) == np.int:\n",
    "                if check  >= 0:\n",
    "                    return check\n",
    "                elif len(check) > 0:\n",
    "                    return check\n",
    "    \n",
    "    \n",
    "    # if I'm here its means that I haven't found anyting to impute =>\n",
    "    # I'll drop YearsAtCompany\n",
    "    tmp_df = df[(df[\"JobRole\"] == jobRole) &\n",
    "            (df[\"JobLevel\"] == jobLevel)]\n",
    "    check = imputation_support_function(tmp_df, featureToImpute, age, yearsAtCompany)\n",
    "    if type(check) == np.int:\n",
    "        if check  >= 0:\n",
    "            return check\n",
    "    elif len(check) > 0:\n",
    "        return check\n",
    "    \n",
    "    # if I'm here its means that I haven't found anyting to impute =>\n",
    "    # I'll drop JobLevel\n",
    "    tmp_df = df[(df[\"JobRole\"] == jobRole)]\n",
    "    check = imputation_support_function(tmp_df, featureToImpute, age, yearsAtCompany)\n",
    "    if type(check) == np.int:\n",
    "        if check  >= 0:\n",
    "            return check\n",
    "    elif len(check) > 0:\n",
    "        return check\n",
    "\n",
    "    return -1"
   ]
  },
  {
   "cell_type": "code",
   "execution_count": 2266,
   "metadata": {},
   "outputs": [
    {
     "name": "stdout",
     "output_type": "stream",
     "text": [
      "dropped rows = \t0\n"
     ]
    },
    {
     "data": {
      "text/plain": [
       "(977, 33)"
      ]
     },
     "execution_count": 2266,
     "metadata": {},
     "output_type": "execute_result"
    }
   ],
   "source": [
    "# remove inconsistent switched records\n",
    "to_drop_indexes = set()\n",
    "i = 0   \n",
    "for row in df.itertuples():\n",
    "    if row.MonthlyIncome >= row.MonthlyRate:\n",
    "        # neighbours_taxrate = get_neighbours_taxrate(row.JobRole, row.JobLevel)\n",
    "        neighbours_taxrate = self_made_neighbours_imputation(row.JobRole, row.JobLevel, row.YearsAtCompany, \n",
    "                        row.Age, row.TrainingTimesLastYear,row.PercentSalaryHike, row.StockOptionLevel, \n",
    "                                                             row.YearsInCurrentRole, \"neighbours_taxRate\")\n",
    "\n",
    "        if len(neighbours_taxrate) == 0:\n",
    "            print(row.JobRole, row.JobLevel)\n",
    "        else:\n",
    "            curr_taxrate = abs(row.TaxRate)\n",
    "            if curr_taxrate in neighbours_taxrate:\n",
    "                continue\n",
    "            else:\n",
    "                cut_off = np.std(neighbours_taxrate)\n",
    "                n_max = max(neighbours_taxrate) + cut_off\n",
    "                n_min = min(neighbours_taxrate) - cut_off\n",
    "                if curr_taxrate < n_min or curr_taxrate > n_max:\n",
    "                    # if np.std([curr_taxrate] + neighbours_taxrate) > 0.3:\n",
    "                    to_drop_indexes.add(i) \n",
    "    i += 1\n",
    "                \n",
    "df.drop(list(to_drop_indexes), axis=0, inplace=True)\n",
    "df.reset_index(drop=True, inplace=True)\n",
    "print(\"dropped rows = \", len(to_drop_indexes), sep=\"\\t\")\n",
    "df.shape"
   ]
  },
  {
   "cell_type": "code",
   "execution_count": 2267,
   "metadata": {},
   "outputs": [
    {
     "data": {
      "text/plain": [
       "(977, 33)"
      ]
     },
     "execution_count": 2267,
     "metadata": {},
     "output_type": "execute_result"
    }
   ],
   "source": [
    "index1 = df.columns.get_loc(\"MonthlyIncome\")\n",
    "index2 = df.columns.get_loc(\"MonthlyRate\")\n",
    "index3 = df.columns.get_loc(\"TaxRate\")\n",
    "\n",
    "# switch biased records \n",
    "data1 = []\n",
    "data2 = []\n",
    "for row in df.itertuples():\n",
    "    if row.MonthlyIncome > row.MonthlyRate:\n",
    "        data1.append(row.MonthlyRate)\n",
    "        data2.append(row.MonthlyIncome)\n",
    "    else:\n",
    "        data1.append(row.MonthlyIncome)\n",
    "        data2.append(row.MonthlyRate)\n",
    "\n",
    "# correct TaxRate feature \n",
    "data3 = []\n",
    "for i in range(0, len(data1)):\n",
    "    tax_rate = ((data2[i] - data1[i]) / data2[i])\n",
    "    try:\n",
    "        computed_income_floor = math.floor(data2[i] - data2[i]*tax_rate)\n",
    "        computed_income_ceil = math.ceil(data2[i] - data2[i]*tax_rate)\n",
    "        if computed_income_floor == data1[i] or computed_income_ceil == data1[i]:\n",
    "            data3.append(round(tax_rate, 2))  \n",
    "        else:\n",
    "            print(\"error\")\n",
    "            sys.exit(-1)\n",
    "    except ValueError:  # omitt NaN values\n",
    "        data3.append(np.NaN) \n",
    "\n",
    "del df[\"MonthlyIncome\"]\n",
    "del df[\"MonthlyRate\"]\n",
    "del df[\"TaxRate\"]\n",
    "\n",
    "df.insert(index1, 'MonthlyIncome', data1)\n",
    "df.insert(index2, 'MonthlyRate', data2)\n",
    "df.insert(index3, 'TaxRate', data3)\n",
    "df.shape"
   ]
  },
  {
   "cell_type": "code",
   "execution_count": 2268,
   "metadata": {},
   "outputs": [
    {
     "data": {
      "text/plain": [
       "0"
      ]
     },
     "execution_count": 2268,
     "metadata": {},
     "output_type": "execute_result"
    }
   ],
   "source": [
    "df[df[\"MonthlyIncome\"] > df[\"MonthlyRate\"]].shape[0]"
   ]
  },
  {
   "cell_type": "code",
   "execution_count": 2269,
   "metadata": {},
   "outputs": [
    {
     "data": {
      "text/plain": [
       "0"
      ]
     },
     "execution_count": 2269,
     "metadata": {},
     "output_type": "execute_result"
    }
   ],
   "source": [
    "df[df[\"TaxRate\"] < 0].shape[0]"
   ]
  },
  {
   "cell_type": "code",
   "execution_count": 2270,
   "metadata": {},
   "outputs": [
    {
     "data": {
      "text/plain": [
       "176"
      ]
     },
     "execution_count": 2270,
     "metadata": {},
     "output_type": "execute_result"
    }
   ],
   "source": [
    "df[\"MonthlyIncome\"].isna().sum()"
   ]
  },
  {
   "cell_type": "markdown",
   "metadata": {},
   "source": [
    "In order to establish if the switch among the features had occurred, we measured the standard deviation of neighbours' TaxRates. With it we establishing a cut-off above and below the maximum and minumn neighbours' TaxRates, respectively. In this way, <b>kept all 161 records</b>, swapping MonthlyIncome with MonthlyRate.  \n",
    "\n",
    "After our inconsistent values cleaning our DataFrame has <b>976 records </b>."
   ]
  },
  {
   "cell_type": "markdown",
   "metadata": {},
   "source": [
    "<h6> Zero values detection </h6>\n",
    "Numerical attributes might also present missing values (i.e. represented by zero values)"
   ]
  },
  {
   "cell_type": "code",
   "execution_count": 2271,
   "metadata": {},
   "outputs": [
    {
     "name": "stdout",
     "output_type": "stream",
     "text": [
      "NumCompaniesWorked\t82\n",
      "StockOptionLevel\t429\n",
      "TrainingTimesLastYear\t27\n",
      "YearsAtCompany\t24\n",
      "YearsInCurrentRole\t165\n",
      "YearsSinceLastPromotion\t458\n",
      "TaxRate\t1\n"
     ]
    }
   ],
   "source": [
    "data_types = df.dtypes\n",
    "for column_name, column_type in data_types.items():\n",
    "    if column_type == np.int or column_type == np.float:\n",
    "        zero_values = (df[column_name] == 0).sum()\n",
    "        if zero_values > 0:\n",
    "            print(column_name, zero_values, sep=\"\\t\")"
   ]
  },
  {
   "cell_type": "markdown",
   "metadata": {},
   "source": [
    "We think that all zero valued 8 columns found above present meaningful data encoded in this numerical null values, therefore, these values are not involved in the process of replacing missing values:\n",
    "- NumCompaniesWorked = 0: first company in which an employee is working;\n",
    "- StockOptionLevel\t= 0: no StockOptionLevel granted to employee;\n",
    "- TotalWorkingYears\t= 0: employee is present less than a year in the job world;\n",
    "- TrainingTimesLastYear\t= 0: no training time last year;\n",
    "- YearsAtCompany\t= 0: employee works less than a year at company;\n",
    "- YearsInCurrentRole\t= 0: employee works less than a year in current role;\n",
    "- YearsSinceLastPromotion\t= 0: employee had been promoted less than a year ago;\n",
    "- YearsWithCurrManager\t= 0: employee is less than a year under current manager."
   ]
  },
  {
   "cell_type": "markdown",
   "metadata": {},
   "source": [
    "<h2> Dimensionality Reduction (Part 1) </h2>\n",
    "Dimensionality reduction refers to techniques that reduce the number of input variables in a dataset.\n",
    "We can consider the columns of data representing dimensions on an n-dimensional feature space and the rows of data as points in that space. \n",
    "Having a large number of dimensions in the feature space can mean that the volume of that space is very large, and in turn, the points that we have in that space (rows of data) often represent a small and non-representative sample. This can dramatically impact the performance of machine learning algorithms fit on data (this is generally reffered as the <b>curse of dimensionality</b>). \n",
    "Therefore, it is often desirable to reduce the number of input features, to prevent the model to overfit.\n",
    "\n",
    "Dimensionality reduction techniques remove irrilevant features, such as methods that remove redundant variables using correlation (see <b>Dimensionality Reduction (Part 2)</b> section) or features that have few values or low variance (i.e. data cleaning), covered in this section."
   ]
  },
  {
   "cell_type": "markdown",
   "metadata": {},
   "source": [
    "<h6> Columns unique values lookup </h6>"
   ]
  },
  {
   "cell_type": "code",
   "execution_count": 2272,
   "metadata": {},
   "outputs": [
    {
     "name": "stdout",
     "output_type": "stream",
     "text": [
      "Age\tmore than 10 float64 values\n",
      "Attrition\t['No' 'Yes']\n",
      "BusinessTravel\t['Travel_Rarely' 'Travel_Frequently' nan 'Non-Travel']\n",
      "Department\t['Research & Development' 'Sales' 'Human Resources']\n",
      "DistanceFromHome\tmore than 10 int64 values\n",
      "Education\t[4 1 3 2 5]\n",
      "EducationField\t['Medical' 'Life Sciences' 'Technical Degree' 'Other' 'Human Resources'\n",
      " 'Marketing']\n",
      "EnvironmentSatisfaction\t[2 3 4 1]\n",
      "Gender\t['Male' nan 'Female']\n",
      "HourlyRate\tmore than 10 int64 values\n",
      "JobInvolvement\t[3 4 2 1]\n",
      "JobLevel\t[3 5 2 1 4]\n",
      "JobRole\t['Research Director' 'Manager' 'Sales Executive' 'Research Scientist'\n",
      " 'Laboratory Technician' 'Sales Representative' 'Manufacturing Director'\n",
      " 'Healthcare Representative' 'Human Resources']\n",
      "JobSatisfaction\t[3 4 2 1]\n",
      "MaritalStatus\t['Single' 'Divorced' 'Married']\n",
      "MonthlyIncome\tmore than 10 float64 values\n",
      "MonthlyRate\tmore than 10 float64 values\n",
      "NumCompaniesWorked\tmore than 10 int64 values\n",
      "Over18\t[nan 'Y']\n",
      "OverTime\t['No' 'Yes']\n",
      "PercentSalaryHike\tmore than 10 int64 values\n",
      "PerformanceRating\t[ 3. nan  4.]\n",
      "RelationshipSatisfaction\t[3 2 4 1]\n",
      "StandardHours\t[80. nan]\n",
      "StockOptionLevel\t[0 1 3 2]\n",
      "TrainingTimesLastYear\t[ 2.  3.  4.  1. nan  0.  5.  6.]\n",
      "WorkLifeBalance\t[2 3 1 4]\n",
      "YearsAtCompany\tmore than 10 float64 values\n",
      "YearsInCurrentRole\tmore than 10 int64 values\n",
      "YearsSinceLastPromotion\tmore than 10 int64 values\n",
      "MonthlyHours\tmore than 10 float64 values\n",
      "TaxRate\tmore than 10 float64 values\n",
      "OverallSatisfaction\t[2 3 1 4]\n"
     ]
    }
   ],
   "source": [
    "column_names = list(df.columns)\n",
    "for column_name in column_names: \n",
    "    unique_values = df[column_name].unique()\n",
    "    if len(unique_values) >= 10:\n",
    "        print(column_name, \"more than 10 %s values\" % df.dtypes[column_name], sep=\"\\t\")\n",
    "    else:\n",
    "         print(column_name, unique_values, sep=\"\\t\")"
   ]
  },
  {
   "cell_type": "markdown",
   "metadata": {},
   "source": [
    "Our datasest is a mixture of categorical/numerical attributes, sorted as follows:\n",
    "\n",
    "<b>numerical discrete data (15):</b>\n",
    "- Age;\n",
    "- DailyRate;\n",
    "- DistanceFromHome;\n",
    "- HourlyRate;\n",
    "- MonthlyIncome;\n",
    "- MonthlyRate;\n",
    "- NumCompaniesWorked;\n",
    "- PercentSalaryHike;\n",
    "- StandardHours;\n",
    "- TotalWorkingYears;\n",
    "- YearsAtCompany;\n",
    "- YearsInCurrentRole;\n",
    "- YearsSinceLastPromotion;\n",
    "- YearsWithCurrManager. \n",
    "\n",
    "<b>categorical nominal data (9):</b>\n",
    "- Attrition;\n",
    "- BusinessTravel;\n",
    "- Department;\n",
    "- EducationField;\n",
    "- Gender;\n",
    "- JobRole;\n",
    "- MaritalStatus\n",
    "- Over18;\n",
    "- OverTime.\n",
    "\n",
    "<b>categorical ordinal data (9):</b>\n",
    "- Education;\n",
    "- EnvironmentSatisfaction;\n",
    "- JobInvolvement;\n",
    "- JobLevel;\n",
    "- JobSatisfaction;\n",
    "- PerformanceRating;\n",
    "- RelationshipSatisfaction;\n",
    "- StockOptionLevel;\n",
    "- TrainingTimesLastYear;\n",
    "- WorkLifeBalance.\n",
    "\n",
    "Since column <b>TrainingTimesLastYear</b> ranges between \\[0-6\\], we evaluate it as being of <b>categorical ordinal type</b>."
   ]
  },
  {
   "cell_type": "markdown",
   "metadata": {},
   "source": [
    "<h6> Zero-variance predictors (columns which contains a single value) identification => no variation displayed by the predictor, so we will remove them </h6>"
   ]
  },
  {
   "cell_type": "code",
   "execution_count": 2273,
   "metadata": {},
   "outputs": [
    {
     "name": "stdout",
     "output_type": "stream",
     "text": [
      "zero_variance_predictors removed \tOver18\n",
      "zero_variance_predictors removed \tStandardHours\n"
     ]
    },
    {
     "data": {
      "text/plain": [
       "(977, 31)"
      ]
     },
     "execution_count": 2273,
     "metadata": {},
     "output_type": "execute_result"
    }
   ],
   "source": [
    "# summarize the number of unique values in each column\n",
    "counts = df.nunique()\n",
    "# remove (columns which contains a single value (number of unique values = 1)\n",
    "zero_variance_predictors = [df.columns.values.tolist()[int(i)] for i, c in enumerate(counts) if c == 1]  \n",
    "for column_name in zero_variance_predictors:\n",
    "    del df[column_name]  # remove zero_variance_predictors\n",
    "    print(\"zero_variance_predictors removed \", column_name, sep=\"\\t\")\n",
    "df.shape  # check DataFrame dimensions"
   ]
  },
  {
   "cell_type": "markdown",
   "metadata": {},
   "source": [
    "Now our Dataframe stores 1176 rows and 31 columns. One-valued columns dropping is explained as follows: \n",
    "- \"Over18\" column is redudant, since it can be deducted from \"Age\" column;\n",
    "- \"StandardHours\" column is meaningless, since the only values are \"80\" and \"NaN\"\n",
    "\n",
    "Our intuition suggests that:\n",
    "- column \"PerformanceRating\" has only 3, 4 and NaN values, which is a useless rate to validate employees' performance,since by measuring the performance with following scale:\n",
    "$$Low=1, Good=2, Excellent=3, Outstanding=4$$\n",
    "employees' performance doesn't help to discrimenate an exemplary employee and one not. For this reason we will remove thi feature."
   ]
  },
  {
   "cell_type": "code",
   "execution_count": 2274,
   "metadata": {},
   "outputs": [
    {
     "name": "stdout",
     "output_type": "stream",
     "text": [
      "meaningless predictor removed \tPerformanceRating\n"
     ]
    }
   ],
   "source": [
    "del df[\"PerformanceRating\"]  # remove not relevant predictor\n",
    "print(\"meaningless predictor removed \", \"PerformanceRating\", sep=\"\\t\")"
   ]
  },
  {
   "cell_type": "code",
   "execution_count": 2275,
   "metadata": {},
   "outputs": [
    {
     "data": {
      "text/plain": [
       "(977, 30)"
      ]
     },
     "execution_count": 2275,
     "metadata": {},
     "output_type": "execute_result"
    }
   ],
   "source": [
    "df.shape  # check DataFrame dimensions"
   ]
  },
  {
   "cell_type": "markdown",
   "metadata": {},
   "source": [
    "Now our Dataframe stores 1176 rows and 30 columns."
   ]
  },
  {
   "cell_type": "markdown",
   "metadata": {},
   "source": [
    "<h2> Variables statistics </h2>"
   ]
  },
  {
   "cell_type": "code",
   "execution_count": 2276,
   "metadata": {
    "scrolled": true
   },
   "outputs": [
    {
     "data": {
      "text/html": [
       "<div>\n",
       "<style scoped>\n",
       "    .dataframe tbody tr th:only-of-type {\n",
       "        vertical-align: middle;\n",
       "    }\n",
       "\n",
       "    .dataframe tbody tr th {\n",
       "        vertical-align: top;\n",
       "    }\n",
       "\n",
       "    .dataframe thead th {\n",
       "        text-align: right;\n",
       "    }\n",
       "</style>\n",
       "<table border=\"1\" class=\"dataframe\">\n",
       "  <thead>\n",
       "    <tr style=\"text-align: right;\">\n",
       "      <th></th>\n",
       "      <th>Age</th>\n",
       "      <th>DistanceFromHome</th>\n",
       "      <th>Education</th>\n",
       "      <th>EnvironmentSatisfaction</th>\n",
       "      <th>HourlyRate</th>\n",
       "      <th>JobInvolvement</th>\n",
       "      <th>JobLevel</th>\n",
       "      <th>JobSatisfaction</th>\n",
       "      <th>MonthlyIncome</th>\n",
       "      <th>MonthlyRate</th>\n",
       "      <th>...</th>\n",
       "      <th>RelationshipSatisfaction</th>\n",
       "      <th>StockOptionLevel</th>\n",
       "      <th>TrainingTimesLastYear</th>\n",
       "      <th>WorkLifeBalance</th>\n",
       "      <th>YearsAtCompany</th>\n",
       "      <th>YearsInCurrentRole</th>\n",
       "      <th>YearsSinceLastPromotion</th>\n",
       "      <th>MonthlyHours</th>\n",
       "      <th>TaxRate</th>\n",
       "      <th>OverallSatisfaction</th>\n",
       "    </tr>\n",
       "  </thead>\n",
       "  <tbody>\n",
       "    <tr>\n",
       "      <th>count</th>\n",
       "      <td>833.00</td>\n",
       "      <td>977.00</td>\n",
       "      <td>977.00</td>\n",
       "      <td>977.00</td>\n",
       "      <td>977.00</td>\n",
       "      <td>977.00</td>\n",
       "      <td>977.00</td>\n",
       "      <td>977.00</td>\n",
       "      <td>801.00</td>\n",
       "      <td>977.00</td>\n",
       "      <td>...</td>\n",
       "      <td>977.00</td>\n",
       "      <td>977.00</td>\n",
       "      <td>783.00</td>\n",
       "      <td>977.00</td>\n",
       "      <td>924.00</td>\n",
       "      <td>977.00</td>\n",
       "      <td>977.00</td>\n",
       "      <td>977.00</td>\n",
       "      <td>801.00</td>\n",
       "      <td>977.00</td>\n",
       "    </tr>\n",
       "    <tr>\n",
       "      <th>mean</th>\n",
       "      <td>37.64</td>\n",
       "      <td>9.27</td>\n",
       "      <td>2.90</td>\n",
       "      <td>2.69</td>\n",
       "      <td>66.47</td>\n",
       "      <td>2.75</td>\n",
       "      <td>1.93</td>\n",
       "      <td>2.71</td>\n",
       "      <td>5942.62</td>\n",
       "      <td>14995.32</td>\n",
       "      <td>...</td>\n",
       "      <td>2.71</td>\n",
       "      <td>0.79</td>\n",
       "      <td>2.82</td>\n",
       "      <td>2.77</td>\n",
       "      <td>7.34</td>\n",
       "      <td>3.97</td>\n",
       "      <td>1.52</td>\n",
       "      <td>250.35</td>\n",
       "      <td>0.55</td>\n",
       "      <td>2.33</td>\n",
       "    </tr>\n",
       "    <tr>\n",
       "      <th>std</th>\n",
       "      <td>8.83</td>\n",
       "      <td>8.20</td>\n",
       "      <td>1.01</td>\n",
       "      <td>1.10</td>\n",
       "      <td>19.99</td>\n",
       "      <td>0.72</td>\n",
       "      <td>1.01</td>\n",
       "      <td>1.09</td>\n",
       "      <td>3974.15</td>\n",
       "      <td>6642.45</td>\n",
       "      <td>...</td>\n",
       "      <td>1.08</td>\n",
       "      <td>0.86</td>\n",
       "      <td>1.27</td>\n",
       "      <td>0.72</td>\n",
       "      <td>6.30</td>\n",
       "      <td>3.45</td>\n",
       "      <td>2.35</td>\n",
       "      <td>144.46</td>\n",
       "      <td>0.26</td>\n",
       "      <td>0.54</td>\n",
       "    </tr>\n",
       "    <tr>\n",
       "      <th>min</th>\n",
       "      <td>18.00</td>\n",
       "      <td>1.00</td>\n",
       "      <td>1.00</td>\n",
       "      <td>1.00</td>\n",
       "      <td>30.00</td>\n",
       "      <td>1.00</td>\n",
       "      <td>1.00</td>\n",
       "      <td>1.00</td>\n",
       "      <td>1009.00</td>\n",
       "      <td>2122.00</td>\n",
       "      <td>...</td>\n",
       "      <td>1.00</td>\n",
       "      <td>0.00</td>\n",
       "      <td>0.00</td>\n",
       "      <td>1.00</td>\n",
       "      <td>0.00</td>\n",
       "      <td>0.00</td>\n",
       "      <td>0.00</td>\n",
       "      <td>26.04</td>\n",
       "      <td>0.00</td>\n",
       "      <td>1.00</td>\n",
       "    </tr>\n",
       "    <tr>\n",
       "      <th>25%</th>\n",
       "      <td>31.00</td>\n",
       "      <td>2.00</td>\n",
       "      <td>2.00</td>\n",
       "      <td>2.00</td>\n",
       "      <td>50.00</td>\n",
       "      <td>2.00</td>\n",
       "      <td>1.00</td>\n",
       "      <td>2.00</td>\n",
       "      <td>2936.00</td>\n",
       "      <td>9610.00</td>\n",
       "      <td>...</td>\n",
       "      <td>2.00</td>\n",
       "      <td>0.00</td>\n",
       "      <td>2.00</td>\n",
       "      <td>2.00</td>\n",
       "      <td>3.00</td>\n",
       "      <td>2.00</td>\n",
       "      <td>0.00</td>\n",
       "      <td>143.51</td>\n",
       "      <td>0.34</td>\n",
       "      <td>2.00</td>\n",
       "    </tr>\n",
       "    <tr>\n",
       "      <th>50%</th>\n",
       "      <td>36.00</td>\n",
       "      <td>7.00</td>\n",
       "      <td>3.00</td>\n",
       "      <td>3.00</td>\n",
       "      <td>66.00</td>\n",
       "      <td>3.00</td>\n",
       "      <td>2.00</td>\n",
       "      <td>3.00</td>\n",
       "      <td>4736.00</td>\n",
       "      <td>15428.00</td>\n",
       "      <td>...</td>\n",
       "      <td>3.00</td>\n",
       "      <td>1.00</td>\n",
       "      <td>3.00</td>\n",
       "      <td>3.00</td>\n",
       "      <td>6.00</td>\n",
       "      <td>3.00</td>\n",
       "      <td>1.00</td>\n",
       "      <td>221.45</td>\n",
       "      <td>0.61</td>\n",
       "      <td>2.00</td>\n",
       "    </tr>\n",
       "    <tr>\n",
       "      <th>75%</th>\n",
       "      <td>44.00</td>\n",
       "      <td>14.00</td>\n",
       "      <td>4.00</td>\n",
       "      <td>4.00</td>\n",
       "      <td>84.00</td>\n",
       "      <td>3.00</td>\n",
       "      <td>2.00</td>\n",
       "      <td>4.00</td>\n",
       "      <td>7419.00</td>\n",
       "      <td>20392.00</td>\n",
       "      <td>...</td>\n",
       "      <td>4.00</td>\n",
       "      <td>1.00</td>\n",
       "      <td>3.00</td>\n",
       "      <td>3.00</td>\n",
       "      <td>10.00</td>\n",
       "      <td>7.00</td>\n",
       "      <td>2.00</td>\n",
       "      <td>325.13</td>\n",
       "      <td>0.78</td>\n",
       "      <td>3.00</td>\n",
       "    </tr>\n",
       "    <tr>\n",
       "      <th>max</th>\n",
       "      <td>60.00</td>\n",
       "      <td>29.00</td>\n",
       "      <td>5.00</td>\n",
       "      <td>4.00</td>\n",
       "      <td>100.00</td>\n",
       "      <td>4.00</td>\n",
       "      <td>5.00</td>\n",
       "      <td>4.00</td>\n",
       "      <td>19926.00</td>\n",
       "      <td>26997.00</td>\n",
       "      <td>...</td>\n",
       "      <td>4.00</td>\n",
       "      <td>3.00</td>\n",
       "      <td>6.00</td>\n",
       "      <td>4.00</td>\n",
       "      <td>40.00</td>\n",
       "      <td>16.00</td>\n",
       "      <td>15.00</td>\n",
       "      <td>725.67</td>\n",
       "      <td>0.95</td>\n",
       "      <td>4.00</td>\n",
       "    </tr>\n",
       "  </tbody>\n",
       "</table>\n",
       "<p>8 rows × 22 columns</p>\n",
       "</div>"
      ],
      "text/plain": [
       "         Age  DistanceFromHome  Education  EnvironmentSatisfaction  \\\n",
       "count 833.00            977.00     977.00                   977.00   \n",
       "mean   37.64              9.27       2.90                     2.69   \n",
       "std     8.83              8.20       1.01                     1.10   \n",
       "min    18.00              1.00       1.00                     1.00   \n",
       "25%    31.00              2.00       2.00                     2.00   \n",
       "50%    36.00              7.00       3.00                     3.00   \n",
       "75%    44.00             14.00       4.00                     4.00   \n",
       "max    60.00             29.00       5.00                     4.00   \n",
       "\n",
       "       HourlyRate  JobInvolvement  JobLevel  JobSatisfaction  MonthlyIncome  \\\n",
       "count      977.00          977.00    977.00           977.00         801.00   \n",
       "mean        66.47            2.75      1.93             2.71        5942.62   \n",
       "std         19.99            0.72      1.01             1.09        3974.15   \n",
       "min         30.00            1.00      1.00             1.00        1009.00   \n",
       "25%         50.00            2.00      1.00             2.00        2936.00   \n",
       "50%         66.00            3.00      2.00             3.00        4736.00   \n",
       "75%         84.00            3.00      2.00             4.00        7419.00   \n",
       "max        100.00            4.00      5.00             4.00       19926.00   \n",
       "\n",
       "       MonthlyRate  ...  RelationshipSatisfaction  StockOptionLevel  \\\n",
       "count       977.00  ...                    977.00            977.00   \n",
       "mean      14995.32  ...                      2.71              0.79   \n",
       "std        6642.45  ...                      1.08              0.86   \n",
       "min        2122.00  ...                      1.00              0.00   \n",
       "25%        9610.00  ...                      2.00              0.00   \n",
       "50%       15428.00  ...                      3.00              1.00   \n",
       "75%       20392.00  ...                      4.00              1.00   \n",
       "max       26997.00  ...                      4.00              3.00   \n",
       "\n",
       "       TrainingTimesLastYear  WorkLifeBalance  YearsAtCompany  \\\n",
       "count                 783.00           977.00          924.00   \n",
       "mean                    2.82             2.77            7.34   \n",
       "std                     1.27             0.72            6.30   \n",
       "min                     0.00             1.00            0.00   \n",
       "25%                     2.00             2.00            3.00   \n",
       "50%                     3.00             3.00            6.00   \n",
       "75%                     3.00             3.00           10.00   \n",
       "max                     6.00             4.00           40.00   \n",
       "\n",
       "       YearsInCurrentRole  YearsSinceLastPromotion  MonthlyHours  TaxRate  \\\n",
       "count              977.00                   977.00        977.00   801.00   \n",
       "mean                 3.97                     1.52        250.35     0.55   \n",
       "std                  3.45                     2.35        144.46     0.26   \n",
       "min                  0.00                     0.00         26.04     0.00   \n",
       "25%                  2.00                     0.00        143.51     0.34   \n",
       "50%                  3.00                     1.00        221.45     0.61   \n",
       "75%                  7.00                     2.00        325.13     0.78   \n",
       "max                 16.00                    15.00        725.67     0.95   \n",
       "\n",
       "       OverallSatisfaction  \n",
       "count               977.00  \n",
       "mean                  2.33  \n",
       "std                   0.54  \n",
       "min                   1.00  \n",
       "25%                   2.00  \n",
       "50%                   2.00  \n",
       "75%                   3.00  \n",
       "max                   4.00  \n",
       "\n",
       "[8 rows x 22 columns]"
      ]
     },
     "execution_count": 2276,
     "metadata": {},
     "output_type": "execute_result"
    }
   ],
   "source": [
    "pd.options.display.float_format = '{:.2f}'.format\n",
    "df.describe()  # columns statistics"
   ]
  },
  {
   "cell_type": "markdown",
   "metadata": {},
   "source": [
    "The data provided by the function <u>describe</u> highlight an high variance for many attributes, perhaps due to outliers (we need to assessment this later on). For now, we can estimate the <b>coefficient of variation</b>:\n",
    "$$CV = \\dfrac{\\sigma} {\\mu}$$\n",
    "\n",
    "As a rule of thumb, a CV >= 1 indicates a relatively high variation, while a CV < 1 can be considered low. This means that distributions with a coefficient of variation higher than 1 are considered to be high variance whereas those with a CV lower than 1 are considered to be low-variance. "
   ]
  },
  {
   "cell_type": "code",
   "execution_count": 2277,
   "metadata": {},
   "outputs": [
    {
     "name": "stdout",
     "output_type": "stream",
     "text": [
      "StockOptionLevel\t1.091268396607038\n",
      "YearsSinceLastPromotion\t1.543280382023714\n"
     ]
    }
   ],
   "source": [
    "column_names = list(df.columns)\n",
    "obj_columns = list(df.select_dtypes(include=['object']).columns)\n",
    "for column_name in column_names:\n",
    "    if column_name not in obj_columns:\n",
    "        data = df[column_name].dropna()  # get each column's values, omitting NaN values \n",
    "        cv = np.std(data) / np.mean(data)\n",
    "        if cv >= 1:\n",
    "            print(column_name, cv, sep=\"\\t\")"
   ]
  },
  {
   "cell_type": "markdown",
   "metadata": {},
   "source": [
    "We consider that <b>StockOptionLevel</b>'s high CV is justified, without taking into account the presence of \"real\" outliers (they are indeed \"natural\" outliers): in fcat, the majority of our employees haven't or have few equity compensations granted by the company (we think that this is quite a common situation).\n",
    "\n",
    "The only attribute, for which we are confident to state that contains outliers, is <b>YearsSinceLastPromotion</b>, since the majority of our employees are new promoted, while an handful of employees have at least a decade since last promotion."
   ]
  },
  {
   "cell_type": "markdown",
   "metadata": {},
   "source": [
    "<h2> Univariate outliers detection </h2>"
   ]
  },
  {
   "cell_type": "markdown",
   "metadata": {},
   "source": [
    "<h6> Standard Deviation Method (for Guassian distributed values) </h6>\n",
    "The Gaussian distribution has the property that the standard deviation from the mean can be used to reliably\n",
    "summarize the percentage of values in the sample.\n",
    "So, if the mean is x and the standard deviation is y, then all data in the sample between x - y and x + y will account for about 68% of the data sample. We can cover more of the data sample if we expand the\n",
    "range as follows:<br>\n",
    "- 1 Standard Deviation from the Mean: 68%; <br>\n",
    "- 2 Standard Deviations from the Mean: 95%; <br>\n",
    "- 3 Standard Deviations from the Mean: 99.7%.\n",
    "\n",
    "The common value for detecting outliers is to consider 3 Standard Deviation from the Mean as a cut-off (2 Standard Deviation from the Mean if the dataset is small). \n",
    "\n",
    "Since in our dataset all attributes failed the Normaltest/ Kolmogorov-Smirnov test in section <b>Variables distribution</b>, we will skip this outlier elimination method."
   ]
  },
  {
   "cell_type": "markdown",
   "metadata": {},
   "source": [
    "<h6> Interquartile Range Method (non-Gaussian distributed values) </h6>\n",
    "The IQR can be used to identify outliers by defining limits on the sample values that are a <b>factor k of the IQR below the 25th percentile or above the 75th percentile</b>. The common value for the factor k is 1.5, but since our dataset is small we will stick with <b>k=3</b>, to avoid being too restrictive. A factor k of 3 or more, in fact, can be used to identify values that are extreme outliers or far outs when described in the context of box and whisker plots."
   ]
  },
  {
   "cell_type": "code",
   "execution_count": 2278,
   "metadata": {},
   "outputs": [],
   "source": [
    "def get_interquartile_cut_off(data, k): \n",
    "    # calculate interquartile range\n",
    "    q25, q75 = percentile(data, 25), percentile(data, 75)\n",
    "    iqr = q75 - q25\n",
    "    # calculate the outlier cutoff\n",
    "    cut_off = iqr * k\n",
    "    lower, upper = q25 - cut_off, q75 + cut_off\n",
    "    return q25, q75, cut_off, lower, upper "
   ]
  },
  {
   "cell_type": "markdown",
   "metadata": {},
   "source": [
    "<h6> Assess graphically outliers through box and whisker plots </h6>"
   ]
  },
  {
   "cell_type": "code",
   "execution_count": 2279,
   "metadata": {},
   "outputs": [
    {
     "data": {
      "image/png": "[encoded data removed]",
      "text/plain": [
       "<Figure size 1440x216 with 12 Axes>"
      ]
     },
     "metadata": {
      "needs_background": "light"
     },
     "output_type": "display_data"
    }
   ],
   "source": [
    "fig =plt.subplots(figsize=(20, 3))\n",
    "fig_dims = (1, 12)\n",
    "\n",
    "ax = plt.subplot2grid(fig_dims, (0, 0))\n",
    "df[\"HourlyRate\"].plot.box(ax=ax)\n",
    "plt.xlabel(\"HourlyRate\")\n",
    "ax = plt.subplot2grid(fig_dims, (0, 1))\n",
    "df[\"MonthlyRate\"].plot.box(ax=ax)\n",
    "plt.xlabel(\"MonthlyRate\")\n",
    "ax = plt.subplot2grid(fig_dims, (0, 2))\n",
    "df[\"MonthlyIncome\"].plot.box(ax=ax)\n",
    "plt.xlabel(\"MonthlyIncome\")\n",
    "\n",
    "ax = plt.subplot2grid(fig_dims, (0, 3))\n",
    "df[\"PercentSalaryHike\"].plot.box(ax=ax)\n",
    "plt.xlabel(\"PercentSalaryHike\")\n",
    "ax = plt.subplot2grid(fig_dims, (0, 4))\n",
    "df[\"NumCompaniesWorked\"].plot.box(ax=ax)\n",
    "plt.xlabel(\"NumCompaniesWorked\")\n",
    "ax = plt.subplot2grid(fig_dims, (0, 5))\n",
    "df[\"Age\"].plot.box(ax=ax)\n",
    "plt.xlabel(\"Age\")\n",
    "\n",
    "ax = plt.subplot2grid(fig_dims, (0, 6))\n",
    "df[\"DistanceFromHome\"].plot.box(ax=ax)\n",
    "plt.xlabel(\"DistanceFromHome\")\n",
    "ax = plt.subplot2grid(fig_dims, (0, 7))\n",
    "df[\"YearsAtCompany\"].plot.box(ax=ax)\n",
    "plt.xlabel(\"YearsAtCompany\")\n",
    "ax = plt.subplot2grid(fig_dims, (0, 8))\n",
    "df[\"YearsInCurrentRole\"].plot.box(ax=ax)\n",
    "plt.xlabel(\"YearsInCurrentRole\")\n",
    "\n",
    "ax = plt.subplot2grid(fig_dims, (0, 9))\n",
    "df[\"YearsSinceLastPromotion\"].plot.box(ax=ax)\n",
    "plt.xlabel(\"YearsSinceLastPromotion\")\n",
    "\n",
    "ax = plt.subplot2grid(fig_dims, (0, 10))\n",
    "df[\"TaxRate\"].plot.box(ax=ax)\n",
    "plt.xlabel(\"TaxRate\")\n",
    "\n",
    "ax = plt.subplot2grid(fig_dims, (0, 11))\n",
    "df[\"MonthlyHours\"].plot.box(ax=ax)\n",
    "plt.xlabel(\"MonthlyHours\")\n",
    "\n",
    "plt.show()"
   ]
  },
  {
   "cell_type": "markdown",
   "metadata": {},
   "source": [
    "From the above box and whisker plots we can see that <b>6 features are biased with ouliers</b>:\n",
    "- MonthlyIncome\n",
    "- NumCompaniesWorked\n",
    "- YearsAtCompany\n",
    "- YearsInCurrentRole\n",
    "- YearsSinceLastPromotion\n",
    "- MonthlyHours\n",
    "\n",
    "This is confirmed by the IQR, too, as shown bellow. Since some attributes are categorical (their cut-off is nearby 0, more preciselly <= 1.500) we will omitt them in the outlier detection process, since we will remove enitire category of employees belonging to one or more optionions of the categorical attribute (which already has a low value cardinality)."
   ]
  },
  {
   "cell_type": "code",
   "execution_count": 2280,
   "metadata": {
    "scrolled": true
   },
   "outputs": [
    {
     "name": "stdout",
     "output_type": "stream",
     "text": [
      "MonthlyIncome's percentiles: 25th=2936.000, 75th=7419.000, cut_off=6724.500, outliers: 42\n",
      "YearsAtCompany's percentiles: 25th=3.000, 75th=10.000, cut_off=10.500, outliers: 34\n",
      "MonthlyHours's percentiles: 25th=134.270, 75th=318.970, cut_off=277.050, outliers: 18\n"
     ]
    },
    {
     "data": {
      "text/plain": [
       "(883, 30)"
      ]
     },
     "execution_count": 2280,
     "metadata": {},
     "output_type": "execute_result"
    }
   ],
   "source": [
    "column_names = list(df.columns)\n",
    "for column_name in column_names:\n",
    "    data = df[column_name].dropna()  # get each column's values, omitting NaN values \n",
    "    if isinstance(data[0], int) or isinstance(data[0], float):\n",
    "        # get the outlier cutoff\n",
    "        q25, q75, cut_off, lower, upper = get_interquartile_cut_off(data, 1.5)\n",
    "        # identify outlier\n",
    "        outliers = {}\n",
    "        outliers[\"lower\"] = []\n",
    "        outliers[\"upper\"] = []\n",
    "        for x in data:\n",
    "            if x < lower:\n",
    "                tmp_list =  outliers[\"lower\"]\n",
    "                tmp_list.append(x)\n",
    "                outliers[\"lower\"] = tmp_list\n",
    "            elif x > upper:\n",
    "                tmp_list =  outliers[\"upper\"]\n",
    "                tmp_list.append(x)\n",
    "                outliers[\"upper\"] = tmp_list\n",
    "\n",
    "        tot_outliers = len(outliers[\"lower\"]) + len(outliers[\"upper\"])\n",
    "        if tot_outliers > 0 and cut_off > 1.500: # cut_off > 1.500: avoid ordinal values elimination \n",
    "            print( '%s\\'s percentiles: 25th=%.3f, 75th=%.3f, cut_off=%.3f, outliers: %d' \n",
    "                            % (column_name, q25, q75, cut_off, tot_outliers))\n",
    "            df = df.drop(df[df[column_name] < lower].index)  # remove employees under lower \n",
    "            df = df.drop(df[df[column_name] > upper].index)  # remove employees above upper \n",
    "        \n",
    "df.shape  # checking removal output"
   ]
  },
  {
   "cell_type": "markdown",
   "metadata": {},
   "source": [
    "After the IQR outlier detection process our DataFrame results in the removal of <b>10 extreme outliers</b>.\n",
    "\n",
    "At the end of the outlier removal process our DataSets counts 966 rows."
   ]
  },
  {
   "cell_type": "markdown",
   "metadata": {},
   "source": [
    "<h2>Data imputation </h2>\n",
    "Before encoding these categorical variables we have to check if they have missing values, because otherwise the NaN values will be replaced, too (it is possible to explicitly avoid this, but for simplicity we will replace missing values with each column's mode)."
   ]
  },
  {
   "cell_type": "code",
   "execution_count": 2281,
   "metadata": {},
   "outputs": [
    {
     "name": "stdout",
     "output_type": "stream",
     "text": [
      "Age, Missing: 136 (15.4% of rows) \n",
      "BusinessTravel, Missing: 79 (8.9% of rows) \n",
      "Gender, Missing: 38 (4.3% of rows) \n",
      "MonthlyIncome, Missing: 167 (18.9% of rows) \n",
      "TrainingTimesLastYear, Missing: 175 (19.8% of rows) \n",
      "YearsAtCompany, Missing: 53 (6.0% of rows) \n",
      "TaxRate, Missing: 167 (18.9% of rows) \n"
     ]
    }
   ],
   "source": [
    "# checking columns' missing data\n",
    "column_names = list(df.columns)\n",
    "for column_name in column_names:\n",
    "    # count number of rows with missing values\n",
    "    data = df[column_name]\n",
    "    n_miss = data.isnull().sum()\n",
    "    perc = n_miss / df.shape[0] * 100\n",
    "    if n_miss > 0:\n",
    "        print( '%s, Missing: %d (%.1f%% of rows) ' % (column_name, n_miss, perc))"
   ]
  },
  {
   "cell_type": "markdown",
   "metadata": {},
   "source": [
    "<h6> Statistical imputation strategy </h6>\n",
    "\n",
    "A popular approach for data imputation is to calculate a statistical value for each column (such as a mean\\*/ median\\*\\*/ mode\\*\\*\\*/ costant value) and replace all missing values for that column with the statistic. It is a popular approach because the statistic is easy to calculate using the training dataset and because it often results in good performance. \n",
    "\n",
    "\\*columns' average values;<br>\n",
    "\\*\\*middle element in ascending ordered column;<br>\n",
    "\\*\\*\\*most frequent element in column.\n",
    "\n",
    "The <b>scikit-learn</b> machine learning library provides the <b>SimpleImputer</b> class that supports statistical imputation.\n",
    "The SimpleImputer is a data transform, which needs the following parameters:\n",
    "- the type of the missing values to replace via the <u>missing_values</u> argument;\n",
    "- the type of statistic to calculate for each column via the <u>strategy</u> argument. \n",
    "\n",
    "Then, the imputer is fit on the dataset, creating a copy of the dataset with all missing values for each column replaced with an estimated value.\n",
    "\n",
    "We will use the <b>mode imputation strategy</b> with the following feature:\n",
    "- BusinessTravel;\n",
    "- Gender;\n",
    "- TrainingTimesLastYear;\n",
    "\n",
    "since the first two are categorical data, while the last is a numerical attributes with low cardinality ranging from 0 to 6, so we take advantage of the statistical imputation and replace its missing values, too. We will handle the replacement taking the most common element in the column (BussinessTravel=Travel_Rarerly, Gender=Male, TrainingTimeLastYear=2), since this won't compromise any other feature in the dataset."
   ]
  },
  {
   "cell_type": "markdown",
   "metadata": {},
   "source": [
    "<h6>SimpleImputer imputations </h6<"
   ]
  },
  {
   "cell_type": "code",
   "execution_count": 2282,
   "metadata": {},
   "outputs": [
    {
     "name": "stdout",
     "output_type": "stream",
     "text": [
      "BusinessTravel missing before inputation: 79 \n",
      "BusinessTravel missing after inputation:: 0 \n",
      "Gender missing before inputation: 38 \n",
      "Gender missing after inputation:: 0 \n",
      "TrainingTimesLastYear missing before inputation: 175 \n",
      "TrainingTimesLastYear missing after inputation:: 0 \n"
     ]
    }
   ],
   "source": [
    "# replacing null values with most frequent value ('Travel_Rarely', 'Male', '2')\n",
    "column_names = [\"BusinessTravel\", \"Gender\", \"TrainingTimesLastYear\"]\n",
    "for column_name in column_names:\n",
    "    # summarize total missing values\n",
    "    print('%s missing before inputation: %d ' % (column_name, df[column_name].isnull().sum()))\n",
    "    # define the imputer model\n",
    "    imputer = SimpleImputer(missing_values=np.NaN, strategy='most_frequent')\n",
    "    # fit the model on the dataset to impute its missing values and transform it\n",
    "    df[column_name] = imputer.fit_transform(df[column_name].values.reshape(-1,1))[:,0]\n",
    "    # summarize total missing values\n",
    "    print('%s missing after inputation:: %d ' % (column_name, df[column_name].isnull().sum()))"
   ]
  },
  {
   "cell_type": "markdown",
   "metadata": {},
   "source": [
    "<h6> Self-made YearsAtCompany imputation </h6>\n",
    "\n",
    "To replace NaN values in the YearsAtCompany feature, we opted to guess the missing value by:\n",
    "- taking a set of correlated variables (JobRole, JobLevel, Age, TrainingTimeLastYear, PercentSalaryHike, StockOptionLevel and YearsInCurrentRole);\n",
    "- searching similar neighbours in the DataFrame:\n",
    "    - first, by looking at reacords having the exact values of the features mention above and taking\n",
    "      their average YearsAtCompany, if missing record's Age - gueesed_YearsAtCompany => 16; \n",
    "    - if the previous constrains wasn't met or none record in the DataFrame shared the same values as the \n",
    "      missing one, we started to be more relaxed on the Age feature, allowing the searching of neighbours\n",
    "      having an <b>Age</b> in a <b>cut_off=+-5</b> above and below missing record's Age. Again we took \n",
    "      neighbours average YearsAtCompany, if they comply with \n",
    "      record's Age - gueesed_YearsAtCompany => 16;\n",
    "    - if no neighbour was previously found, we experimented again with Age's cut_off=+-5 above and below         missing record's Age, but we drop the YearsInCurrentRole requirement;\n",
    "    -  if no neighbour wasn't again previously found, we drop the StockOptionLevel variable and continue the saerch;\n",
    "    - if again no result was encountered, we sequentially dropped all the other features, untill arriving to look after neighbours'records with only exact JobRole as the missing one and taking their mean, if Age - gueesed_YearsAtCompany => 16."
   ]
  },
  {
   "cell_type": "code",
   "execution_count": 2283,
   "metadata": {},
   "outputs": [
    {
     "name": "stdout",
     "output_type": "stream",
     "text": [
      "YearsAtCompany missing before inputation: 53 \n",
      "YearsAtCompany missing after inputation: 0 \n"
     ]
    },
    {
     "data": {
      "text/plain": [
       "(883, 30)"
      ]
     },
     "execution_count": 2283,
     "metadata": {},
     "output_type": "execute_result"
    }
   ],
   "source": [
    "print('%s missing before inputation: %d ' % (\"YearsAtCompany\", df[\"YearsAtCompany\"].isnull().sum()))\n",
    "data = []\n",
    "for row in df.itertuples():\n",
    "    if row.YearsAtCompany >= 0:\n",
    "        data.append(row.YearsAtCompany)\n",
    "    else:  # NaN value imputation \n",
    "        years_at_company = self_made_neighbours_imputation(row.JobRole, row.JobLevel, row.YearsAtCompany, row.Age, \n",
    "            row.TrainingTimesLastYear, row.PercentSalaryHike, row.StockOptionLevel, row.YearsInCurrentRole, \n",
    "                                                          \"yearsAtCompany\")\n",
    "        if years_at_company == -1: \n",
    "            # solving manually unique missing value\n",
    "            if row.JobRole == \"Research Scientist\" and row.JobLevel ==  1 and \\\n",
    "                    row.Age ==  18.0 and row.TrainingTimesLastYear == 2.0 and row.PercentSalaryHike == 12 and \\\n",
    "                        row.StockOptionLevel == 0 and row.YearsInCurrentRole == 0:\n",
    "                # he an 18, first level with 0 years in the role we guess this is his first year at company\n",
    "                data.append(0.0) \n",
    "            else:\n",
    "                print(\"missing\", row.JobRole, row.JobLevel, \"guessing\", row.Age, row.TrainingTimesLastYear, \n",
    "                  row.PercentSalaryHike, row.StockOptionLevel, row.YearsInCurrentRole)\n",
    "        else:\n",
    "            data.append(years_at_company)\n",
    "\n",
    "# remove current column and replace it with impunted one\n",
    "index = df.columns.get_loc(\"YearsAtCompany\")\n",
    "del df[\"YearsAtCompany\"]\n",
    "df.insert(index, 'YearsAtCompany', data)\n",
    "print('%s missing after inputation: %d ' % (\"YearsAtCompany\", df[\"YearsAtCompany\"].isnull().sum()))\n",
    "df.shape "
   ]
  },
  {
   "cell_type": "markdown",
   "metadata": {},
   "source": [
    "<h6> Self-made MonthlyIncome imputation </h6>\n",
    "\n",
    "Since we have added the column TaxRate, MonthlyIncome imputation is performed upon it and in simultaneously with it.\n",
    "\n",
    "We need to guess record's missing TaxRates in order to be able to compute the missing MonthlyIncome, too.\n",
    "By guessing a missing TaxRates, we are able to calculate the MonthlyIncome as follows:\n",
    "$$MonthlyIncome = MonthlyRate - MonthlyRate*TaxRate$$\n",
    "\n",
    "The imputation was performed similarly to <b> Self-made YearsAtCompany imputation </b>, considering an <b>Age cut_off=+-5</b> and a <b>YearsAtCompany cut_off=+-5</b> and the features JobRole, JobLevel, YearsAtCompany, Age, TrainingTimeLastYear, PercentSalaryHike, StockOptionLevel and YearsInCurrentRole."
   ]
  },
  {
   "cell_type": "code",
   "execution_count": 2284,
   "metadata": {},
   "outputs": [
    {
     "name": "stdout",
     "output_type": "stream",
     "text": [
      "TaxRate missing before inputation: 167 \n",
      "MonthlyIncome missing before inputation: 167 \n",
      "TaxRate missing after inputation: 0 \n",
      "MonthlyIncome missing after inputation: 0 \n"
     ]
    },
    {
     "data": {
      "text/plain": [
       "(883, 30)"
      ]
     },
     "execution_count": 2284,
     "metadata": {},
     "output_type": "execute_result"
    }
   ],
   "source": [
    "print('%s missing before inputation: %d ' % (\"TaxRate\", df[\"TaxRate\"].isnull().sum()))\n",
    "print('%s missing before inputation: %d ' % (\"MonthlyIncome\", df[\"MonthlyIncome\"].isnull().sum()))\n",
    "data = []\n",
    "data2 = []\n",
    "for row in df.itertuples():\n",
    "    if row.TaxRate > 0:\n",
    "        data.append(row.TaxRate)\n",
    "        data2.append(row.MonthlyIncome)\n",
    "    else:  # NaN value imputation \n",
    "        tax = self_made_neighbours_imputation(row.JobRole, row.JobLevel, row.YearsAtCompany, row.Age, \n",
    "            row.TrainingTimesLastYear, row.PercentSalaryHike, row.StockOptionLevel, row.YearsInCurrentRole,\n",
    "                                             \"taxRate\")\n",
    "        tax = round(tax, 2)\n",
    "        \n",
    "        if tax == -1:\n",
    "            print(\"missing\", row.JobRole, row.JobLevel, row.YearsAtCompany, row.Age, row.YearsInCurrentRole)\n",
    "        else:\n",
    "            data.append(tax)\n",
    "            # compute MonthlyIncome\n",
    "            income = row.MonthlyRate - (row.MonthlyRate*tax)\n",
    "            data2.append(income)\n",
    "\n",
    "# remove current column and replace it with impunted one\n",
    "index1 = df.columns.get_loc(\"TaxRate\")\n",
    "index2 = df.columns.get_loc(\"MonthlyIncome\")\n",
    "del df[\"TaxRate\"]\n",
    "df.insert(index1, 'TaxRate', data)\n",
    "del df[\"MonthlyIncome\"]\n",
    "df.insert(index2, 'MonthlyIncome', data2)\n",
    "print('%s missing after inputation: %d ' % (\"TaxRate\", df[\"TaxRate\"].isnull().sum()))\n",
    "print('%s missing after inputation: %d ' % (\"MonthlyIncome\", df[\"MonthlyIncome\"].isnull().sum()))\n",
    "df.shape"
   ]
  },
  {
   "cell_type": "markdown",
   "metadata": {},
   "source": [
    "<h6> Self-made Age imputation </h6>\n",
    "\n",
    "The imputation was performed similarly to <b> Self-made YearsAtCompany imputation </b>, considering a <b>YearsAtCompany cut_off=+-5</b> and the features JobRole, JobLevel, YearsAtCompany, TrainingTimeLastYear, PercentSalaryHike, StockOptionLevel and YearsInCurrentRole."
   ]
  },
  {
   "cell_type": "code",
   "execution_count": 2285,
   "metadata": {},
   "outputs": [
    {
     "name": "stdout",
     "output_type": "stream",
     "text": [
      "Age missing before inputation: 136 \n",
      "Age missing after inputation: 0 \n"
     ]
    },
    {
     "data": {
      "text/plain": [
       "(883, 30)"
      ]
     },
     "execution_count": 2285,
     "metadata": {},
     "output_type": "execute_result"
    }
   ],
   "source": [
    "print('%s missing before inputation: %d ' % (\"Age\", df[\"Age\"].isnull().sum()))\n",
    "data = []\n",
    "i = 0\n",
    "for row in df.itertuples():\n",
    "    if row.Age >= 0:\n",
    "        data.append(row.Age)\n",
    "    else:  # NaN value imputation \n",
    "        age = self_made_neighbours_imputation(row.JobRole, row.JobLevel, row.YearsAtCompany, row.Age, \n",
    "            row.TrainingTimesLastYear, row.PercentSalaryHike, row.StockOptionLevel, row.YearsInCurrentRole,\n",
    "                                             \"age\")\n",
    "        if age == -1:\n",
    "             # solving manually unique missing value\n",
    "            if row.JobRole == \"Research Scientist\" and row.JobLevel == 2 and row.YearsAtCompany == 26.0 and \\\n",
    "                    row.TrainingTimesLastYear == 5.0 and row.PercentSalaryHike ==  23 and \\\n",
    "                        row.StockOptionLevel == 3 and row. YearsInCurrentRole == 13:\n",
    "                # avg starting year at company for level Research Scientist is 31.516129032258064\n",
    "                data.append(31)\n",
    "            else:\n",
    "                print(\"missing\", row.JobRole, row.JobLevel, row.YearsAtCompany, \"missing\", \n",
    "                row.TrainingTimesLastYear, row.PercentSalaryHike, row.StockOptionLevel, row.YearsInCurrentRole)\n",
    "        else:\n",
    "            data.append(age)\n",
    "    i += 1\n",
    "\n",
    "# remove current column and replace it with impunted one\n",
    "index = df.columns.get_loc(\"Age\")\n",
    "del df[\"Age\"]\n",
    "df.insert(index, 'Age', data)\n",
    "print('%s missing after inputation: %d ' % (\"Age\", df[\"Age\"].isnull().sum()))\n",
    "df.shape"
   ]
  },
  {
   "cell_type": "code",
   "execution_count": 2286,
   "metadata": {},
   "outputs": [
    {
     "data": {
      "text/plain": [
       "<matplotlib.axes._subplots.AxesSubplot at 0x7f6b2b4b9fa0>"
      ]
     },
     "execution_count": 2286,
     "metadata": {},
     "output_type": "execute_result"
    },
    {
     "data": {
      "image/png": "[encoded data removed]",
      "text/plain": [
       "<Figure size 1800x720 with 2 Axes>"
      ]
     },
     "metadata": {
      "needs_background": "light"
     },
     "output_type": "display_data"
    }
   ],
   "source": [
    "# checking if exists missing values (they shouldn't)\n",
    "msno.matrix(df)"
   ]
  },
  {
   "cell_type": "markdown",
   "metadata": {},
   "source": [
    "<h2> Type conversion</h2>\n",
    "\n",
    "Many machine learning algorithms cannot operate on label data directly. They require all input variables and output variables to be numeric. This means that categorical data must be converted to a numerical form.\n",
    "\n",
    "This ordinal encoding transform is available in the <b>scikit-learn</b> Python machine learning library via the <b>OrdinalEncoder</b> class. By default, it will assign integers to labels in alphabetical order. If a specific\n",
    "order is desired, it can be specified via the <u>categories</u> argument as a list with the rank order of all expected labels.\n",
    "\n",
    "For categorical variables where no ordinal relationship exists, the integer encoding may not be enough or even misleading to the model. Forcing an ordinal relationship via an ordinal encoding and allowing the model to assume a natural ordering between categories may result in poor performance or unexpected results. In this case, a one\n",
    "hot encoding can be applied to the ordinal representation. This is where <b>the integer encoded variable is removed and one new binary variable is added for each unique integer value in the variable</b>. This one hot encoding transform is available in the <b>scikit-learn</b> Python machine learning library via the <b>OneHotEncoder</b> class. By default, it will create new binary variables in column's values alphabetical order. If a specific\n",
    "order is desired, it can be specified via the <u>categories</u> argument as a list."
   ]
  },
  {
   "cell_type": "markdown",
   "metadata": {},
   "source": [
    "<h6> Perform an integer encoding on all ordinal and nominal features (object data types)</h6>"
   ]
  },
  {
   "cell_type": "code",
   "execution_count": 2287,
   "metadata": {},
   "outputs": [],
   "source": [
    "def print_encoding(column_name, encoder_categories):\n",
    "    \"\"\"\n",
    "    Function which prints the encoding undergone\n",
    "    \"\"\"\n",
    "    print(\"%s's values encoded as:\" % column_name)\n",
    "    for i in range(0, len(encoder_categories[0])):\n",
    "        print(\"%s\" % encoder_categories[0][i], \"%d\" % i, sep=\"\\t\")"
   ]
  },
  {
   "cell_type": "code",
   "execution_count": 2288,
   "metadata": {},
   "outputs": [],
   "source": [
    "def replace_categorical_feature_with_dummy_ones(column_name, categories_list, dummy_features):\n",
    "    \"\"\"\n",
    "    Function which replaces the nominal feature passed by argument with dummy ones, \n",
    "    to convert nominal column's M values in M new binary (dummy) features.\n",
    "    \"\"\"\n",
    "    # retrive nominal feature's index. It is used to know where to insert the new M binary features\n",
    "    index = df.columns.get_loc(column_name)\n",
    "    for i in range(0, dummy_features.shape[1]):\n",
    "        index += 1\n",
    "        df.insert(index, column_name + \"_\" + str(categories_list[i].replace(\" \", \"_\")), \n",
    "                                                              dummy_features[:, i].todense().astype(int), True)\n",
    "    # remove categorical feature\n",
    "    del df[column_name]"
   ]
  },
  {
   "cell_type": "markdown",
   "metadata": {},
   "source": [
    "In ordert to encode our not already encoded categorical features, we have to select them. We do this by looking at all object type columns in the dataset:"
   ]
  },
  {
   "cell_type": "code",
   "execution_count": 2289,
   "metadata": {},
   "outputs": [
    {
     "data": {
      "text/plain": [
       "Attrition         object\n",
       "BusinessTravel    object\n",
       "Department        object\n",
       "EducationField    object\n",
       "Gender            object\n",
       "JobRole           object\n",
       "MaritalStatus     object\n",
       "OverTime          object\n",
       "dtype: object"
      ]
     },
     "execution_count": 2289,
     "metadata": {},
     "output_type": "execute_result"
    }
   ],
   "source": [
    "# select columns which are of object datatype \n",
    "df_mod = df.select_dtypes(include=['object'])\n",
    "df_mod.dtypes"
   ]
  },
  {
   "cell_type": "markdown",
   "metadata": {},
   "source": [
    "Our dataset has <b>8 categorical features not already encoded</b>, sub-divided as follows:\n",
    "\n",
    "<b> nominal features (6): </b>\n",
    "- Attrition;  \n",
    "- Department;\n",
    "- EducationField;\n",
    "- Gender;\n",
    "- OverTime;\n",
    "- JobRole.\n",
    "\n",
    "<b> ordinal features (2): </b>  \n",
    "- BusinessTravel;\n",
    "- MaritalStatus;"
   ]
  },
  {
   "cell_type": "markdown",
   "metadata": {},
   "source": [
    "From now on we will proceed with our object values encoding, using the <b>OrdinalEncoder</b> and the <b>OneHotEncoder</b> as appropriate:"
   ]
  },
  {
   "cell_type": "code",
   "execution_count": 2290,
   "metadata": {},
   "outputs": [
    {
     "name": "stdout",
     "output_type": "stream",
     "text": [
      "Attrition's values encoded as:\n",
      "No\t0\n",
      "Yes\t1\n",
      "\n",
      "OverTime's values encoded as:\n",
      "No\t0\n",
      "Yes\t1\n"
     ]
    }
   ],
   "source": [
    "# create binary encoder \n",
    "encoder = OrdinalEncoder(categories=[['No', 'Yes']])  # excplict force encoding order\n",
    "# fit and transform model on data\n",
    "df[\"Attrition\"] = encoder.fit_transform(df[\"Attrition\"].values.reshape(-1,1))[:,0].astype(int)\n",
    "df[\"OverTime\"] = encoder.fit_transform(df[\"OverTime\"].values.reshape(-1,1))[:,0].astype(int)\n",
    "print_encoding(\"Attrition\", encoder.categories_)\n",
    "print()\n",
    "print_encoding(\"OverTime\", encoder.categories_)"
   ]
  },
  {
   "cell_type": "code",
   "execution_count": 2291,
   "metadata": {},
   "outputs": [
    {
     "name": "stdout",
     "output_type": "stream",
     "text": [
      "Gender's values encoded as:\n",
      "Male\t0\n",
      "Female\t1\n"
     ]
    }
   ],
   "source": [
    "# create binary encoder \n",
    "encoder = OrdinalEncoder(categories=[['Male', 'Female']])   # excplict force encoding order\n",
    "# fit and transform model on data\n",
    "df[\"Gender\"] = encoder.fit_transform(df[\"Gender\"].values.reshape(-1,1))[:,0].astype(int)\n",
    "print_encoding(\"Gender\", encoder.categories_)"
   ]
  },
  {
   "cell_type": "code",
   "execution_count": 2292,
   "metadata": {},
   "outputs": [
    {
     "name": "stdout",
     "output_type": "stream",
     "text": [
      "BusinessTravel's values encoded as:\n",
      "Non-Travel\t0\n",
      "Travel_Rarely\t1\n",
      "Travel_Frequently\t2\n"
     ]
    },
    {
     "data": {
      "text/plain": [
       "(883, 32)"
      ]
     },
     "execution_count": 2292,
     "metadata": {},
     "output_type": "execute_result"
    }
   ],
   "source": [
    "# create ordinal encoder \n",
    "column_name = \"BusinessTravel\"\n",
    "categories_list = [\"Non-Travel\", \"Travel_Rarely\", \"Travel_Frequently\"] \n",
    "encoder = OneHotEncoder(categories=[categories_list])   # excplict force encoding order\n",
    "# fit and transform model on data\n",
    "dummy_features = encoder.fit_transform(df[column_name].values.reshape(-1,1))\n",
    "# add dummy features to dataset, replacing categorical feature\n",
    "replace_categorical_feature_with_dummy_ones(column_name, categories_list, dummy_features)\n",
    "print_encoding(column_name, encoder.categories_)\n",
    "df.shape  # checking insertion"
   ]
  },
  {
   "cell_type": "code",
   "execution_count": 2293,
   "metadata": {},
   "outputs": [
    {
     "name": "stdout",
     "output_type": "stream",
     "text": [
      "MaritalStatus's values encoded as:\n",
      "Single\t0\n",
      "Married\t1\n",
      "Divorced\t2\n"
     ]
    },
    {
     "data": {
      "text/plain": [
       "(883, 34)"
      ]
     },
     "execution_count": 2293,
     "metadata": {},
     "output_type": "execute_result"
    }
   ],
   "source": [
    "# create ordinary encoder \n",
    "column_name = \"MaritalStatus\"\n",
    "categories_list = [\"Single\", \"Married\", \"Divorced\"]\n",
    "encoder = OneHotEncoder(categories=[categories_list])   # excplict force encoding order\n",
    "# fit and transform model on data\n",
    "dummy_features = encoder.fit_transform(df[column_name].values.reshape(-1,1))\n",
    "# add dummy features to dataset, replacing categorical feature\n",
    "replace_categorical_feature_with_dummy_ones(column_name, categories_list, dummy_features)\n",
    "print_encoding(column_name, encoder.categories_)\n",
    "df.shape  # checking insertion"
   ]
  },
  {
   "cell_type": "code",
   "execution_count": 2294,
   "metadata": {},
   "outputs": [
    {
     "name": "stdout",
     "output_type": "stream",
     "text": [
      "Department's values encoded as:\n",
      "Human Resources\t0\n",
      "Research & Development\t1\n",
      "Sales\t2\n"
     ]
    },
    {
     "data": {
      "text/plain": [
       "(883, 36)"
      ]
     },
     "execution_count": 2294,
     "metadata": {},
     "output_type": "execute_result"
    }
   ],
   "source": [
    "# create categorical encoder \n",
    "column_name = \"Department\"\n",
    "categories_list = sorted(df[column_name].unique())\n",
    "encoder = OneHotEncoder()\n",
    "# fit and transform model on data\n",
    "dummy_features = encoder.fit_transform(df[column_name].values.reshape(-1,1))\n",
    "# add dummy features to dataset, replacing categorical feature\n",
    "replace_categorical_feature_with_dummy_ones(column_name, categories_list, dummy_features)\n",
    "print_encoding(column_name, encoder.categories_)\n",
    "df.shape  # checking insertion"
   ]
  },
  {
   "cell_type": "code",
   "execution_count": 2295,
   "metadata": {},
   "outputs": [
    {
     "name": "stdout",
     "output_type": "stream",
     "text": [
      "EducationField's values encoded as:\n",
      "Human Resources\t0\n",
      "Life Sciences\t1\n",
      "Marketing\t2\n",
      "Medical\t3\n",
      "Other\t4\n",
      "Technical Degree\t5\n"
     ]
    },
    {
     "data": {
      "text/plain": [
       "(883, 41)"
      ]
     },
     "execution_count": 2295,
     "metadata": {},
     "output_type": "execute_result"
    }
   ],
   "source": [
    "# create categorical encoder \n",
    "column_name = \"EducationField\"\n",
    "categories_list = sorted(df[column_name].unique())\n",
    "encoder = OneHotEncoder()\n",
    "# fit and transform model on data\n",
    "dummy_features = encoder.fit_transform(df[column_name].values.reshape(-1,1))\n",
    "# add dummy features to dataset, replacing categorical feature\n",
    "replace_categorical_feature_with_dummy_ones(column_name, categories_list, dummy_features)\n",
    "print_encoding(column_name, encoder.categories_)\n",
    "df.shape  # checking insertion"
   ]
  },
  {
   "cell_type": "code",
   "execution_count": 2296,
   "metadata": {},
   "outputs": [
    {
     "name": "stdout",
     "output_type": "stream",
     "text": [
      "JobRole's values encoded as:\n",
      "Healthcare Representative\t0\n",
      "Human Resources\t1\n",
      "Laboratory Technician\t2\n",
      "Manager\t3\n",
      "Manufacturing Director\t4\n",
      "Research Director\t5\n",
      "Research Scientist\t6\n",
      "Sales Executive\t7\n",
      "Sales Representative\t8\n"
     ]
    },
    {
     "data": {
      "text/plain": [
       "(883, 49)"
      ]
     },
     "execution_count": 2296,
     "metadata": {},
     "output_type": "execute_result"
    }
   ],
   "source": [
    "# create categorical encoder \n",
    "column_name = \"JobRole\"\n",
    "categories_list = sorted(df[column_name].unique())\n",
    "encoder = OneHotEncoder()\n",
    "# fit and transform model on data\n",
    "dummy_features = encoder.fit_transform(df[column_name].values.reshape(-1,1))\n",
    "# add dummy features to dataset, replacing categorical feature\n",
    "replace_categorical_feature_with_dummy_ones(column_name, categories_list, dummy_features)\n",
    "print_encoding(column_name, encoder.categories_)\n",
    "df.shape  # checking insertion"
   ]
  },
  {
   "cell_type": "markdown",
   "metadata": {},
   "source": [
    "A we can see from our DataFram recap, all data object features are encoded. All our variables are int64 types, with the exection of <b>Age</b>, <b>MonthlyIncome</b>,  <b>MonthlyRate</b>, <b>TrainingTimesLastYear</b> and <b> YearsAtCompany</b> which had undergone transformations. We need to perform the convertion from int64 to float64:"
   ]
  },
  {
   "cell_type": "markdown",
   "metadata": {},
   "source": [
    "<h6>Convert all float64 elements to int64 </h6>"
   ]
  },
  {
   "cell_type": "code",
   "execution_count": 2297,
   "metadata": {},
   "outputs": [
    {
     "name": "stdout",
     "output_type": "stream",
     "text": [
      "<class 'pandas.core.frame.DataFrame'>\n",
      "Int64Index: 883 entries, 0 to 975\n",
      "Data columns (total 49 columns):\n",
      " #   Column                             Non-Null Count  Dtype  \n",
      "---  ------                             --------------  -----  \n",
      " 0   Age                                883 non-null    int64  \n",
      " 1   Attrition                          883 non-null    int64  \n",
      " 2   BusinessTravel_Non-Travel          883 non-null    int64  \n",
      " 3   BusinessTravel_Travel_Rarely       883 non-null    int64  \n",
      " 4   BusinessTravel_Travel_Frequently   883 non-null    int64  \n",
      " 5   Department_Human_Resources         883 non-null    int64  \n",
      " 6   Department_Research_&_Development  883 non-null    int64  \n",
      " 7   Department_Sales                   883 non-null    int64  \n",
      " 8   DistanceFromHome                   883 non-null    int64  \n",
      " 9   Education                          883 non-null    int64  \n",
      " 10  EducationField_Human_Resources     883 non-null    int64  \n",
      " 11  EducationField_Life_Sciences       883 non-null    int64  \n",
      " 12  EducationField_Marketing           883 non-null    int64  \n",
      " 13  EducationField_Medical             883 non-null    int64  \n",
      " 14  EducationField_Other               883 non-null    int64  \n",
      " 15  EducationField_Technical_Degree    883 non-null    int64  \n",
      " 16  EnvironmentSatisfaction            883 non-null    int64  \n",
      " 17  Gender                             883 non-null    int64  \n",
      " 18  HourlyRate                         883 non-null    int64  \n",
      " 19  JobInvolvement                     883 non-null    int64  \n",
      " 20  JobLevel                           883 non-null    int64  \n",
      " 21  JobRole_Healthcare_Representative  883 non-null    int64  \n",
      " 22  JobRole_Human_Resources            883 non-null    int64  \n",
      " 23  JobRole_Laboratory_Technician      883 non-null    int64  \n",
      " 24  JobRole_Manager                    883 non-null    int64  \n",
      " 25  JobRole_Manufacturing_Director     883 non-null    int64  \n",
      " 26  JobRole_Research_Director          883 non-null    int64  \n",
      " 27  JobRole_Research_Scientist         883 non-null    int64  \n",
      " 28  JobRole_Sales_Executive            883 non-null    int64  \n",
      " 29  JobRole_Sales_Representative       883 non-null    int64  \n",
      " 30  JobSatisfaction                    883 non-null    int64  \n",
      " 31  MaritalStatus_Single               883 non-null    int64  \n",
      " 32  MaritalStatus_Married              883 non-null    int64  \n",
      " 33  MaritalStatus_Divorced             883 non-null    int64  \n",
      " 34  MonthlyIncome                      883 non-null    int64  \n",
      " 35  MonthlyRate                        883 non-null    int64  \n",
      " 36  NumCompaniesWorked                 883 non-null    int64  \n",
      " 37  OverTime                           883 non-null    int64  \n",
      " 38  PercentSalaryHike                  883 non-null    int64  \n",
      " 39  RelationshipSatisfaction           883 non-null    int64  \n",
      " 40  StockOptionLevel                   883 non-null    int64  \n",
      " 41  TrainingTimesLastYear              883 non-null    int64  \n",
      " 42  WorkLifeBalance                    883 non-null    int64  \n",
      " 43  YearsAtCompany                     883 non-null    int64  \n",
      " 44  YearsInCurrentRole                 883 non-null    int64  \n",
      " 45  YearsSinceLastPromotion            883 non-null    int64  \n",
      " 46  MonthlyHours                       883 non-null    float64\n",
      " 47  TaxRate                            883 non-null    float64\n",
      " 48  OverallSatisfaction                883 non-null    int64  \n",
      "dtypes: float64(2), int64(47)\n",
      "memory usage: 344.9 KB\n"
     ]
    }
   ],
   "source": [
    "# converting float type to int\n",
    "df[\"Age\"] = df[\"Age\"].astype(int) \n",
    "df[\"MonthlyIncome\"] = df[\"MonthlyIncome\"].astype(int) \n",
    "df[\"MonthlyRate\"] = df[\"MonthlyRate\"].astype(int)\n",
    "df[\"TrainingTimesLastYear\"] = df[\"TrainingTimesLastYear\"].astype(int) \n",
    "df[\"YearsAtCompany\"] = df[\"YearsAtCompany\"].astype(int) \n",
    "df.info()"
   ]
  },
  {
   "cell_type": "markdown",
   "metadata": {},
   "source": [
    "All our feature now are int64, with the exception of <b>TaxRate</b>."
   ]
  },
  {
   "cell_type": "markdown",
   "metadata": {},
   "source": [
    "<b> Replot distribution without outliers </b>"
   ]
  },
  {
   "cell_type": "code",
   "execution_count": 2298,
   "metadata": {},
   "outputs": [
    {
     "data": {
      "image/png": "[encoded data removed]",
      "text/plain": [
       "<Figure size 1440x180 with 6 Axes>"
      ]
     },
     "metadata": {
      "needs_background": "light"
     },
     "output_type": "display_data"
    }
   ],
   "source": [
    "fig =plt.subplots(figsize=(20, 2.5))\n",
    "fig_dims = (1, 6)\n",
    "\n",
    "ax = plt.subplot2grid(fig_dims, (0, 0))\n",
    "sns.distplot(df[\"HourlyRate\"].dropna(), kde=False)\n",
    "ax = plt.subplot2grid(fig_dims, (0, 1))\n",
    "sns.distplot(df[\"MonthlyRate\"].dropna(), kde=False)\n",
    "ax = plt.subplot2grid(fig_dims, (0, 2))\n",
    "sns.distplot(df[\"MonthlyIncome\"].dropna(), kde=False)\n",
    "\n",
    "ax = plt.subplot2grid(fig_dims, (0, 3))\n",
    "sns.distplot(df[\"TaxRate\"].dropna(), kde=False)\n",
    "ax = plt.subplot2grid(fig_dims, (0, 4))\n",
    "sns.distplot(df[\"PercentSalaryHike\"].dropna(), kde=False)\n",
    "ax = plt.subplot2grid(fig_dims, (0, 5))\n",
    "sns.distplot(df[\"YearsAtCompany\"].dropna(), kde=False)\n",
    "plt.show()"
   ]
  },
  {
   "cell_type": "code",
   "execution_count": 2299,
   "metadata": {},
   "outputs": [
    {
     "data": {
      "image/png": "[encoded data removed]",
      "text/plain": [
       "<Figure size 1440x180 with 7 Axes>"
      ]
     },
     "metadata": {
      "needs_background": "light"
     },
     "output_type": "display_data"
    }
   ],
   "source": [
    "fig =plt.subplots(figsize=(20, 2.5))\n",
    "fig_dims = (1, 7)\n",
    "\n",
    "ax = plt.subplot2grid(fig_dims, (0, 0))\n",
    "sns.distplot(df[\"NumCompaniesWorked\"].dropna(), kde=False)\n",
    "ax = plt.subplot2grid(fig_dims, (0, 1))\n",
    "sns.distplot(df[\"YearsInCurrentRole\"].dropna(), kde=False)\n",
    "ax = plt.subplot2grid(fig_dims, (0, 2))\n",
    "sns.distplot(df[\"Age\"].dropna(), kde=False)\n",
    "\n",
    "ax = plt.subplot2grid(fig_dims, (0, 3))\n",
    "sns.distplot(df[\"DistanceFromHome\"].dropna(), kde=False)\n",
    "ax = plt.subplot2grid(fig_dims, (0, 4))\n",
    "sns.distplot(df[\"YearsSinceLastPromotion\"].dropna(), kde=False)\n",
    "ax = plt.subplot2grid(fig_dims, (0, 5))\n",
    "sns.distplot(df[\"TrainingTimesLastYear\"].dropna(), kde=False)\n",
    "\n",
    "ax = plt.subplot2grid(fig_dims, (0, 6))\n",
    "sns.distplot(df[\"MonthlyHours\"].dropna(), kde=False)\n",
    "\n",
    "plt.show()"
   ]
  },
  {
   "cell_type": "markdown",
   "metadata": {},
   "source": [
    "<h2> Dimensionality Reduction (Part 2)</h2>\n",
    "In this section we will remove redundant features using correlation."
   ]
  },
  {
   "cell_type": "markdown",
   "metadata": {},
   "source": [
    "<h6> Data Normalization </h6>\n",
    "\n",
    "Many machine learning algorithms perform better when numerical input variables are scaled to a standard range, since the scale and distribution of dataset's data may be different for each variable.This difference in scale for input variables does not affect all machine learning algorithms. For example, algorithms that fit a model that use a weighted sum of input variables or distance measures between examples are affected, such as k-nearest neighbors and support vector machines. There are also algorithms that are unaffected by the scale of numerical input variables, most notably decision trees and ensembles of trees, like\n",
    "random forest.\n",
    "\n",
    "\n",
    "The two most popular techniques for scaling numerical data prior to modeling are <b>normalization</b> and <b>standardization</b>. Since our dataset doesn't contain Gaussian distributed feature we will normalize it.\n",
    "\n",
    "Normalization is a rescaling of the data from the original range so that all values are within the\n",
    "new range of 0 and 1. A value is normalized as follows:\n",
    "$$y = \\dfrac{x - min}{max - min}$$\n",
    "where the minimum and maximum values pertain to the value x being normalized.\n",
    "\n",
    "The <b>scikit-learn</b> machine learning library provides the <b>MinMaxScaler</b> class that supports data normalisation. The default scale for the MinMaxScaler is to rescale variables into the range \\[0, 1\\], although\n",
    "a preferred scale can be specified via the <u>feature_range</u> argument as a tuple containing the\n",
    "min and the max for all variables. If needed, the transform can be inverted (this is useful for converting predictions back into their original scale), this can be done by calling the <b>inverse_transform()</b>\n",
    "function."
   ]
  },
  {
   "cell_type": "code",
   "execution_count": 2300,
   "metadata": {},
   "outputs": [],
   "source": [
    "df_norm = df.copy()  # make a copy of the DataFrame to perform normalisation on it"
   ]
  },
  {
   "cell_type": "code",
   "execution_count": 2301,
   "metadata": {},
   "outputs": [
    {
     "data": {
      "text/html": [
       "<div>\n",
       "<style scoped>\n",
       "    .dataframe tbody tr th:only-of-type {\n",
       "        vertical-align: middle;\n",
       "    }\n",
       "\n",
       "    .dataframe tbody tr th {\n",
       "        vertical-align: top;\n",
       "    }\n",
       "\n",
       "    .dataframe thead th {\n",
       "        text-align: right;\n",
       "    }\n",
       "</style>\n",
       "<table border=\"1\" class=\"dataframe\">\n",
       "  <thead>\n",
       "    <tr style=\"text-align: right;\">\n",
       "      <th></th>\n",
       "      <th>Age</th>\n",
       "      <th>Attrition</th>\n",
       "      <th>BusinessTravel_Non-Travel</th>\n",
       "      <th>BusinessTravel_Travel_Rarely</th>\n",
       "      <th>BusinessTravel_Travel_Frequently</th>\n",
       "      <th>Department_Human_Resources</th>\n",
       "      <th>Department_Research_&amp;_Development</th>\n",
       "      <th>Department_Sales</th>\n",
       "      <th>DistanceFromHome</th>\n",
       "      <th>Education</th>\n",
       "      <th>...</th>\n",
       "      <th>RelationshipSatisfaction</th>\n",
       "      <th>StockOptionLevel</th>\n",
       "      <th>TrainingTimesLastYear</th>\n",
       "      <th>WorkLifeBalance</th>\n",
       "      <th>YearsAtCompany</th>\n",
       "      <th>YearsInCurrentRole</th>\n",
       "      <th>YearsSinceLastPromotion</th>\n",
       "      <th>MonthlyHours</th>\n",
       "      <th>TaxRate</th>\n",
       "      <th>OverallSatisfaction</th>\n",
       "    </tr>\n",
       "  </thead>\n",
       "  <tbody>\n",
       "    <tr>\n",
       "      <th>count</th>\n",
       "      <td>883.00</td>\n",
       "      <td>883.00</td>\n",
       "      <td>883.00</td>\n",
       "      <td>883.00</td>\n",
       "      <td>883.00</td>\n",
       "      <td>883.00</td>\n",
       "      <td>883.00</td>\n",
       "      <td>883.00</td>\n",
       "      <td>883.00</td>\n",
       "      <td>883.00</td>\n",
       "      <td>...</td>\n",
       "      <td>883.00</td>\n",
       "      <td>883.00</td>\n",
       "      <td>883.00</td>\n",
       "      <td>883.00</td>\n",
       "      <td>883.00</td>\n",
       "      <td>883.00</td>\n",
       "      <td>883.00</td>\n",
       "      <td>883.00</td>\n",
       "      <td>883.00</td>\n",
       "      <td>883.00</td>\n",
       "    </tr>\n",
       "    <tr>\n",
       "      <th>mean</th>\n",
       "      <td>0.44</td>\n",
       "      <td>0.17</td>\n",
       "      <td>0.10</td>\n",
       "      <td>0.73</td>\n",
       "      <td>0.16</td>\n",
       "      <td>0.04</td>\n",
       "      <td>0.65</td>\n",
       "      <td>0.31</td>\n",
       "      <td>0.29</td>\n",
       "      <td>0.47</td>\n",
       "      <td>...</td>\n",
       "      <td>0.57</td>\n",
       "      <td>0.26</td>\n",
       "      <td>0.44</td>\n",
       "      <td>0.59</td>\n",
       "      <td>0.32</td>\n",
       "      <td>0.24</td>\n",
       "      <td>0.10</td>\n",
       "      <td>0.37</td>\n",
       "      <td>0.49</td>\n",
       "      <td>0.44</td>\n",
       "    </tr>\n",
       "    <tr>\n",
       "      <th>std</th>\n",
       "      <td>0.20</td>\n",
       "      <td>0.38</td>\n",
       "      <td>0.30</td>\n",
       "      <td>0.44</td>\n",
       "      <td>0.37</td>\n",
       "      <td>0.20</td>\n",
       "      <td>0.48</td>\n",
       "      <td>0.46</td>\n",
       "      <td>0.29</td>\n",
       "      <td>0.25</td>\n",
       "      <td>...</td>\n",
       "      <td>0.36</td>\n",
       "      <td>0.29</td>\n",
       "      <td>0.20</td>\n",
       "      <td>0.24</td>\n",
       "      <td>0.23</td>\n",
       "      <td>0.21</td>\n",
       "      <td>0.16</td>\n",
       "      <td>0.23</td>\n",
       "      <td>0.34</td>\n",
       "      <td>0.18</td>\n",
       "    </tr>\n",
       "    <tr>\n",
       "      <th>min</th>\n",
       "      <td>0.00</td>\n",
       "      <td>0.00</td>\n",
       "      <td>0.00</td>\n",
       "      <td>0.00</td>\n",
       "      <td>0.00</td>\n",
       "      <td>0.00</td>\n",
       "      <td>0.00</td>\n",
       "      <td>0.00</td>\n",
       "      <td>0.00</td>\n",
       "      <td>0.00</td>\n",
       "      <td>...</td>\n",
       "      <td>0.00</td>\n",
       "      <td>0.00</td>\n",
       "      <td>0.00</td>\n",
       "      <td>0.00</td>\n",
       "      <td>0.00</td>\n",
       "      <td>0.00</td>\n",
       "      <td>0.00</td>\n",
       "      <td>0.00</td>\n",
       "      <td>0.00</td>\n",
       "      <td>0.00</td>\n",
       "    </tr>\n",
       "    <tr>\n",
       "      <th>25%</th>\n",
       "      <td>0.29</td>\n",
       "      <td>0.00</td>\n",
       "      <td>0.00</td>\n",
       "      <td>0.00</td>\n",
       "      <td>0.00</td>\n",
       "      <td>0.00</td>\n",
       "      <td>0.00</td>\n",
       "      <td>0.00</td>\n",
       "      <td>0.04</td>\n",
       "      <td>0.25</td>\n",
       "      <td>...</td>\n",
       "      <td>0.33</td>\n",
       "      <td>0.00</td>\n",
       "      <td>0.33</td>\n",
       "      <td>0.33</td>\n",
       "      <td>0.15</td>\n",
       "      <td>0.12</td>\n",
       "      <td>0.00</td>\n",
       "      <td>0.19</td>\n",
       "      <td>0.14</td>\n",
       "      <td>0.33</td>\n",
       "    </tr>\n",
       "    <tr>\n",
       "      <th>50%</th>\n",
       "      <td>0.40</td>\n",
       "      <td>0.00</td>\n",
       "      <td>0.00</td>\n",
       "      <td>1.00</td>\n",
       "      <td>0.00</td>\n",
       "      <td>0.00</td>\n",
       "      <td>1.00</td>\n",
       "      <td>0.00</td>\n",
       "      <td>0.21</td>\n",
       "      <td>0.50</td>\n",
       "      <td>...</td>\n",
       "      <td>0.67</td>\n",
       "      <td>0.33</td>\n",
       "      <td>0.33</td>\n",
       "      <td>0.67</td>\n",
       "      <td>0.25</td>\n",
       "      <td>0.19</td>\n",
       "      <td>0.07</td>\n",
       "      <td>0.33</td>\n",
       "      <td>0.56</td>\n",
       "      <td>0.33</td>\n",
       "    </tr>\n",
       "    <tr>\n",
       "      <th>75%</th>\n",
       "      <td>0.57</td>\n",
       "      <td>0.00</td>\n",
       "      <td>0.00</td>\n",
       "      <td>1.00</td>\n",
       "      <td>0.00</td>\n",
       "      <td>0.00</td>\n",
       "      <td>1.00</td>\n",
       "      <td>1.00</td>\n",
       "      <td>0.46</td>\n",
       "      <td>0.75</td>\n",
       "      <td>...</td>\n",
       "      <td>1.00</td>\n",
       "      <td>0.33</td>\n",
       "      <td>0.50</td>\n",
       "      <td>0.67</td>\n",
       "      <td>0.45</td>\n",
       "      <td>0.44</td>\n",
       "      <td>0.13</td>\n",
       "      <td>0.50</td>\n",
       "      <td>0.80</td>\n",
       "      <td>0.67</td>\n",
       "    </tr>\n",
       "    <tr>\n",
       "      <th>max</th>\n",
       "      <td>1.00</td>\n",
       "      <td>1.00</td>\n",
       "      <td>1.00</td>\n",
       "      <td>1.00</td>\n",
       "      <td>1.00</td>\n",
       "      <td>1.00</td>\n",
       "      <td>1.00</td>\n",
       "      <td>1.00</td>\n",
       "      <td>1.00</td>\n",
       "      <td>1.00</td>\n",
       "      <td>...</td>\n",
       "      <td>1.00</td>\n",
       "      <td>1.00</td>\n",
       "      <td>1.00</td>\n",
       "      <td>1.00</td>\n",
       "      <td>1.00</td>\n",
       "      <td>1.00</td>\n",
       "      <td>1.00</td>\n",
       "      <td>1.00</td>\n",
       "      <td>1.00</td>\n",
       "      <td>1.00</td>\n",
       "    </tr>\n",
       "  </tbody>\n",
       "</table>\n",
       "<p>8 rows × 49 columns</p>\n",
       "</div>"
      ],
      "text/plain": [
       "         Age  Attrition  BusinessTravel_Non-Travel  \\\n",
       "count 883.00     883.00                     883.00   \n",
       "mean    0.44       0.17                       0.10   \n",
       "std     0.20       0.38                       0.30   \n",
       "min     0.00       0.00                       0.00   \n",
       "25%     0.29       0.00                       0.00   \n",
       "50%     0.40       0.00                       0.00   \n",
       "75%     0.57       0.00                       0.00   \n",
       "max     1.00       1.00                       1.00   \n",
       "\n",
       "       BusinessTravel_Travel_Rarely  BusinessTravel_Travel_Frequently  \\\n",
       "count                        883.00                            883.00   \n",
       "mean                           0.73                              0.16   \n",
       "std                            0.44                              0.37   \n",
       "min                            0.00                              0.00   \n",
       "25%                            0.00                              0.00   \n",
       "50%                            1.00                              0.00   \n",
       "75%                            1.00                              0.00   \n",
       "max                            1.00                              1.00   \n",
       "\n",
       "       Department_Human_Resources  Department_Research_&_Development  \\\n",
       "count                      883.00                             883.00   \n",
       "mean                         0.04                               0.65   \n",
       "std                          0.20                               0.48   \n",
       "min                          0.00                               0.00   \n",
       "25%                          0.00                               0.00   \n",
       "50%                          0.00                               1.00   \n",
       "75%                          0.00                               1.00   \n",
       "max                          1.00                               1.00   \n",
       "\n",
       "       Department_Sales  DistanceFromHome  Education  ...  \\\n",
       "count            883.00            883.00     883.00  ...   \n",
       "mean               0.31              0.29       0.47  ...   \n",
       "std                0.46              0.29       0.25  ...   \n",
       "min                0.00              0.00       0.00  ...   \n",
       "25%                0.00              0.04       0.25  ...   \n",
       "50%                0.00              0.21       0.50  ...   \n",
       "75%                1.00              0.46       0.75  ...   \n",
       "max                1.00              1.00       1.00  ...   \n",
       "\n",
       "       RelationshipSatisfaction  StockOptionLevel  TrainingTimesLastYear  \\\n",
       "count                    883.00            883.00                 883.00   \n",
       "mean                       0.57              0.26                   0.44   \n",
       "std                        0.36              0.29                   0.20   \n",
       "min                        0.00              0.00                   0.00   \n",
       "25%                        0.33              0.00                   0.33   \n",
       "50%                        0.67              0.33                   0.33   \n",
       "75%                        1.00              0.33                   0.50   \n",
       "max                        1.00              1.00                   1.00   \n",
       "\n",
       "       WorkLifeBalance  YearsAtCompany  YearsInCurrentRole  \\\n",
       "count           883.00          883.00              883.00   \n",
       "mean              0.59            0.32                0.24   \n",
       "std               0.24            0.23                0.21   \n",
       "min               0.00            0.00                0.00   \n",
       "25%               0.33            0.15                0.12   \n",
       "50%               0.67            0.25                0.19   \n",
       "75%               0.67            0.45                0.44   \n",
       "max               1.00            1.00                1.00   \n",
       "\n",
       "       YearsSinceLastPromotion  MonthlyHours  TaxRate  OverallSatisfaction  \n",
       "count                   883.00        883.00   883.00               883.00  \n",
       "mean                      0.10          0.37     0.49                 0.44  \n",
       "std                       0.16          0.23     0.34                 0.18  \n",
       "min                       0.00          0.00     0.00                 0.00  \n",
       "25%                       0.00          0.19     0.14                 0.33  \n",
       "50%                       0.07          0.33     0.56                 0.33  \n",
       "75%                       0.13          0.50     0.80                 0.67  \n",
       "max                       1.00          1.00     1.00                 1.00  \n",
       "\n",
       "[8 rows x 49 columns]"
      ]
     },
     "execution_count": 2301,
     "metadata": {},
     "output_type": "execute_result"
    }
   ],
   "source": [
    "# for column_name in columns_to_normalize:\n",
    "column_names = list(df.columns)\n",
    "for column_name in column_names:\n",
    "    # data = df[column_name].fillna(-1)  # convert NaN values to integers (-1) \n",
    "    data = df_norm[column_name]\n",
    "    # define the scaler model\n",
    "    scaler = MinMaxScaler()\n",
    "    # fit the model on the feature to normale its values and transform it\n",
    "    df_norm[column_name] = scaler.fit_transform(df_norm[column_name].values.reshape(-1,1))[:, 0]\n",
    "# normalized input variable's summarry\n",
    "df_norm.describe()  "
   ]
  },
  {
   "cell_type": "code",
   "execution_count": 2302,
   "metadata": {},
   "outputs": [],
   "source": [
    "# check if normalisation was performed well\n",
    "column_names = list(df.columns)\n",
    "for column_name in column_names:\n",
    "    data = df_norm[column_name]\n",
    "    d_min = min(data)\n",
    "    d_max = max(data)\n",
    "    d_std = np.std(data)\n",
    "\n",
    "    if d_min != 0:\n",
    "        print(\"min %f error %s\" % (d_min, column_name))\n",
    "\n",
    "    if d_max < 0.99 or d_max > 1.01:  # handle overlow errors\n",
    "        print(\"max %f error %s\" % (d_max, column_name))\n",
    "\n",
    "    if d_std >= 1.0:\n",
    "        print(\"std %f error %s\" % (d_std, column_name))"
   ]
  },
  {
   "cell_type": "markdown",
   "metadata": {},
   "source": [
    "We can see that the distributions have been adjusted and that the minimum and maximum values for categorical or numerical variables are now a crisp 0.0 and 1.0 respectively."
   ]
  },
  {
   "cell_type": "markdown",
   "metadata": {},
   "source": [
    "<h6>Correlations</h6>"
   ]
  },
  {
   "cell_type": "code",
   "execution_count": 2303,
   "metadata": {},
   "outputs": [],
   "source": [
    "def draw_sns_heatmap(correlation_matrix, h_neg, h_pos, title, pngfile):\n",
    "    \"\"\"\n",
    "    Function which draws a seaborn' heatmap based on the correlation matrix passed by argument\n",
    "    \"\"\"\n",
    "    # generate a mask for the upper triangle\n",
    "    mask = np.zeros_like(correlation_matrix, dtype=np.bool)\n",
    "    mask[np.triu_indices_from(mask)] = True\n",
    "\n",
    "    # set up the matplotlib figure\n",
    "    fig, ax = plt.subplots(figsize=(40, 10))\n",
    "\n",
    "    # generate a custom diverging colormap\n",
    "    cmap = sns.diverging_palette(h_neg, h_pos, as_cmap=True)\n",
    "    \n",
    "    # draw the heatmap with the mask and correct aspect ratio\n",
    "    sns.heatmap(correlation_matrix, mask=mask, cmap=cmap, vmax=.3, center=0,\n",
    "                square=True, linewidths=.5, cbar_kws={\"shrink\": .5})\n",
    "    plt.title(title)\n",
    "    plt.xticks(fontsize=10)\n",
    "\n",
    "    # save figure\n",
    "    fig.savefig(plot_directory + pngfile)"
   ]
  },
  {
   "cell_type": "markdown",
   "metadata": {},
   "source": [
    "<h6> Person correlation coefficient </h6> <br>\n",
    "$$\\rho_{xy} = \\dfrac{Cov(x, y)}{\\sigma_{x}, \\sigma_{y}}$$ <br>\n",
    "where: <br>\n",
    "- $Cov(x, y)$ is the covariance between variable x and y; <br>\n",
    "- $\\sigma_{x}$ and $\\sigma_{y}$ are variables' standard deviations. <br>\n",
    "\n",
    "Values always range between -1 (strong negative relationship) and +1 (strong positive relationship). Values at or close to zero imply weak or no linear relationship."
   ]
  },
  {
   "cell_type": "code",
   "execution_count": 2304,
   "metadata": {},
   "outputs": [
    {
     "data": {
      "image/png": "[encoded data removed]",
      "text/plain": [
       "<Figure size 2880x720 with 2 Axes>"
      ]
     },
     "metadata": {
      "needs_background": "light"
     },
     "output_type": "display_data"
    }
   ],
   "source": [
    "# compute the correlation matrix, excluding NA/null values\n",
    "correlation_matrix = df_norm.corr(\"pearson\")  # pearson correlation\n",
    "# draw heatmap\n",
    "draw_sns_heatmap(correlation_matrix, 0, 250, \"Pearson correlation matrix\", \"pearson_correlation_matrix.png\")"
   ]
  },
  {
   "cell_type": "markdown",
   "metadata": {},
   "source": [
    "<h6> Pearson correlation investigation </h6>\n",
    "Since \"Pearson\", \"Spearman\" and \"Kendall\"'s correlations are equivalent, we will stick with <b>Pearson correlation</b> in our dimensional reduction process. In particular we will remove columns highly correlated given a <b>threshold equal to |0.5|</b>: "
   ]
  },
  {
   "cell_type": "code",
   "execution_count": 2305,
   "metadata": {},
   "outputs": [
    {
     "name": "stdout",
     "output_type": "stream",
     "text": [
      "EducationField_Human_Resources Department_Human_Resources 0.6470676246439748\n",
      "EducationField_Marketing Department_Sales 0.5313792135290534\n",
      "JobRole_Human_Resources Department_Human_Resources 0.9698652769649084\n",
      "JobRole_Human_Resources EducationField_Human_Resources 0.6209677096822994\n",
      "JobRole_Manager JobLevel 0.5499301890569317\n",
      "JobRole_Sales_Executive Department_Sales 0.7733426549734167\n",
      "YearsSinceLastPromotion YearsInCurrentRole 0.6496747198378838\n",
      "MonthlyHours MonthlyRate 0.7747573817886872\n"
     ]
    }
   ],
   "source": [
    "# investigating positive correlation\n",
    "threshold = 0.5\n",
    "corr_matrix = df.corr(\"pearson\")\n",
    "for i in range(len(corr_matrix.columns)):\n",
    "    for j in range(i):\n",
    "        if (corr_matrix.iloc[i, j] >= threshold):\n",
    "            print(corr_matrix.columns[i], corr_matrix.columns[j], corr_matrix.iloc[i, j])"
   ]
  },
  {
   "cell_type": "code",
   "execution_count": 2306,
   "metadata": {},
   "outputs": [
    {
     "name": "stdout",
     "output_type": "stream",
     "text": [
      "BusinessTravel_Travel_Rarely BusinessTravel_Non-Travel -0.5594203142336399\n",
      "BusinessTravel_Travel_Frequently BusinessTravel_Travel_Rarely -0.7360535167023607\n",
      "Department_Sales Department_Research_&_Development -0.9143469516805801\n",
      "EducationField_Medical EducationField_Life_Sciences -0.5569128331065998\n",
      "JobRole_Sales_Executive Department_Research_&_Development -0.7071034991794948\n",
      "MaritalStatus_Married MaritalStatus_Single -0.6371026540882175\n",
      "StockOptionLevel MaritalStatus_Single -0.6353329623186743\n",
      "MonthlyHours HourlyRate -0.5219674137015899\n",
      "TaxRate MonthlyIncome -0.6418043562919019\n"
     ]
    }
   ],
   "source": [
    "# investigating negative correlation\n",
    "threshold = -0.5\n",
    "corr_matrix = df.corr(\"pearson\")\n",
    "for i in range(len(corr_matrix.columns)):\n",
    "    for j in range(i):\n",
    "        if (corr_matrix.iloc[i, j] <= threshold):\n",
    "            print(corr_matrix.columns[i], corr_matrix.columns[j], corr_matrix.iloc[i, j])"
   ]
  },
  {
   "cell_type": "markdown",
   "metadata": {},
   "source": [
    "From the Pearson correlation we found out that we can <b>remove</b> <b>\"MaritalStatus\"</b>, <b>\"EducationField\"</b>, <b>\"YearsSinceLastPromotion\"</b> and <b>HourlyRate</b> features which are correlated and so implictly encode in \"StockOptionLevel\"\\*, \"JobRole\", \"YearsInCurrentRole\" and MonthlyHours features. \n",
    "\n",
    "Regarding the <b>\"Department\"</b> features, they are positive correlated with <b>\"JobRole\"</b>, but we decided not to remove them immediatly, since we will loose Managers' belonging department. Differently from the other jobroles, in fact, \"JobRole_Manager\" doesn't encode in its name the department field in which a manager operates, so before removing the three onehot encoded \"Department\" features we need to extend the onehot encoded \"JobRole_Manager\" feature with its belonging department. In doing so, we will <b>replace the \"JobRole_Manager\" feature with</b> three new binary features:\n",
    "\n",
    "- <b>\"JobRole_Manager_Research_&_Development\"</b>;\n",
    "- <b>\"JobRole_Manager_Human_Resources\"</b>;\n",
    "- <b>\"JobRole_Manager_Sales\"</b>. \n",
    "\n",
    "Then we can proceed to eliminate the three onehot encoded \"Department\" features.\n",
    "\n",
    "We adopt this solution since we could free us from one variable: having the above binary variables, \n",
    "replaced the intial four binary variables \"JobRole_Manager\", \"Department_Research_&_Development\", \"Department_Human_Resources\" and \"Department_Sales\".\n",
    "\n",
    "Finally, since <b>MonthlyIncome</b> is negative correlated with our new added TaxRate feature, we will drop it, too. From this correlation we found out that higer is the applied tax uppot the MonthlyRate and lower is the resulting MonthlyIncome; viceversa lower is the applied tax uppot the MonthlyRate and higher is the resulting MonthlyIncome. More interesting is that it doesn't exists a strong correlation between TaxRate and MonthlyRate, which testifies how the taxation is not proportionate to MonthlyRate (ideally to higher MonthlyRates should have matched an higher TaxRate). We need to investigate taxation causes more thoroughly (i.e. it may be influenced by JobRole, JobLevel, YearsInCurrentRole, YearsAtCompany, TrainingTimeLastYear, StockOptionLevel, PercentSalaryHike and maybe other categorical features, too).\n",
    "\n",
    "\\*  StockOptionLevel is granted to married/divorced employees"
   ]
  },
  {
   "cell_type": "code",
   "execution_count": 2307,
   "metadata": {},
   "outputs": [
    {
     "name": "stdout",
     "output_type": "stream",
     "text": [
      "(883, 52)\n",
      "(883, 52)\n"
     ]
    }
   ],
   "source": [
    "# get \"JobRole_Manager\" index to know where to insert the 3 new features\n",
    "jobrole_manager_index = df.columns.get_loc(\"JobRole_Manager\")\n",
    "data1 = []\n",
    "data2 = []\n",
    "data3 = []\n",
    "\n",
    "# create the 3 new features\n",
    "for row in df_norm[[\"Department_Research_&_Development\", \"Department_Sales\",\n",
    "                                           \"Department_Human_Resources\", \"JobRole_Manager\"]].itertuples():\n",
    "    if row.JobRole_Manager == 1:\n",
    "        if row.Department_Sales == 1:\n",
    "            data1.append(0)\n",
    "            data2.append(1)\n",
    "            data3.append(0)\n",
    "        elif row.Department_Human_Resources == 1:\n",
    "            data1.append(0)\n",
    "            data2.append(0)\n",
    "            data3.append(1)\n",
    "        else:\n",
    "            data1.append(1)\n",
    "            data2.append(0)\n",
    "            data3.append(0)\n",
    "    else:\n",
    "        data1.append(0)\n",
    "        data2.append(0)\n",
    "        data3.append(0)\n",
    "\n",
    "# # insert new columns in normalized DataFrame\n",
    "df_norm.insert(jobrole_manager_index, 'JobRole_Manager_Human_Resources', data3)\n",
    "df_norm.insert(jobrole_manager_index, 'JobRole_Manager_Sales', data2)\n",
    "df_norm.insert(jobrole_manager_index, 'JobRole_Manager_Research_&_Development', data1)\n",
    "df_norm[\"JobRole_Manager_Human_Resources\"] = df_norm[\"JobRole_Manager_Human_Resources\"].astype(float)\n",
    "df_norm[\"JobRole_Manager_Sales\"] = df_norm[\"JobRole_Manager_Sales\"].astype(float)\n",
    "df_norm[\"JobRole_Manager_Research_&_Development\"] = df_norm[\"JobRole_Manager_Research_&_Development\"].astype(float)\n",
    "\n",
    "# insert new columns in original DataFrame, too\n",
    "df.insert(jobrole_manager_index, 'JobRole_Manager_Human_Resources',  data3)\n",
    "df.insert(jobrole_manager_index, 'JobRole_Manager_Sales',  data2)\n",
    "df.insert(jobrole_manager_index, 'JobRole_Manager_Research_&_Development', data1)\n",
    "\n",
    "# check insertion output\n",
    "print(df_norm.shape)\n",
    "print(df.shape)"
   ]
  },
  {
   "cell_type": "markdown",
   "metadata": {},
   "source": [
    "<h6> Highly correlated features dropping </h6>"
   ]
  },
  {
   "cell_type": "code",
   "execution_count": 2308,
   "metadata": {},
   "outputs": [
    {
     "name": "stdout",
     "output_type": "stream",
     "text": [
      "(883, 36)\n",
      "(883, 36)\n"
     ]
    }
   ],
   "source": [
    "to_drop = [\"JobRole_Manager\", \"Department_Research_&_Development\", \"Department_Sales\",\n",
    "           \"Department_Human_Resources\",\"MaritalStatus_Single\", \"EducationField_Human_Resources\", \n",
    "           \"EducationField_Life_Sciences\",\"EducationField_Marketing\", \n",
    "           \"EducationField_Medical\", \"EducationField_Other\", \"EducationField_Technical_Degree\",\n",
    "           \"MaritalStatus_Married\", \"MaritalStatus_Divorced\", \"YearsSinceLastPromotion\", \n",
    "           \"HourlyRate\", \"MonthlyRate\"]\n",
    "\n",
    "\n",
    "# drop features \n",
    "for column_name in to_drop:\n",
    "    del df[column_name]\n",
    "    del df_norm[column_name]\n",
    "\n",
    "# check dropping output\n",
    "print(df.shape)\n",
    "print(df_norm.shape)"
   ]
  },
  {
   "cell_type": "code",
   "execution_count": 2309,
   "metadata": {},
   "outputs": [
    {
     "name": "stdout",
     "output_type": "stream",
     "text": [
      "<class 'pandas.core.frame.DataFrame'>\n",
      "Int64Index: 883 entries, 0 to 975\n",
      "Data columns (total 36 columns):\n",
      " #   Column                                  Non-Null Count  Dtype  \n",
      "---  ------                                  --------------  -----  \n",
      " 0   Age                                     883 non-null    int64  \n",
      " 1   Attrition                               883 non-null    int64  \n",
      " 2   BusinessTravel_Non-Travel               883 non-null    int64  \n",
      " 3   BusinessTravel_Travel_Rarely            883 non-null    int64  \n",
      " 4   BusinessTravel_Travel_Frequently        883 non-null    int64  \n",
      " 5   DistanceFromHome                        883 non-null    int64  \n",
      " 6   Education                               883 non-null    int64  \n",
      " 7   EnvironmentSatisfaction                 883 non-null    int64  \n",
      " 8   Gender                                  883 non-null    int64  \n",
      " 9   JobInvolvement                          883 non-null    int64  \n",
      " 10  JobLevel                                883 non-null    int64  \n",
      " 11  JobRole_Healthcare_Representative       883 non-null    int64  \n",
      " 12  JobRole_Human_Resources                 883 non-null    int64  \n",
      " 13  JobRole_Laboratory_Technician           883 non-null    int64  \n",
      " 14  JobRole_Manager_Research_&_Development  883 non-null    int64  \n",
      " 15  JobRole_Manager_Sales                   883 non-null    int64  \n",
      " 16  JobRole_Manager_Human_Resources         883 non-null    int64  \n",
      " 17  JobRole_Manufacturing_Director          883 non-null    int64  \n",
      " 18  JobRole_Research_Director               883 non-null    int64  \n",
      " 19  JobRole_Research_Scientist              883 non-null    int64  \n",
      " 20  JobRole_Sales_Executive                 883 non-null    int64  \n",
      " 21  JobRole_Sales_Representative            883 non-null    int64  \n",
      " 22  JobSatisfaction                         883 non-null    int64  \n",
      " 23  MonthlyIncome                           883 non-null    int64  \n",
      " 24  NumCompaniesWorked                      883 non-null    int64  \n",
      " 25  OverTime                                883 non-null    int64  \n",
      " 26  PercentSalaryHike                       883 non-null    int64  \n",
      " 27  RelationshipSatisfaction                883 non-null    int64  \n",
      " 28  StockOptionLevel                        883 non-null    int64  \n",
      " 29  TrainingTimesLastYear                   883 non-null    int64  \n",
      " 30  WorkLifeBalance                         883 non-null    int64  \n",
      " 31  YearsAtCompany                          883 non-null    int64  \n",
      " 32  YearsInCurrentRole                      883 non-null    int64  \n",
      " 33  MonthlyHours                            883 non-null    float64\n",
      " 34  TaxRate                                 883 non-null    float64\n",
      " 35  OverallSatisfaction                     883 non-null    int64  \n",
      "dtypes: float64(2), int64(34)\n",
      "memory usage: 255.2 KB\n"
     ]
    }
   ],
   "source": [
    "df.info()"
   ]
  },
  {
   "cell_type": "code",
   "execution_count": 2310,
   "metadata": {},
   "outputs": [
    {
     "name": "stdout",
     "output_type": "stream",
     "text": [
      "<class 'pandas.core.frame.DataFrame'>\n",
      "Int64Index: 883 entries, 0 to 975\n",
      "Data columns (total 36 columns):\n",
      " #   Column                                  Non-Null Count  Dtype  \n",
      "---  ------                                  --------------  -----  \n",
      " 0   Age                                     883 non-null    float64\n",
      " 1   Attrition                               883 non-null    float64\n",
      " 2   BusinessTravel_Non-Travel               883 non-null    float64\n",
      " 3   BusinessTravel_Travel_Rarely            883 non-null    float64\n",
      " 4   BusinessTravel_Travel_Frequently        883 non-null    float64\n",
      " 5   DistanceFromHome                        883 non-null    float64\n",
      " 6   Education                               883 non-null    float64\n",
      " 7   EnvironmentSatisfaction                 883 non-null    float64\n",
      " 8   Gender                                  883 non-null    float64\n",
      " 9   JobInvolvement                          883 non-null    float64\n",
      " 10  JobLevel                                883 non-null    float64\n",
      " 11  JobRole_Healthcare_Representative       883 non-null    float64\n",
      " 12  JobRole_Human_Resources                 883 non-null    float64\n",
      " 13  JobRole_Laboratory_Technician           883 non-null    float64\n",
      " 14  JobRole_Manager_Research_&_Development  883 non-null    float64\n",
      " 15  JobRole_Manager_Sales                   883 non-null    float64\n",
      " 16  JobRole_Manager_Human_Resources         883 non-null    float64\n",
      " 17  JobRole_Manufacturing_Director          883 non-null    float64\n",
      " 18  JobRole_Research_Director               883 non-null    float64\n",
      " 19  JobRole_Research_Scientist              883 non-null    float64\n",
      " 20  JobRole_Sales_Executive                 883 non-null    float64\n",
      " 21  JobRole_Sales_Representative            883 non-null    float64\n",
      " 22  JobSatisfaction                         883 non-null    float64\n",
      " 23  MonthlyIncome                           883 non-null    float64\n",
      " 24  NumCompaniesWorked                      883 non-null    float64\n",
      " 25  OverTime                                883 non-null    float64\n",
      " 26  PercentSalaryHike                       883 non-null    float64\n",
      " 27  RelationshipSatisfaction                883 non-null    float64\n",
      " 28  StockOptionLevel                        883 non-null    float64\n",
      " 29  TrainingTimesLastYear                   883 non-null    float64\n",
      " 30  WorkLifeBalance                         883 non-null    float64\n",
      " 31  YearsAtCompany                          883 non-null    float64\n",
      " 32  YearsInCurrentRole                      883 non-null    float64\n",
      " 33  MonthlyHours                            883 non-null    float64\n",
      " 34  TaxRate                                 883 non-null    float64\n",
      " 35  OverallSatisfaction                     883 non-null    float64\n",
      "dtypes: float64(36)\n",
      "memory usage: 255.2 KB\n"
     ]
    }
   ],
   "source": [
    "df_norm.info()"
   ]
  },
  {
   "cell_type": "markdown",
   "metadata": {},
   "source": [
    "<h2>Cleaned DataFrame saving </h6>"
   ]
  },
  {
   "cell_type": "code",
   "execution_count": 2311,
   "metadata": {},
   "outputs": [],
   "source": [
    "df.to_csv(data_directory + \"Cleaned_Train_HR_Employee_Attrition.csv\", index=False, header=True)\n",
    "df_norm.to_csv(data_directory + \"Cleaned_Normalized_Train_HR_Employee_Attrition.csv\", index=False, header=True)"
   ]
  },
  {
   "cell_type": "markdown",
   "metadata": {},
   "source": [
    "<h2> Numerical and Categorical DataFrame split </h2>"
   ]
  },
  {
   "cell_type": "code",
   "execution_count": 2313,
   "metadata": {},
   "outputs": [],
   "source": [
    "columns = list(df_norm.columns)\n",
    "num_columns = ['Age', 'DistanceFromHome', 'MonthlyIncome', 'NumCompaniesWorked', 'PercentSalaryHike', 'StockOptionLevel',\n",
    "              'TrainingTimesLastYear', 'YearsAtCompany', 'YearsInCurrentRole', 'MonthlyHours', 'Attrition', \n",
    "               'OverTime', 'OverallSatisfaction']\n",
    "\n",
    "cat_columns = ['Gender', 'JobLevel', 'Education',\n",
    "               'BusinessTravel_Non-Travel', 'BusinessTravel_Travel_Rarely', \n",
    "               'BusinessTravel_Travel_Frequently', 'JobRole_Healthcare_Representative', \n",
    "               'JobRole_Human_Resources', 'JobRole_Laboratory_Technician', \n",
    "               'JobRole_Manager_Research_&_Development', \n",
    "               'JobRole_Manager_Sales', 'JobRole_Manager_Human_Resources', \n",
    "               'JobRole_Manufacturing_Director', 'JobRole_Research_Director', \n",
    "               'JobRole_Research_Scientist', 'JobRole_Sales_Executive', \n",
    "               'JobRole_Sales_Representative', 'JobSatisfaction', 'EnvironmentSatisfaction',\n",
    "              'JobInvolvement', 'RelationshipSatisfaction', 'WorkLifeBalance', 'TaxRate']\n",
    "\n",
    "df_num = df_norm[num_columns]\n",
    "df_cat = df_norm[cat_columns]\n",
    "\n",
    "df_num.to_csv(data_directory + \"Numerical_Normalized_Train_HR_Employee_Attrition.csv\", index=False, header=True)\n",
    "df_cat.to_csv(data_directory + \"Categorical_Normalized_Train_HR_Employee_Attrition.csv\", index=False, header=True)"
   ]
  }
 ],
 "metadata": {
  "kernelspec": {
   "display_name": "Python 3",
   "language": "python",
   "name": "python3"
  },
  "language_info": {
   "codemirror_mode": {
    "name": "ipython",
    "version": 3
   },
   "file_extension": ".py",
   "mimetype": "text/x-python",
   "name": "python",
   "nbconvert_exporter": "python",
   "pygments_lexer": "ipython3",
   "version": "3.8.3"
  },
  "latex_metadata": {
   "affiliation": "University of Pisa",
   "author": "Alexandra Bradan",
   "title": "Data mining project - 2020/2021"
  }
 },
 "nbformat": 4,
 "nbformat_minor": 4
}
