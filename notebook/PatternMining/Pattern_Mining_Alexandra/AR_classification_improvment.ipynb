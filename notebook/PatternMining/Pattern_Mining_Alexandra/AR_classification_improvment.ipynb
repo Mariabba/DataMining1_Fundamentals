{
 "cells": [
  {
   "cell_type": "markdown",
   "metadata": {},
   "source": [
    "<b>Data mining project - 2020/21</b><br>\n",
    "<b>Author</b>: [Alexandra Bradan](https://github.com/alexandrabradan)<br>\n",
    "<b>Python version</b>: 3.x<br>\n",
    "<b>Last update: 07/01/2021<b>"
   ]
  },
  {
   "cell_type": "code",
   "execution_count": 39,
   "metadata": {},
   "outputs": [],
   "source": [
    "%matplotlib inline\n",
    "\n",
    "# general libraries\n",
    "import sys\n",
    "import math\n",
    "import operator\n",
    "import itertools\n",
    "import pydotplus\n",
    "import collections\n",
    "import missingno as msno\n",
    "from pylab import MaxNLocator\n",
    "from collections import Counter\n",
    "from collections import OrderedDict\n",
    "\n",
    "from collections import defaultdict\n",
    "from IPython.display import Image\n",
    "\n",
    "# pandas libraries\n",
    "import pandas as pd\n",
    "from pandas import DataFrame\n",
    "from pandas.testing import assert_frame_equal\n",
    "\n",
    "# visualisation libraries\n",
    "import seaborn as sns\n",
    "import matplotlib.pyplot as plt\n",
    "from statsmodels.graphics.gofplots import qqplot\n",
    "\n",
    "# numpy libraries\n",
    "import numpy as np\n",
    "from numpy import std\n",
    "from numpy import mean\n",
    "from numpy import arange\n",
    "from numpy import unique\n",
    "from numpy import argmax\n",
    "from numpy import percentile\n",
    "\n",
    "# scipy libraries\n",
    "import scipy.stats as stats\n",
    "from scipy.stats import kstest\n",
    "from scipy.stats import normaltest\n",
    "\n",
    "# sklearn libraries\n",
    "from sklearn.impute import KNNImputer\n",
    "from sklearn.impute import SimpleImputer\n",
    "from sklearn.compose import ColumnTransformer\n",
    "from sklearn.preprocessing import MinMaxScaler\n",
    "from sklearn.preprocessing import OneHotEncoder\n",
    "from sklearn.preprocessing import OrdinalEncoder\n",
    "from sklearn.preprocessing import KBinsDiscretizer\n",
    "from sklearn.preprocessing import PolynomialFeatures\n",
    "from sklearn.experimental import enable_iterative_imputer  # explicitly require this experimental feature\n",
    "from sklearn.impute import IterativeImputer\n",
    "\n",
    "from sklearn import tree\n",
    "from sklearn.feature_selection import RFE\n",
    "from sklearn.metrics import confusion_matrix\n",
    "from sklearn.tree import DecisionTreeClassifier\n",
    "from sklearn.model_selection import GridSearchCV\n",
    "from sklearn.model_selection import cross_val_score\n",
    "from sklearn.model_selection import StratifiedKFold\n",
    "from sklearn.model_selection import train_test_split\n",
    "from imblearn.over_sampling import RandomOverSampler\n",
    "from imblearn.pipeline import Pipeline as imbPipeline\n",
    "from imblearn.pipeline import make_pipeline as imbmake_pipeline\n",
    "from imblearn.under_sampling import RandomUnderSampler\n",
    "from sklearn.model_selection import RandomizedSearchCV\n",
    "from sklearn.metrics import roc_curve, auc, roc_auc_score\n",
    "from sklearn.model_selection import RepeatedStratifiedKFold \n",
    "from sklearn.metrics import precision_recall_curve\n",
    "from sklearn.metrics import average_precision_score\n",
    "from sklearn.ensemble import RandomForestClassifier\n",
    "from sklearn.metrics import accuracy_score, f1_score, fbeta_score, recall_score, precision_score, classification_report, roc_auc_score "
   ]
  },
  {
   "cell_type": "code",
   "execution_count": 40,
   "metadata": {},
   "outputs": [],
   "source": [
    "from fim import apriori"
   ]
  },
  {
   "cell_type": "code",
   "execution_count": 41,
   "metadata": {},
   "outputs": [],
   "source": [
    "data_directory = \"../../../data/\"\n",
    "TR_impunted_file = data_directory + \"Impunted_Train_HR_Employee_Attrition.csv\"\n",
    "TS_impunted_file = data_directory + \"Impunted_Test_HR_Employee_Attrition.csv\"\n",
    "TR_not_impunted = data_directory + \"Not_Impunted_Train_HR_Employee_Attrition.csv\"\n",
    "TS_not_impunted = data_directory + \"Cleaned_Test_HR_Employee_Attrition.csv\""
   ]
  },
  {
   "cell_type": "markdown",
   "metadata": {},
   "source": [
    "<h6>Impunted TR Dataframe</h6>"
   ]
  },
  {
   "cell_type": "code",
   "execution_count": 42,
   "metadata": {},
   "outputs": [
    {
     "data": {
      "text/plain": [
       "(883, 30)"
      ]
     },
     "execution_count": 42,
     "metadata": {},
     "output_type": "execute_result"
    }
   ],
   "source": [
    "df_impunted = pd.read_csv(TR_impunted_file, sep=\",\") \n",
    "df_impunted.shape"
   ]
  },
  {
   "cell_type": "code",
   "execution_count": 43,
   "metadata": {},
   "outputs": [
    {
     "name": "stdout",
     "output_type": "stream",
     "text": [
      "(883, 24)\n"
     ]
    }
   ],
   "source": [
    "to_drop = [\"MaritalStatus\", \"EducationField\", \"Department\", \"YearsSinceLastPromotion\", \"HourlyRate\", \"MonthlyRate\"]\n",
    "\n",
    "# drop features \n",
    "for column_name in to_drop:\n",
    "    del df_impunted[column_name]\n",
    "    \n",
    "# check dropping output\n",
    "print(df_impunted.shape)"
   ]
  },
  {
   "cell_type": "code",
   "execution_count": 44,
   "metadata": {},
   "outputs": [
    {
     "name": "stdout",
     "output_type": "stream",
     "text": [
      "<class 'pandas.core.frame.DataFrame'>\n",
      "RangeIndex: 883 entries, 0 to 882\n",
      "Data columns (total 24 columns):\n",
      " #   Column                    Non-Null Count  Dtype  \n",
      "---  ------                    --------------  -----  \n",
      " 0   Age                       883 non-null    int64  \n",
      " 1   Attrition                 883 non-null    object \n",
      " 2   BusinessTravel            883 non-null    object \n",
      " 3   DistanceFromHome          883 non-null    int64  \n",
      " 4   Education                 883 non-null    int64  \n",
      " 5   EnvironmentSatisfaction   883 non-null    int64  \n",
      " 6   Gender                    883 non-null    object \n",
      " 7   JobInvolvement            883 non-null    int64  \n",
      " 8   JobLevel                  883 non-null    int64  \n",
      " 9   JobRole                   883 non-null    object \n",
      " 10  JobSatisfaction           883 non-null    int64  \n",
      " 11  MonthlyIncome             883 non-null    int64  \n",
      " 12  NumCompaniesWorked        883 non-null    int64  \n",
      " 13  OverTime                  883 non-null    object \n",
      " 14  PercentSalaryHike         883 non-null    int64  \n",
      " 15  RelationshipSatisfaction  883 non-null    int64  \n",
      " 16  StockOptionLevel          883 non-null    int64  \n",
      " 17  TrainingTimesLastYear     883 non-null    int64  \n",
      " 18  WorkLifeBalance           883 non-null    int64  \n",
      " 19  YearsAtCompany            883 non-null    int64  \n",
      " 20  YearsInCurrentRole        883 non-null    int64  \n",
      " 21  MonthlyHours              883 non-null    float64\n",
      " 22  TaxRate                   883 non-null    float64\n",
      " 23  OverallSatisfaction       883 non-null    float64\n",
      "dtypes: float64(3), int64(16), object(5)\n",
      "memory usage: 165.7+ KB\n"
     ]
    }
   ],
   "source": [
    "df_impunted.info()"
   ]
  },
  {
   "cell_type": "markdown",
   "metadata": {},
   "source": [
    "<h6>Not-impunted TR DataFrame</h6>"
   ]
  },
  {
   "cell_type": "code",
   "execution_count": 45,
   "metadata": {},
   "outputs": [
    {
     "data": {
      "text/plain": [
       "(883, 30)"
      ]
     },
     "execution_count": 45,
     "metadata": {},
     "output_type": "execute_result"
    }
   ],
   "source": [
    "df_not_impunted = pd.read_csv(TR_not_impunted, sep=\",\") \n",
    "df_not_impunted.shape"
   ]
  },
  {
   "cell_type": "code",
   "execution_count": 46,
   "metadata": {},
   "outputs": [
    {
     "name": "stdout",
     "output_type": "stream",
     "text": [
      "(883, 24)\n"
     ]
    }
   ],
   "source": [
    "to_drop = [\"MaritalStatus\", \"EducationField\", \"Department\", \"YearsSinceLastPromotion\", \"HourlyRate\", \"MonthlyRate\"]\n",
    "\n",
    "# drop features \n",
    "for column_name in to_drop:\n",
    "    del df_not_impunted[column_name]\n",
    "    \n",
    "# check dropping output\n",
    "print(df_not_impunted.shape)"
   ]
  },
  {
   "cell_type": "markdown",
   "metadata": {},
   "source": [
    "<h6> Impunted TS DataFrame </h6>"
   ]
  },
  {
   "cell_type": "code",
   "execution_count": 47,
   "metadata": {},
   "outputs": [
    {
     "data": {
      "text/plain": [
       "(219, 24)"
      ]
     },
     "execution_count": 47,
     "metadata": {},
     "output_type": "execute_result"
    }
   ],
   "source": [
    "df_ts = pd.read_csv(TS_impunted_file, sep=\",\") \n",
    "df_ts.shape"
   ]
  },
  {
   "cell_type": "code",
   "execution_count": 48,
   "metadata": {},
   "outputs": [
    {
     "name": "stdout",
     "output_type": "stream",
     "text": [
      "<class 'pandas.core.frame.DataFrame'>\n",
      "RangeIndex: 219 entries, 0 to 218\n",
      "Data columns (total 24 columns):\n",
      " #   Column                    Non-Null Count  Dtype  \n",
      "---  ------                    --------------  -----  \n",
      " 0   Age                       219 non-null    int64  \n",
      " 1   Attrition                 219 non-null    object \n",
      " 2   BusinessTravel            219 non-null    object \n",
      " 3   DistanceFromHome          219 non-null    int64  \n",
      " 4   Education                 219 non-null    int64  \n",
      " 5   EnvironmentSatisfaction   219 non-null    int64  \n",
      " 6   Gender                    219 non-null    object \n",
      " 7   JobInvolvement            219 non-null    int64  \n",
      " 8   JobLevel                  219 non-null    int64  \n",
      " 9   JobRole                   219 non-null    object \n",
      " 10  JobSatisfaction           219 non-null    int64  \n",
      " 11  MonthlyIncome             219 non-null    int64  \n",
      " 12  NumCompaniesWorked        219 non-null    int64  \n",
      " 13  OverTime                  219 non-null    object \n",
      " 14  PercentSalaryHike         219 non-null    int64  \n",
      " 15  RelationshipSatisfaction  219 non-null    int64  \n",
      " 16  StockOptionLevel          219 non-null    int64  \n",
      " 17  TrainingTimesLastYear     219 non-null    int64  \n",
      " 18  WorkLifeBalance           219 non-null    int64  \n",
      " 19  YearsAtCompany            219 non-null    int64  \n",
      " 20  YearsInCurrentRole        219 non-null    int64  \n",
      " 21  MonthlyHours              219 non-null    float64\n",
      " 22  TaxRate                   219 non-null    float64\n",
      " 23  OverallSatisfaction       219 non-null    float64\n",
      "dtypes: float64(3), int64(16), object(5)\n",
      "memory usage: 41.2+ KB\n"
     ]
    }
   ],
   "source": [
    "df_ts.info()"
   ]
  },
  {
   "cell_type": "markdown",
   "metadata": {},
   "source": [
    "<h6> Not-impnted TS DataFrame </h6>"
   ]
  },
  {
   "cell_type": "code",
   "execution_count": 49,
   "metadata": {},
   "outputs": [
    {
     "name": "stdout",
     "output_type": "stream",
     "text": [
      "dropped rows = \t8\n",
      "dropped rows = \t2\n",
      "dropped rows = \t7\n"
     ]
    },
    {
     "data": {
      "text/plain": [
       "(219, 24)"
      ]
     },
     "execution_count": 49,
     "metadata": {},
     "output_type": "execute_result"
    }
   ],
   "source": [
    "df_ts_not_impunted = pd.read_csv(TS_not_impunted, sep=\",\") \n",
    "df_ts_not_impunted.shape\n",
    "\n",
    "del df_ts_not_impunted[\"Department\"]\n",
    "del df_ts_not_impunted[\"MonthlyRate\"]\n",
    "\n",
    "\n",
    "to_drop_indexes = df_ts_not_impunted.index[df_ts_not_impunted[\"YearsAtCompany\"] > 20]\n",
    "df_ts_not_impunted.drop(list(to_drop_indexes), axis=0, inplace=True)\n",
    "df_ts_not_impunted.reset_index(drop=True, inplace=True)\n",
    "print(\"dropped rows = \", len(to_drop_indexes), sep=\"\\t\")\n",
    "\n",
    "to_drop_indexes = df_ts_not_impunted.index[df_ts_not_impunted[\"YearsInCurrentRole\"] > 16]\n",
    "df_ts_not_impunted.drop(list(to_drop_indexes), axis=0, inplace=True)\n",
    "df_ts_not_impunted.reset_index(drop=True, inplace=True)\n",
    "print(\"dropped rows = \", len(to_drop_indexes), sep=\"\\t\")\n",
    "\n",
    "to_drop_indexes = df_ts_not_impunted.index[df_ts_not_impunted[\"MonthlyHours\"] > 590.9767441860465]\n",
    "df_ts_not_impunted.drop(list(to_drop_indexes), axis=0, inplace=True)\n",
    "df_ts_not_impunted.reset_index(drop=True, inplace=True)\n",
    "print(\"dropped rows = \", len(to_drop_indexes), sep=\"\\t\")\n",
    "\n",
    "df_ts_not_impunted.shape"
   ]
  },
  {
   "cell_type": "code",
   "execution_count": 50,
   "metadata": {},
   "outputs": [
    {
     "name": "stdout",
     "output_type": "stream",
     "text": [
      "<class 'pandas.core.frame.DataFrame'>\n",
      "RangeIndex: 219 entries, 0 to 218\n",
      "Data columns (total 24 columns):\n",
      " #   Column                    Non-Null Count  Dtype  \n",
      "---  ------                    --------------  -----  \n",
      " 0   Age                       191 non-null    float64\n",
      " 1   Attrition                 219 non-null    object \n",
      " 2   BusinessTravel            202 non-null    object \n",
      " 3   DistanceFromHome          219 non-null    int64  \n",
      " 4   Education                 219 non-null    int64  \n",
      " 5   EnvironmentSatisfaction   219 non-null    int64  \n",
      " 6   Gender                    208 non-null    object \n",
      " 7   JobInvolvement            219 non-null    int64  \n",
      " 8   JobLevel                  219 non-null    int64  \n",
      " 9   JobRole                   219 non-null    object \n",
      " 10  JobSatisfaction           219 non-null    int64  \n",
      " 11  MonthlyIncome             168 non-null    float64\n",
      " 12  NumCompaniesWorked        219 non-null    int64  \n",
      " 13  OverTime                  219 non-null    object \n",
      " 14  PercentSalaryHike         219 non-null    int64  \n",
      " 15  RelationshipSatisfaction  219 non-null    int64  \n",
      " 16  StockOptionLevel          219 non-null    int64  \n",
      " 17  TrainingTimesLastYear     170 non-null    float64\n",
      " 18  WorkLifeBalance           219 non-null    int64  \n",
      " 19  YearsAtCompany            207 non-null    float64\n",
      " 20  YearsInCurrentRole        219 non-null    int64  \n",
      " 21  MonthlyHours              219 non-null    float64\n",
      " 22  TaxRate                   168 non-null    float64\n",
      " 23  OverallSatisfaction       219 non-null    float64\n",
      "dtypes: float64(7), int64(12), object(5)\n",
      "memory usage: 41.2+ KB\n"
     ]
    }
   ],
   "source": [
    "df_ts_not_impunted.info()"
   ]
  },
  {
   "cell_type": "markdown",
   "metadata": {},
   "source": [
    "<h2> Continuos variables discretisation with K-Means</h2>\n",
    "K-Means => similar bins' size => IBM's Age and opportunity equity "
   ]
  },
  {
   "cell_type": "code",
   "execution_count": 51,
   "metadata": {},
   "outputs": [],
   "source": [
    "df_converted = df_impunted.copy()\n",
    "df_ts_conv = df_ts.copy()"
   ]
  },
  {
   "cell_type": "code",
   "execution_count": 52,
   "metadata": {},
   "outputs": [],
   "source": [
    "def print_performed_encoding(column_name, train_encoded):\n",
    "    column_index = df_impunted.columns.get_loc(column_name)\n",
    "    encoding_info = {}\n",
    "    for enc, i in zip(train_encoded, range(0, len(train_encoded))):\n",
    "        try:\n",
    "            tmp_list = encoding_info[str(enc)]\n",
    "            tmp_list.append(df_impunted.iloc[i, column_index])\n",
    "            encoding_info[str(enc)] = tmp_list\n",
    "        except KeyError:\n",
    "            encoding_info[str(enc)] = [df_impunted.iloc[i, column_index]]\n",
    "            \n",
    "    for key, value in encoding_info.items():\n",
    "        min_value = min(value)\n",
    "        max_value = max(value)\n",
    "        print(column_name, key, \"[%s-%s]\" %(min_value, max_value),sep=\"\\t\")"
   ]
  },
  {
   "cell_type": "code",
   "execution_count": 53,
   "metadata": {},
   "outputs": [
    {
     "name": "stdout",
     "output_type": "stream",
     "text": [
      "Age\t[3]\t[48-60]\n",
      "Age\t[1]\t[31-38]\n",
      "Age\t[0]\t[18-30]\n",
      "Age\t[2]\t[39-47]\n",
      "DistanceFromHome\t[1]\t[6-13]\n",
      "DistanceFromHome\t[0]\t[1-5]\n",
      "DistanceFromHome\t[2]\t[14-21]\n",
      "DistanceFromHome\t[3]\t[22-29]\n",
      "MonthlyIncome\t[1]\t[7094-13888]\n",
      "MonthlyIncome\t[0]\t[1009-6992]\n",
      "MonthlyIncome\t[2]\t[14004-20520]\n",
      "MonthlyIncome\t[3]\t[20933-26997]\n",
      "NumCompaniesWorked\t[3]\t[7-9]\n",
      "NumCompaniesWorked\t[0]\t[0-2]\n",
      "NumCompaniesWorked\t[1]\t[3-4]\n",
      "NumCompaniesWorked\t[2]\t[5-6]\n",
      "PercentSalaryHike\t[1]\t[15-18]\n",
      "PercentSalaryHike\t[0]\t[11-14]\n",
      "PercentSalaryHike\t[3]\t[22-25]\n",
      "PercentSalaryHike\t[2]\t[19-21]\n",
      "YearsAtCompany\t[1]\t[6-10]\n",
      "YearsAtCompany\t[0]\t[0-5]\n",
      "YearsAtCompany\t[2]\t[11-14]\n",
      "YearsAtCompany\t[3]\t[15-20]\n",
      "YearsInCurrentRole\t[1]\t[5-8]\n",
      "YearsInCurrentRole\t[0]\t[0-4]\n",
      "YearsInCurrentRole\t[2]\t[9-12]\n",
      "YearsInCurrentRole\t[3]\t[13-16]\n",
      "TaxRate\t[1]\t[0.2033107599699022-0.4878233954330433]\n",
      "TaxRate\t[2]\t[0.4902649218001915-0.7143783124261257]\n",
      "TaxRate\t[3]\t[0.7168701095461659-0.9513959334891722]\n",
      "TaxRate\t[0]\t[0.0-0.20014044943820225]\n",
      "MonthlyHours\t[1]\t[151.64893617021278-264.325]\n",
      "MonthlyHours\t[3]\t[404.2033898305085-590.9767441860465]\n",
      "MonthlyHours\t[2]\t[265.0588235294117-403.135593220339]\n",
      "MonthlyHours\t[0]\t[26.04347826086957-150.85333333333332]\n",
      "OverallSatisfaction\t[2]\t[2.6-3.0]\n",
      "OverallSatisfaction\t[3]\t[3.2-4.0]\n",
      "OverallSatisfaction\t[1]\t[2.0-2.4]\n",
      "OverallSatisfaction\t[0]\t[1.2-1.8]\n"
     ]
    }
   ],
   "source": [
    "cont_variables = [\"Age\", \"DistanceFromHome\", \"MonthlyIncome\", \"NumCompaniesWorked\", \"PercentSalaryHike\",\n",
    "                 \"YearsAtCompany\", \"YearsInCurrentRole\", \"TaxRate\", \"MonthlyHours\", \"OverallSatisfaction\"]\n",
    "\n",
    "for column_name in cont_variables:\n",
    "    discretizer = KBinsDiscretizer(n_bins=4, encode='ordinal', strategy='kmeans').fit(df_converted[[column_name]])\n",
    "    train_encoded = discretizer.transform(df_converted[[column_name]]).astype(int)\n",
    "    df_converted[column_name] = train_encoded\n",
    "    df_ts_conv[column_name] = discretizer.transform(df_ts_conv[[column_name]]).astype(int)\n",
    "    print_performed_encoding(column_name, train_encoded)"
   ]
  },
  {
   "cell_type": "code",
   "execution_count": 54,
   "metadata": {},
   "outputs": [],
   "source": [
    "for column_name in list(df_converted.columns):\n",
    "    df_converted[column_name] = df_converted[column_name].astype(str) + \"_\" + column_name\n",
    "    df_ts_conv[column_name] = df_ts_conv[column_name].astype(str) + \"_\" + column_name"
   ]
  },
  {
   "cell_type": "code",
   "execution_count": 55,
   "metadata": {},
   "outputs": [],
   "source": [
    "# transaction creation \n",
    "df_db = df_converted.values.tolist()\n",
    "df_ts_db = df_ts_conv.values.tolist()"
   ]
  },
  {
   "cell_type": "markdown",
   "metadata": {},
   "source": [
    "<h6> Missing values TR and TS discretisation </h6>"
   ]
  },
  {
   "cell_type": "code",
   "execution_count": 56,
   "metadata": {},
   "outputs": [],
   "source": [
    "df_not_impunted_converted = df_not_impunted.copy()\n",
    "df_ts_not_imp_conv = df_ts_not_impunted.copy()"
   ]
  },
  {
   "cell_type": "code",
   "execution_count": 57,
   "metadata": {},
   "outputs": [],
   "source": [
    "cont_variables = [\"Age\", \"DistanceFromHome\", \"MonthlyIncome\", \"NumCompaniesWorked\", \"PercentSalaryHike\",\n",
    "                 \"YearsAtCompany\", \"YearsInCurrentRole\", \"TaxRate\", \"MonthlyHours\", \"OverallSatisfaction\"]\n",
    "\n",
    "for column_name in cont_variables:\n",
    "    discretizer = KBinsDiscretizer(n_bins=4, encode='ordinal', strategy='kmeans').fit(df_impunted[[column_name]])\n",
    "    train_encoded = discretizer.transform(df_impunted[[column_name]]).astype(int)\n",
    "    df_not_impunted_converted[column_name] = train_encoded\n",
    "    df_ts_not_imp_conv[column_name] = discretizer.transform(df_ts[[column_name]]).astype(int)\n",
    "    # print_performed_encoding(column_name, train_encoded)"
   ]
  },
  {
   "cell_type": "code",
   "execution_count": 58,
   "metadata": {},
   "outputs": [],
   "source": [
    "for column_name in list(df_converted.columns):\n",
    "    df_not_impunted_converted[column_name] = df_not_impunted_converted[column_name].astype(str) + \"_\" + column_name\n",
    "    df_ts_not_imp_conv[column_name] = df_ts_not_imp_conv[column_name].astype(str) + \"_\" + column_name"
   ]
  },
  {
   "cell_type": "code",
   "execution_count": 59,
   "metadata": {},
   "outputs": [],
   "source": [
    "missing_numeric_values_columns = [\"Age\", \"YearsAtCompany\", \"MonthlyIncome\", \"TaxRate\", \"TrainingTimesLastYear\"]\n",
    "for column_name in missing_numeric_values_columns:\n",
    "    for i in range(0, len(df_not_impunted)):\n",
    "        column_index = df_not_impunted.columns.get_loc(column_name)\n",
    "        if df_not_impunted.iloc[i, column_index] >= 0:\n",
    "            pass\n",
    "        else:\n",
    "            df_not_impunted_converted.iloc[i, column_index] =  df_not_impunted.iloc[i, column_index]\n",
    "            \n",
    "for column_name in missing_numeric_values_columns:\n",
    "    for i in range(0, len(df_ts_not_impunted)):\n",
    "        column_index = df_ts_not_impunted.columns.get_loc(column_name)\n",
    "        if df_ts_not_impunted.iloc[i, column_index] >= 0:\n",
    "            pass\n",
    "        else:\n",
    "            df_ts_not_imp_conv.iloc[i, column_index] = df_ts_not_impunted.iloc[i, column_index]"
   ]
  },
  {
   "cell_type": "code",
   "execution_count": 60,
   "metadata": {},
   "outputs": [],
   "source": [
    "missing_categorical_values_columns = [\"BusinessTravel\", \"Gender\"]\n",
    "for column_name in missing_categorical_values_columns:\n",
    "    for i in range(0, len(df_not_impunted)):\n",
    "        column_index = df_not_impunted.columns.get_loc(column_name)\n",
    "        if df_not_impunted.iloc[i, column_index] != \"Male\" and \\\n",
    "        df_not_impunted.iloc[i, column_index] != \"Female\" and \\\n",
    "        df_not_impunted.iloc[i, column_index] != \"Travel_Rarely\" and \\\n",
    "        df_not_impunted.iloc[i, column_index] != \"Travel_Frequently\" and \\\n",
    "        df_not_impunted.iloc[i, column_index] != \"Non-Travel\":\n",
    "            df_not_impunted_converted.iloc[i, column_index] =  df_not_impunted.iloc[i, column_index]\n",
    "            \n",
    "for column_name in missing_categorical_values_columns:\n",
    "    for i in range(0, len(df_ts_not_impunted)):\n",
    "        column_index = df_ts_not_impunted.columns.get_loc(column_name)\n",
    "        if df_ts_not_impunted.iloc[i, column_index] != \"Male\" and \\\n",
    "        df_ts_not_impunted.iloc[i, column_index] != \"Female\" and \\\n",
    "        df_ts_not_impunted.iloc[i, column_index] != \"Travel_Rarely\" and \\\n",
    "        df_ts_not_impunted.iloc[i, column_index] != \"Travel_Frequently\" and \\\n",
    "        df_ts_not_impunted.iloc[i, column_index] != \"Non-Travel\":\n",
    "            df_ts_not_imp_conv.iloc[i, column_index] = df_ts_not_impunted.iloc[i, column_index]"
   ]
  },
  {
   "cell_type": "markdown",
   "metadata": {},
   "source": [
    "<h2>Classification on TR with \"Yes_Attrition\" ARs and No_Attrition improvment</h2>"
   ]
  },
  {
   "cell_type": "code",
   "execution_count": 141,
   "metadata": {},
   "outputs": [],
   "source": [
    "models_global_info = {}  # models' classification info"
   ]
  },
  {
   "cell_type": "code",
   "execution_count": 97,
   "metadata": {},
   "outputs": [],
   "source": [
    "def itemset_validation(itemset):\n",
    "    res = df_converted[df_converted.columns]\n",
    "    for i in range(0, len(itemset)):\n",
    "        if \"Attrition\" in itemset[i]:\n",
    "            continue\n",
    "        elif \"BusinessTravel\" in itemset[i]:\n",
    "            column_name = \"BusinessTravel\"\n",
    "        else:\n",
    "            column_name = itemset[i].split(\"_\")[1]\n",
    "        res = res[res[column_name] == itemset[i]][res.columns]\n",
    "\n",
    "    res = res[\"Attrition\"]\n",
    "    yes_indeces = []\n",
    "    no_indeces = []\n",
    "    tmp_res_indeces = list(res.index)\n",
    "    count_yes = 0\n",
    "    count_no = 0\n",
    "    for elem, i in zip(res, range(0, len(res))):\n",
    "        if elem == \"Yes_Attrition\":\n",
    "            count_yes += 1\n",
    "            yes_indeces.append(tmp_res_indeces[i])\n",
    "        else:\n",
    "            count_no += 1\n",
    "            no_indeces.append(tmp_res_indeces[i])\n",
    "    return count_yes, count_no, yes_indeces, no_indeces"
   ]
  },
  {
   "cell_type": "code",
   "execution_count": 98,
   "metadata": {},
   "outputs": [],
   "source": [
    "def plot_confusion_matrix(cm, classes, normalize, title, cmap):\n",
    "    \"\"\"\n",
    "    This function prints and plots the confusion matrix.\n",
    "    Normalization can be applied by setting `normalize=True`.\n",
    "    \"\"\"\n",
    "    if normalize:\n",
    "        cm = cm.astype('float') / cm.sum(axis=1)[:, np.newaxis]\n",
    "        print(\"Normalized confusion matrix\")\n",
    "    else:\n",
    "        print('Confusion matrix, without normalization')\n",
    "\n",
    "    print(cm)\n",
    "\n",
    "    plt.imshow(cm, interpolation='nearest', cmap=cmap)\n",
    "    plt.title(title)\n",
    "    # plt.colorbar()\n",
    "    tick_marks = np.arange(len(classes))\n",
    "    plt.xticks(tick_marks, classes, rotation=45)\n",
    "    plt.yticks(tick_marks, classes)\n",
    "\n",
    "    fmt = '.2f' if normalize else 'd'\n",
    "    thresh = cm.max() / 2.\n",
    "    for i, j in itertools.product(range(cm.shape[0]), range(cm.shape[1])):\n",
    "        plt.text(j, i, format(cm[i, j], fmt),\n",
    "                 horizontalalignment=\"center\",\n",
    "                 color=\"white\" if cm[i, j] > thresh else \"black\")\n",
    "\n",
    "    plt.ylabel('True label')\n",
    "    plt.xlabel('Predicted label')\n",
    "    plt.tight_layout()"
   ]
  },
  {
   "cell_type": "code",
   "execution_count": 99,
   "metadata": {},
   "outputs": [],
   "source": [
    "def draw_confusion_matrises(model_name, y_test, y_pred, cmap):\n",
    "    cm = confusion_matrix(y_test, y_pred)\n",
    "    plot_confusion_matrix(cm, [\"No_Attrition\", \"Yes_Attrtition\"], False, \n",
    "                          \"%s\\'s normalized confusion matrix\" % (model_name), cmap)\n",
    "    plt.show()"
   ]
  },
  {
   "cell_type": "code",
   "execution_count": 100,
   "metadata": {},
   "outputs": [],
   "source": [
    "def draw_normalized_confusion_matrises(model_name, y_test, y_pred, cmap):\n",
    "    cm = confusion_matrix(y_test, y_pred)\n",
    "    plot_confusion_matrix(cm, [\"No_Attrition\", \"Yes_Attrtition\"], False, \n",
    "                          \"%s\\'s confusion matrix\" % (model_name), cmap)\n",
    "    plt.show()\n",
    "    cm = confusion_matrix(y_test, y_pred)\n",
    "    plot_confusion_matrix(cm, [\"No_Attrition\", \"Yes_Attrtition\"], True, \n",
    "                          \"%s\\'s normalized confusion matrix\" % (model_name), cmap)\n",
    "    plt.show()"
   ]
  },
  {
   "cell_type": "code",
   "execution_count": 101,
   "metadata": {},
   "outputs": [],
   "source": [
    "def plot_classification_report(y_test, y_pred, cmap, model_name):\n",
    "    clf_report = classification_report(y_test,\n",
    "                                   y_pred,\n",
    "                                   labels=[\"No_Attrition\", \"Yes_Attrition\"],\n",
    "                                   target_names=[\"No_Attrition\", \"Yes_Attrition\"],\n",
    "                                   output_dict=True)\n",
    "    clf_r = pd.DataFrame(clf_report).iloc[:-1, :].T\n",
    "    # clf_r.iloc[2, 0] = np.nan\n",
    "    # clf_r.iloc[2, 1] = np.nan\n",
    "    sns.heatmap(clf_r, annot=True, cmap=cmap, cbar=False)\n",
    "    plt.title(\"%s\\'s classification report\" % (model_name))\n",
    "    plt.show()"
   ]
  },
  {
   "cell_type": "code",
   "execution_count": 102,
   "metadata": {},
   "outputs": [],
   "source": [
    "def plot_imputation_report(y_test, y_pred, cmap, model_name, values):\n",
    "    clf_report = classification_report(y_test,\n",
    "                                   y_pred,\n",
    "                                   labels=values,\n",
    "                                   target_names=values,\n",
    "                                   output_dict=True)\n",
    "    clf_r = pd.DataFrame(clf_report).iloc[:-1, :].T\n",
    "    # clf_r.iloc[2, 0] = np.nan\n",
    "    # clf_r.iloc[2, 1] = np.nan\n",
    "    sns.heatmap(clf_r, annot=True, cmap=cmap, cbar=False)\n",
    "    plt.title(\"%s\\'s imputation report\" % (model_name))\n",
    "    plt.show()"
   ]
  },
  {
   "cell_type": "code",
   "execution_count": 103,
   "metadata": {},
   "outputs": [],
   "source": [
    "def check_elements(first_list, second_list, first_elem, second_elem):\n",
    "    for i in range(0, len(first_list)):\n",
    "        if first_list[i] == first_elem and second_list[i] != second_elem:\n",
    "            print(\"Wrong %s\" % second_element)\n",
    "            sys.exit(-1) "
   ]
  },
  {
   "cell_type": "code",
   "execution_count": 104,
   "metadata": {},
   "outputs": [],
   "source": [
    "def target_variable_transformation(tmp_list):\n",
    "    new_tmp_list = []\n",
    "    for elem in tmp_list:\n",
    "        if elem == \"No_Attrition\":\n",
    "            new_tmp_list.append(0)\n",
    "        elif elem == \"Yes_Attrition\":\n",
    "            new_tmp_list.append(1)\n",
    "        else:\n",
    "            print(\"Wrong target value = %s\" % elem)\n",
    "            sys.exit(-1)\n",
    "    check_elements(tmp_list, new_tmp_list, \"Yes_Attrition\", 1)\n",
    "    check_elements(tmp_list, new_tmp_list, \"No_Attrition\", 0)\n",
    "    return new_tmp_list"
   ]
  },
  {
   "cell_type": "code",
   "execution_count": 105,
   "metadata": {},
   "outputs": [],
   "source": [
    "def draw_roc_and_pr_curves(model_name, y_test, y_pred, type_flag, color, global_info):\n",
    "    \n",
    "    # draw_roc_auc\n",
    "    plt.figure(figsize=(8, 5))\n",
    "    y_test_num = target_variable_transformation(y_test)\n",
    "    y_pred_num = target_variable_transformation(y_pred)\n",
    "    fpr, tpr, thresholds = roc_curve(y_test_num, y_pred_num)\n",
    "    roc_auc = roc_auc_score(y_test_num, y_pred_num, average=\"weighted\")\n",
    "    plt.plot(fpr, tpr, color=color, label='model %s=%0.4f' % (model_name, roc_auc))\n",
    "\n",
    "    plt.plot([0, 1], [0, 1], 'k--', color=\"red\", label='no-skilled model=0.5000') \n",
    "    plt.xlim([0.0, 1.0])\n",
    "    plt.ylim([0.0, 1.05])\n",
    "    plt.xlabel('False Positive Rate')\n",
    "    plt.ylabel('True Positive Rate') \n",
    "    plt.tick_params(axis='both', which='major')\n",
    "    plt.legend(loc=\"lower right\", title=\"AUC\", frameon=True)\n",
    "    plt.title(\"%s's %s ROC-curve\" % (model_name, type_flag))\n",
    "    plt.show()\n",
    "\n",
    "    if type_flag == \"train\":\n",
    "        global_info[str(model_name)] = {}\n",
    "\n",
    "    global_info[str(model_name)][type_flag] = {}\n",
    "    global_info[str(model_name)][type_flag][\"color\"] = color\n",
    "    global_info[str(model_name)][type_flag][\"fpr\"] = fpr\n",
    "    global_info[str(model_name)][type_flag][\"tpr\"] = tpr\n",
    "    global_info[str(model_name)][type_flag][\"roc\"] = roc_auc"
   ]
  },
  {
   "cell_type": "code",
   "execution_count": 143,
   "metadata": {},
   "outputs": [],
   "source": [
    "def draw_multiple_roc_and_ap_curves(type_flag, global_info):\n",
    "    # draw_roc_auc\n",
    "    plt.figure(figsize=(8, 5))\n",
    "    for model_name in global_info.keys():\n",
    "        color = global_info[str(model_name)][type_flag][\"color\"]\n",
    "        fpr = global_info[str(model_name)][type_flag][\"fpr\"]\n",
    "        tpr = global_info[str(model_name)][type_flag][\"tpr\"]\n",
    "        roc_auc = global_info[str(model_name)][type_flag][\"roc\"] \n",
    "        plt.plot(fpr, tpr, color=color, label='%s=%0.4f' % (model_name, roc_auc))\n",
    "    plt.plot([0, 1], [0, 1], 'k--', color=\"red\", label='Dumb model=0.5000') \n",
    "    plt.xlim([0.0, 1.0])\n",
    "    plt.ylim([0.0, 1.05])\n",
    "    plt.xlabel('False Positive Rate')\n",
    "    plt.ylabel('True Positive Rate') \n",
    "    plt.tick_params(axis='both', which='major')\n",
    "    plt.legend(loc=\"lower right\", title=\"AUC\", frameon=True)\n",
    "    plt.title(\"Models' %s ROC-curve\" % type_flag)\n",
    "    plt.show()"
   ]
  },
  {
   "cell_type": "code",
   "execution_count": 107,
   "metadata": {},
   "outputs": [],
   "source": [
    "def support_count_given_fp_on_TR(max_num_count_no):\n",
    "    yes_attrition_indeces = set()\n",
    "    no_attrition_indeces = set()\n",
    "    for key, value in most_specific_frequent_itemset.items():\n",
    "        itemset = most_specific_frequent_itemset[str(key)][\"itemset\"]\n",
    "        count_yes, count_no, yes_indeces, no_indeces = itemset_validation(itemset)\n",
    "        if count_yes > count_no and count_no <= max_num_count_no:\n",
    "            for elem in yes_indeces:\n",
    "                yes_attrition_indeces.add(elem)\n",
    "            for elem in no_indeces:\n",
    "                no_attrition_indeces.add(elem)\n",
    "    return yes_attrition_indeces, no_attrition_indeces "
   ]
  },
  {
   "cell_type": "code",
   "execution_count": 108,
   "metadata": {},
   "outputs": [],
   "source": [
    "def get_itemsets_given_fp_on_TR(max_num_count_no):\n",
    "    fp_itemsets = set()\n",
    "    for key, value in most_specific_frequent_itemset.items():\n",
    "        itemset = most_specific_frequent_itemset[str(key)][\"itemset\"]\n",
    "        count_yes, count_no, yes_indeces, no_indeces = itemset_validation(itemset)\n",
    "        if count_yes > count_no and count_no <= max_num_count_no:\n",
    "            fp_itemsets.add(itemset)\n",
    "    return fp_itemsets"
   ]
  },
  {
   "cell_type": "code",
   "execution_count": 109,
   "metadata": {},
   "outputs": [],
   "source": [
    "def AR_classifier(max_num_count_no, df):\n",
    "    fp_itemsets = get_itemsets_given_fp_on_TR(max_num_count_no)\n",
    "    \n",
    "    # initially all record are classified as \"No_Attrition\"\n",
    "    y_pred = [\"No_Attrition\"] * int(df.shape[0])\n",
    "    # for every itemset I filter the DataFrame and at the and if some records have\n",
    "    # itemset's values I take their index and classify them as \"Yes_Attrition\",\n",
    "    # indexing y_pred array with DataFrame's indeces\n",
    "    for itemset in fp_itemsets:\n",
    "        res = df[df.columns]\n",
    "        for i in range(0, len(itemset)):\n",
    "            if \"Attrition\" in itemset[i]:\n",
    "                continue\n",
    "            elif \"BusinessTravel\" in itemset[i]:\n",
    "                column_name = \"BusinessTravel\"\n",
    "            else:\n",
    "                column_name = itemset[i].split(\"_\")[1]\n",
    "            res = res[res[column_name] == itemset[i]][res.columns]\n",
    "            \n",
    "        tmp_res_indeces = list(res.index)\n",
    "        for i in tmp_res_indeces:\n",
    "            y_pred[i] = \"Yes_Attrition\"\n",
    "    return y_pred"
   ]
  },
  {
   "cell_type": "code",
   "execution_count": 75,
   "metadata": {},
   "outputs": [],
   "source": [
    "import pickle\n",
    "with open('kmeans_frequent_yes_attrition_super_itemsets.pickle', 'rb') as handle:\n",
    "    most_specific_frequent_itemset = pickle.load(handle)"
   ]
  },
  {
   "cell_type": "code",
   "execution_count": 76,
   "metadata": {},
   "outputs": [],
   "source": [
    "def compute_min_zmin(max_num_count_no):\n",
    "    fp_itemsets = get_itemsets_given_fp_on_TR(max_num_count_no)\n",
    "    \n",
    "    min_zmin = 100\n",
    "    for itemset in fp_itemsets:\n",
    "        itemset_size = len(itemset)\n",
    "        if itemset_size < min_zmin: \n",
    "            min_zmin = itemset_size\n",
    "    print(\"%d's min_zmin=%d \" % (max_num_count_no, itemset_size))"
   ]
  },
  {
   "cell_type": "code",
   "execution_count": 77,
   "metadata": {},
   "outputs": [
    {
     "name": "stdout",
     "output_type": "stream",
     "text": [
      "0's min_zmin=8 \n",
      "1's min_zmin=6 \n",
      "2's min_zmin=7 \n",
      "3's min_zmin=7 \n",
      "4's min_zmin=6 \n",
      "5's min_zmin=5 \n"
     ]
    }
   ],
   "source": [
    "for max_num_count_no in range(0, 6):\n",
    "    compute_min_zmin(max_num_count_no)"
   ]
  },
  {
   "cell_type": "code",
   "execution_count": 80,
   "metadata": {},
   "outputs": [],
   "source": [
    "three_fp_itemsets = get_itemsets_given_fp_on_TR(3)"
   ]
  },
  {
   "cell_type": "code",
   "execution_count": 81,
   "metadata": {},
   "outputs": [],
   "source": [
    "import pickle\n",
    "with open('three_fp_itemsets.pickle', 'wb') as handle:\n",
    "    pickle.dump(three_fp_itemsets, handle, protocol=pickle.HIGHEST_PROTOCOL)"
   ]
  },
  {
   "cell_type": "markdown",
   "metadata": {},
   "source": [
    "<h2> Checking if No_attrition itemsets contains rules more specific than 3_fp_itemsets</h2>"
   ]
  },
  {
   "cell_type": "code",
   "execution_count": 85,
   "metadata": {},
   "outputs": [],
   "source": [
    "more_specific_no_attrition_itemsets = set()"
   ]
  },
  {
   "cell_type": "code",
   "execution_count": 86,
   "metadata": {},
   "outputs": [],
   "source": [
    "def check_if_yes_attrition_itemset_is_subset_of_no_attrition_itemsets(na_itemset):\n",
    "    for ya_itemset in three_fp_itemsets:\n",
    "        if set(ya_itemset).issubset(set(na_itemset)):\n",
    "            return True\n",
    "    return False"
   ]
  },
  {
   "cell_type": "code",
   "execution_count": 96,
   "metadata": {},
   "outputs": [
    {
     "name": "stdout",
     "output_type": "stream",
     "text": [
      "more_specific_no_attrition_itemsets 0\n"
     ]
    }
   ],
   "source": [
    "zmin_range = range(2, len(df_converted.columns))  # k = 2,...,n_features \n",
    "support_range = range(5, 101, 5)\n",
    "\n",
    "itemset_types = ['a']\n",
    "for itemset_type in itemset_types:\n",
    "    for zmin in zmin_range:\n",
    "        for supp in support_range:\n",
    "            itemsets = apriori(df_db, supp=supp, zmin=zmin, target=itemset_type, report='as')  \n",
    "            # update global dict\n",
    "            for itemset in itemsets:\n",
    "                if \"No_Attrition\" in itemset[0]:\n",
    "                    check = check_if_yes_attrition_itemset_is_subset_of_no_attrition_itemsets(itemset[0])\n",
    "                    if check:\n",
    "                        more_specific_no_attrition_itemsets.add(itemset[0])\n",
    "print(\"more_specific_no_attrition_itemsets\", len(more_specific_no_attrition_itemsets))"
   ]
  },
  {
   "cell_type": "code",
   "execution_count": 151,
   "metadata": {},
   "outputs": [
    {
     "name": "stdout",
     "output_type": "stream",
     "text": [
      "more_specific_no_attrition_itemsets 0\n"
     ]
    }
   ],
   "source": [
    "zmin_range = range(2, len(df_converted.columns))  # k = 2,...,n_features \n",
    "support_range = range(2, 101, 1)\n",
    "\n",
    "itemset_types = ['a']\n",
    "for itemset_type in itemset_types:\n",
    "    for zmin in zmin_range:\n",
    "        for supp in support_range:\n",
    "            itemsets = apriori(df_db, supp=supp, zmin=zmin, target=itemset_type, report='as')  \n",
    "            # update global dict\n",
    "            for itemset in itemsets:\n",
    "                if \"No_Attrition\" in itemset[0]:\n",
    "                    check = check_if_yes_attrition_itemset_is_subset_of_no_attrition_itemsets(itemset[0])\n",
    "                    if check:\n",
    "                        more_specific_no_attrition_itemsets.add(itemset[0])\n",
    "print(\"more_specific_no_attrition_itemsets\", len(more_specific_no_attrition_itemsets))"
   ]
  },
  {
   "cell_type": "markdown",
   "metadata": {},
   "source": [
    "Since there aren't \"more_specific_no_attrition_itemsets\" with which to lower the FP rate, the previous classification is considered the best. In particular, by using itemsets/rules prensent in \"three_fp_itemsets\", having **min_zmin>=6** and  **min_supp=1%** (minimum support_count = 9 leaving records) and filtering the resulting 22.372 itemsets/rules, by taking only supersets made out of 8.025 itemsets/rules, bellow I'm comparing the classification score between the original dumb model (all records classified as \"No_Attrition\") and our modified version of the dumb model (all matching records of an itemset present in \"three_fp_itemsets\" classified as Yes_Attrition, other classified as No_Attrition). "
   ]
  },
  {
   "cell_type": "markdown",
   "metadata": {},
   "source": [
    "<h6>Train</h6>"
   ]
  },
  {
   "cell_type": "markdown",
   "metadata": {},
   "source": [
    "<h6> Dumb model readapted </h6>"
   ]
  },
  {
   "cell_type": "code",
   "execution_count": 176,
   "metadata": {},
   "outputs": [
    {
     "name": "stdout",
     "output_type": "stream",
     "text": [
      "yes_attrition_indeces 130\n",
      "no_attrition_indeces 156\n"
     ]
    }
   ],
   "source": [
    "max_num_count_no = 3\n",
    "model_name = \"Readapted dumb model\"\n",
    "type_flag = \"train\"\n",
    "cmap = plt.cm.Greys\n",
    "color = \"grey\"\n",
    "\n",
    "yes_attrition_indeces, no_attrition_indeces  =  support_count_given_fp_on_TR(max_num_count_no)\n",
    "print(\"yes_attrition_indeces\", len(yes_attrition_indeces))\n",
    "print(\"no_attrition_indeces\", len(no_attrition_indeces))"
   ]
  },
  {
   "cell_type": "code",
   "execution_count": 177,
   "metadata": {},
   "outputs": [
    {
     "data": {
      "image/png": "[encoded data removed]",
      "text/plain": [
       "<Figure size 432x288 with 1 Axes>"
      ]
     },
     "metadata": {
      "needs_background": "light"
     },
     "output_type": "display_data"
    },
    {
     "name": "stdout",
     "output_type": "stream",
     "text": [
      "Confusion matrix, without normalization\n",
      "[[574 156]\n",
      " [ 23 130]]\n"
     ]
    },
    {
     "data": {
      "image/png": "[encoded data removed]",
      "text/plain": [
       "<Figure size 432x288 with 1 Axes>"
      ]
     },
     "metadata": {
      "needs_background": "light"
     },
     "output_type": "display_data"
    },
    {
     "name": "stdout",
     "output_type": "stream",
     "text": [
      "Normalized confusion matrix\n",
      "[[0.78630137 0.21369863]\n",
      " [0.1503268  0.8496732 ]]\n"
     ]
    },
    {
     "data": {
      "image/png": "[encoded data removed]",
      "text/plain": [
       "<Figure size 432x288 with 1 Axes>"
      ]
     },
     "metadata": {
      "needs_background": "light"
     },
     "output_type": "display_data"
    },
    {
     "data": {
      "image/png": "[encoded data removed]",
      "text/plain": [
       "<Figure size 576x360 with 1 Axes>"
      ]
     },
     "metadata": {
      "needs_background": "light"
     },
     "output_type": "display_data"
    }
   ],
   "source": [
    "y_train = df_converted[\"Attrition\"]\n",
    "y_pred = AR_classifier(max_num_count_no, df_converted)\n",
    "plot_classification_report(y_train, y_pred, cmap, model_name)\n",
    "draw_normalized_confusion_matrises(model_name, y_train, y_pred, cmap)\n",
    "draw_roc_and_pr_curves(model_name, y_train, y_pred, type_flag, color, models_global_info)"
   ]
  },
  {
   "cell_type": "markdown",
   "metadata": {},
   "source": [
    "<h6> Test </h6>"
   ]
  },
  {
   "cell_type": "markdown",
   "metadata": {},
   "source": [
    "<h6> Dumb model readapted </h6>"
   ]
  },
  {
   "cell_type": "code",
   "execution_count": 178,
   "metadata": {},
   "outputs": [],
   "source": [
    "max_num_count_no = 3\n",
    "model_name = \"Readapted dumb model\"\n",
    "type_flag = \"test\"\n",
    "cmap = plt.cm.Greys\n",
    "color = \"grey\""
   ]
  },
  {
   "cell_type": "code",
   "execution_count": 179,
   "metadata": {},
   "outputs": [
    {
     "data": {
      "image/png": "[encoded data removed]",
      "text/plain": [
       "<Figure size 432x288 with 1 Axes>"
      ]
     },
     "metadata": {
      "needs_background": "light"
     },
     "output_type": "display_data"
    },
    {
     "name": "stdout",
     "output_type": "stream",
     "text": [
      "Confusion matrix, without normalization\n",
      "[[129  56]\n",
      " [  9  25]]\n"
     ]
    },
    {
     "data": {
      "image/png": "[encoded data removed]",
      "text/plain": [
       "<Figure size 432x288 with 1 Axes>"
      ]
     },
     "metadata": {
      "needs_background": "light"
     },
     "output_type": "display_data"
    },
    {
     "name": "stdout",
     "output_type": "stream",
     "text": [
      "Normalized confusion matrix\n",
      "[[0.6972973  0.3027027 ]\n",
      " [0.26470588 0.73529412]]\n"
     ]
    },
    {
     "data": {
      "image/png": "[encoded data removed]",
      "text/plain": [
       "<Figure size 432x288 with 1 Axes>"
      ]
     },
     "metadata": {
      "needs_background": "light"
     },
     "output_type": "display_data"
    },
    {
     "data": {
      "image/png": "[encoded data removed]",
      "text/plain": [
       "<Figure size 576x360 with 1 Axes>"
      ]
     },
     "metadata": {
      "needs_background": "light"
     },
     "output_type": "display_data"
    }
   ],
   "source": [
    "y_test = df_ts_conv[\"Attrition\"]\n",
    "y_pred = AR_classifier(max_num_count_no, df_ts_conv)\n",
    "plot_classification_report(y_test, y_pred, cmap, model_name)\n",
    "draw_normalized_confusion_matrises(model_name, y_test, y_pred, cmap)\n",
    "draw_roc_and_pr_curves(model_name, y_test, y_pred, type_flag, color, models_global_info)"
   ]
  },
  {
   "cell_type": "markdown",
   "metadata": {},
   "source": [
    "<h2> Train curves </h2>"
   ]
  },
  {
   "cell_type": "code",
   "execution_count": 180,
   "metadata": {},
   "outputs": [
    {
     "data": {
      "image/png": "[encoded data removed]",
      "text/plain": [
       "<Figure size 576x360 with 1 Axes>"
      ]
     },
     "metadata": {
      "needs_background": "light"
     },
     "output_type": "display_data"
    }
   ],
   "source": [
    "draw_multiple_roc_and_ap_curves(\"train\", models_global_info)"
   ]
  },
  {
   "cell_type": "markdown",
   "metadata": {},
   "source": [
    "<h2>Test curves </h2>"
   ]
  },
  {
   "cell_type": "code",
   "execution_count": 181,
   "metadata": {},
   "outputs": [
    {
     "ename": "KeyError",
     "evalue": "'test'",
     "output_type": "error",
     "traceback": [
      "\u001b[0;31m---------------------------------------------------------------------------\u001b[0m",
      "\u001b[0;31mKeyError\u001b[0m                                  Traceback (most recent call last)",
      "\u001b[0;32m<ipython-input-181-56f7eb09a9a4>\u001b[0m in \u001b[0;36m<module>\u001b[0;34m\u001b[0m\n\u001b[0;32m----> 1\u001b[0;31m \u001b[0mdraw_multiple_roc_and_ap_curves\u001b[0m\u001b[0;34m(\u001b[0m\u001b[0;34m\"test\"\u001b[0m\u001b[0;34m,\u001b[0m \u001b[0mmodels_global_info\u001b[0m\u001b[0;34m)\u001b[0m\u001b[0;34m\u001b[0m\u001b[0;34m\u001b[0m\u001b[0m\n\u001b[0m",
      "\u001b[0;32m<ipython-input-143-77803609d6ec>\u001b[0m in \u001b[0;36mdraw_multiple_roc_and_ap_curves\u001b[0;34m(type_flag, global_info)\u001b[0m\n\u001b[1;32m      3\u001b[0m     \u001b[0mplt\u001b[0m\u001b[0;34m.\u001b[0m\u001b[0mfigure\u001b[0m\u001b[0;34m(\u001b[0m\u001b[0mfigsize\u001b[0m\u001b[0;34m=\u001b[0m\u001b[0;34m(\u001b[0m\u001b[0;36m8\u001b[0m\u001b[0;34m,\u001b[0m \u001b[0;36m5\u001b[0m\u001b[0;34m)\u001b[0m\u001b[0;34m)\u001b[0m\u001b[0;34m\u001b[0m\u001b[0;34m\u001b[0m\u001b[0m\n\u001b[1;32m      4\u001b[0m     \u001b[0;32mfor\u001b[0m \u001b[0mmodel_name\u001b[0m \u001b[0;32min\u001b[0m \u001b[0mglobal_info\u001b[0m\u001b[0;34m.\u001b[0m\u001b[0mkeys\u001b[0m\u001b[0;34m(\u001b[0m\u001b[0;34m)\u001b[0m\u001b[0;34m:\u001b[0m\u001b[0;34m\u001b[0m\u001b[0;34m\u001b[0m\u001b[0m\n\u001b[0;32m----> 5\u001b[0;31m         \u001b[0mcolor\u001b[0m \u001b[0;34m=\u001b[0m \u001b[0mglobal_info\u001b[0m\u001b[0;34m[\u001b[0m\u001b[0mstr\u001b[0m\u001b[0;34m(\u001b[0m\u001b[0mmodel_name\u001b[0m\u001b[0;34m)\u001b[0m\u001b[0;34m]\u001b[0m\u001b[0;34m[\u001b[0m\u001b[0mtype_flag\u001b[0m\u001b[0;34m]\u001b[0m\u001b[0;34m[\u001b[0m\u001b[0;34m\"color\"\u001b[0m\u001b[0;34m]\u001b[0m\u001b[0;34m\u001b[0m\u001b[0;34m\u001b[0m\u001b[0m\n\u001b[0m\u001b[1;32m      6\u001b[0m         \u001b[0mfpr\u001b[0m \u001b[0;34m=\u001b[0m \u001b[0mglobal_info\u001b[0m\u001b[0;34m[\u001b[0m\u001b[0mstr\u001b[0m\u001b[0;34m(\u001b[0m\u001b[0mmodel_name\u001b[0m\u001b[0;34m)\u001b[0m\u001b[0;34m]\u001b[0m\u001b[0;34m[\u001b[0m\u001b[0mtype_flag\u001b[0m\u001b[0;34m]\u001b[0m\u001b[0;34m[\u001b[0m\u001b[0;34m\"fpr\"\u001b[0m\u001b[0;34m]\u001b[0m\u001b[0;34m\u001b[0m\u001b[0;34m\u001b[0m\u001b[0m\n\u001b[1;32m      7\u001b[0m         \u001b[0mtpr\u001b[0m \u001b[0;34m=\u001b[0m \u001b[0mglobal_info\u001b[0m\u001b[0;34m[\u001b[0m\u001b[0mstr\u001b[0m\u001b[0;34m(\u001b[0m\u001b[0mmodel_name\u001b[0m\u001b[0;34m)\u001b[0m\u001b[0;34m]\u001b[0m\u001b[0;34m[\u001b[0m\u001b[0mtype_flag\u001b[0m\u001b[0;34m]\u001b[0m\u001b[0;34m[\u001b[0m\u001b[0;34m\"tpr\"\u001b[0m\u001b[0;34m]\u001b[0m\u001b[0;34m\u001b[0m\u001b[0;34m\u001b[0m\u001b[0m\n",
      "\u001b[0;31mKeyError\u001b[0m: 'test'"
     ]
    },
    {
     "data": {
      "text/plain": [
       "<Figure size 576x360 with 0 Axes>"
      ]
     },
     "metadata": {},
     "output_type": "display_data"
    }
   ],
   "source": [
    "draw_multiple_roc_and_ap_curves(\"test\", models_global_info)"
   ]
  },
  {
   "cell_type": "code",
   "execution_count": 182,
   "metadata": {},
   "outputs": [
    {
     "ename": "KeyError",
     "evalue": "'test'",
     "output_type": "error",
     "traceback": [
      "\u001b[0;31m---------------------------------------------------------------------------\u001b[0m",
      "\u001b[0;31mKeyError\u001b[0m                                  Traceback (most recent call last)",
      "\u001b[0;32m<ipython-input-182-73a593a25b60>\u001b[0m in \u001b[0;36m<module>\u001b[0;34m\u001b[0m\n\u001b[1;32m      6\u001b[0m             \u001b[0mcolor\u001b[0m \u001b[0;34m=\u001b[0m \u001b[0;34m\"orange\"\u001b[0m\u001b[0;34m\u001b[0m\u001b[0;34m\u001b[0m\u001b[0m\n\u001b[1;32m      7\u001b[0m         \u001b[0;32melse\u001b[0m\u001b[0;34m:\u001b[0m\u001b[0;34m\u001b[0m\u001b[0;34m\u001b[0m\u001b[0m\n\u001b[0;32m----> 8\u001b[0;31m             \u001b[0mcolor\u001b[0m \u001b[0;34m=\u001b[0m \u001b[0mmodels_global_info\u001b[0m\u001b[0;34m[\u001b[0m\u001b[0mstr\u001b[0m\u001b[0;34m(\u001b[0m\u001b[0mmodel_name\u001b[0m\u001b[0;34m)\u001b[0m\u001b[0;34m]\u001b[0m\u001b[0;34m[\u001b[0m\u001b[0mtype_flag\u001b[0m\u001b[0;34m]\u001b[0m\u001b[0;34m[\u001b[0m\u001b[0;34m\"color\"\u001b[0m\u001b[0;34m]\u001b[0m\u001b[0;34m\u001b[0m\u001b[0;34m\u001b[0m\u001b[0m\n\u001b[0m\u001b[1;32m      9\u001b[0m         \u001b[0mfpr\u001b[0m \u001b[0;34m=\u001b[0m \u001b[0mmodels_global_info\u001b[0m\u001b[0;34m[\u001b[0m\u001b[0mstr\u001b[0m\u001b[0;34m(\u001b[0m\u001b[0mmodel_name\u001b[0m\u001b[0;34m)\u001b[0m\u001b[0;34m]\u001b[0m\u001b[0;34m[\u001b[0m\u001b[0mtype_flag\u001b[0m\u001b[0;34m]\u001b[0m\u001b[0;34m[\u001b[0m\u001b[0;34m\"fpr\"\u001b[0m\u001b[0;34m]\u001b[0m\u001b[0;34m\u001b[0m\u001b[0;34m\u001b[0m\u001b[0m\n\u001b[1;32m     10\u001b[0m         \u001b[0mtpr\u001b[0m \u001b[0;34m=\u001b[0m \u001b[0mmodels_global_info\u001b[0m\u001b[0;34m[\u001b[0m\u001b[0mstr\u001b[0m\u001b[0;34m(\u001b[0m\u001b[0mmodel_name\u001b[0m\u001b[0;34m)\u001b[0m\u001b[0;34m]\u001b[0m\u001b[0;34m[\u001b[0m\u001b[0mtype_flag\u001b[0m\u001b[0;34m]\u001b[0m\u001b[0;34m[\u001b[0m\u001b[0;34m\"tpr\"\u001b[0m\u001b[0;34m]\u001b[0m\u001b[0;34m\u001b[0m\u001b[0;34m\u001b[0m\u001b[0m\n",
      "\u001b[0;31mKeyError\u001b[0m: 'test'"
     ]
    },
    {
     "data": {
      "image/png": "[encoded data removed]",
      "text/plain": [
       "<Figure size 576x360 with 1 Axes>"
      ]
     },
     "metadata": {
      "needs_background": "light"
     },
     "output_type": "display_data"
    }
   ],
   "source": [
    "model_name = \"Readapted dumb model\"\n",
    "plt.figure(figsize=(8, 5))\n",
    "for type_flag in [\"train\", \"test\"]:\n",
    "    for model_name in models_global_info.keys():\n",
    "        if type_flag == \"train\":\n",
    "            color = \"orange\"\n",
    "        else:\n",
    "            color = models_global_info[str(model_name)][type_flag][\"color\"]\n",
    "        fpr = models_global_info[str(model_name)][type_flag][\"fpr\"]\n",
    "        tpr = models_global_info[str(model_name)][type_flag][\"tpr\"]\n",
    "        roc_auc = models_global_info[str(model_name)][type_flag][\"roc\"] \n",
    "    plt.plot(fpr, tpr, color=color, label='%s=%0.4f' % (model_name + \" \" + type_flag, roc_auc))\n",
    "plt.plot([0, 1], [0, 1], 'k--', color=\"red\", label='Dumb model=0.5000') \n",
    "plt.xlim([0.0, 1.0])\n",
    "plt.ylim([0.0, 1.05])\n",
    "plt.xlabel('False Positive Rate')\n",
    "plt.ylabel('True Positive Rate') \n",
    "plt.tick_params(axis='both', which='major')\n",
    "plt.legend(loc=\"lower right\", title=\"AUC\", frameon=True)\n",
    "plt.title(\"%s's ROC-curves\" % model_name)\n",
    "plt.show()"
   ]
  }
 ],
 "metadata": {
  "kernelspec": {
   "display_name": "Python 3",
   "language": "python",
   "name": "python3"
  },
  "language_info": {
   "codemirror_mode": {
    "name": "ipython",
    "version": 3
   },
   "file_extension": ".py",
   "mimetype": "text/x-python",
   "name": "python",
   "nbconvert_exporter": "python",
   "pygments_lexer": "ipython3",
   "version": "3.8.3"
  }
 },
 "nbformat": 4,
 "nbformat_minor": 4
}
