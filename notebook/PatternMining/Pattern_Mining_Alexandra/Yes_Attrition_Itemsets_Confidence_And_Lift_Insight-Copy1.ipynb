{
 "cells": [
  {
   "cell_type": "markdown",
   "metadata": {},
   "source": [
    "<b>Data mining project - 2020/21</b><br>\n",
    "<b>Author</b>: [Alexandra Bradan](https://github.com/alexandrabradan)<br>\n",
    "<b>Python version</b>: 3.x<br>\n",
    "<b>Last update: 07/01/2021<b>"
   ]
  },
  {
   "cell_type": "code",
   "execution_count": 87,
   "metadata": {},
   "outputs": [],
   "source": [
    "%matplotlib inline\n",
    "\n",
    "# general libraries\n",
    "import sys\n",
    "import math\n",
    "import operator\n",
    "import itertools\n",
    "import pydotplus\n",
    "import collections\n",
    "import missingno as msno\n",
    "from pylab import MaxNLocator\n",
    "from collections import Counter\n",
    "from collections import OrderedDict\n",
    "\n",
    "from collections import defaultdict\n",
    "from IPython.display import Image\n",
    "\n",
    "# pandas libraries\n",
    "import pandas as pd\n",
    "from pandas import DataFrame\n",
    "from pandas.testing import assert_frame_equal\n",
    "\n",
    "# visualisation libraries\n",
    "import seaborn as sns\n",
    "import matplotlib.pyplot as plt\n",
    "from statsmodels.graphics.gofplots import qqplot\n",
    "\n",
    "# numpy libraries\n",
    "import numpy as np\n",
    "from numpy import std\n",
    "from numpy import mean\n",
    "from numpy import arange\n",
    "from numpy import unique\n",
    "from numpy import argmax\n",
    "from numpy import percentile\n",
    "\n",
    "# scipy libraries\n",
    "import scipy.stats as stats\n",
    "from scipy.stats import kstest\n",
    "from scipy.stats import normaltest\n",
    "\n",
    "# sklearn libraries\n",
    "from sklearn.impute import KNNImputer\n",
    "from sklearn.impute import SimpleImputer\n",
    "from sklearn.compose import ColumnTransformer\n",
    "from sklearn.preprocessing import MinMaxScaler\n",
    "from sklearn.preprocessing import OneHotEncoder\n",
    "from sklearn.preprocessing import OrdinalEncoder\n",
    "from sklearn.preprocessing import KBinsDiscretizer\n",
    "from sklearn.preprocessing import PolynomialFeatures\n",
    "from sklearn.experimental import enable_iterative_imputer  # explicitly require this experimental feature\n",
    "from sklearn.impute import IterativeImputer\n",
    "\n",
    "from sklearn import tree\n",
    "from sklearn.feature_selection import RFE\n",
    "from sklearn.metrics import confusion_matrix\n",
    "from sklearn.tree import DecisionTreeClassifier\n",
    "from sklearn.model_selection import GridSearchCV\n",
    "from sklearn.model_selection import cross_val_score\n",
    "from sklearn.model_selection import StratifiedKFold\n",
    "from sklearn.model_selection import train_test_split\n",
    "from imblearn.over_sampling import RandomOverSampler\n",
    "from imblearn.pipeline import Pipeline as imbPipeline\n",
    "from imblearn.pipeline import make_pipeline as imbmake_pipeline\n",
    "from imblearn.under_sampling import RandomUnderSampler\n",
    "from sklearn.model_selection import RandomizedSearchCV\n",
    "from sklearn.metrics import roc_curve, auc, roc_auc_score\n",
    "from sklearn.model_selection import RepeatedStratifiedKFold \n",
    "from sklearn.metrics import precision_recall_curve\n",
    "from sklearn.metrics import average_precision_score\n",
    "from sklearn.ensemble import RandomForestClassifier\n",
    "from matplotlib.ticker import FormatStrFormatter\n",
    "from sklearn.metrics import accuracy_score, f1_score, fbeta_score, recall_score, precision_score, classification_report, roc_auc_score "
   ]
  },
  {
   "cell_type": "code",
   "execution_count": 88,
   "metadata": {},
   "outputs": [],
   "source": [
    "from fim import apriori"
   ]
  },
  {
   "cell_type": "code",
   "execution_count": 89,
   "metadata": {},
   "outputs": [],
   "source": [
    "data_directory = \"../../../data/\"\n",
    "TR_impunted_file = data_directory + \"Impunted_Train_HR_Employee_Attrition.csv\"\n",
    "TS_impunted_file = data_directory + \"Impunted_Test_HR_Employee_Attrition.csv\"\n",
    "TR_not_impunted = data_directory + \"Not_Impunted_Train_HR_Employee_Attrition.csv\"\n",
    "TS_not_impunted = data_directory + \"Cleaned_Test_HR_Employee_Attrition.csv\""
   ]
  },
  {
   "cell_type": "markdown",
   "metadata": {},
   "source": [
    "<h6>Impunted TR Dataframe</h6>"
   ]
  },
  {
   "cell_type": "code",
   "execution_count": 90,
   "metadata": {},
   "outputs": [
    {
     "data": {
      "text/plain": [
       "(883, 30)"
      ]
     },
     "execution_count": 90,
     "metadata": {},
     "output_type": "execute_result"
    }
   ],
   "source": [
    "df_impunted = pd.read_csv(TR_impunted_file, sep=\",\") \n",
    "df_impunted.shape"
   ]
  },
  {
   "cell_type": "code",
   "execution_count": 91,
   "metadata": {},
   "outputs": [
    {
     "name": "stdout",
     "output_type": "stream",
     "text": [
      "(883, 24)\n"
     ]
    }
   ],
   "source": [
    "to_drop = [\"MaritalStatus\", \"EducationField\", \"Department\", \"YearsSinceLastPromotion\", \"HourlyRate\", \"MonthlyRate\"]\n",
    "\n",
    "# drop features \n",
    "for column_name in to_drop:\n",
    "    del df_impunted[column_name]\n",
    "    \n",
    "# check dropping output\n",
    "print(df_impunted.shape)"
   ]
  },
  {
   "cell_type": "code",
   "execution_count": 92,
   "metadata": {},
   "outputs": [
    {
     "name": "stdout",
     "output_type": "stream",
     "text": [
      "<class 'pandas.core.frame.DataFrame'>\n",
      "RangeIndex: 883 entries, 0 to 882\n",
      "Data columns (total 24 columns):\n",
      " #   Column                    Non-Null Count  Dtype  \n",
      "---  ------                    --------------  -----  \n",
      " 0   Age                       883 non-null    int64  \n",
      " 1   Attrition                 883 non-null    object \n",
      " 2   BusinessTravel            883 non-null    object \n",
      " 3   DistanceFromHome          883 non-null    int64  \n",
      " 4   Education                 883 non-null    int64  \n",
      " 5   EnvironmentSatisfaction   883 non-null    int64  \n",
      " 6   Gender                    883 non-null    object \n",
      " 7   JobInvolvement            883 non-null    int64  \n",
      " 8   JobLevel                  883 non-null    int64  \n",
      " 9   JobRole                   883 non-null    object \n",
      " 10  JobSatisfaction           883 non-null    int64  \n",
      " 11  MonthlyIncome             883 non-null    int64  \n",
      " 12  NumCompaniesWorked        883 non-null    int64  \n",
      " 13  OverTime                  883 non-null    object \n",
      " 14  PercentSalaryHike         883 non-null    int64  \n",
      " 15  RelationshipSatisfaction  883 non-null    int64  \n",
      " 16  StockOptionLevel          883 non-null    int64  \n",
      " 17  TrainingTimesLastYear     883 non-null    int64  \n",
      " 18  WorkLifeBalance           883 non-null    int64  \n",
      " 19  YearsAtCompany            883 non-null    int64  \n",
      " 20  YearsInCurrentRole        883 non-null    int64  \n",
      " 21  MonthlyHours              883 non-null    float64\n",
      " 22  TaxRate                   883 non-null    float64\n",
      " 23  OverallSatisfaction       883 non-null    float64\n",
      "dtypes: float64(3), int64(16), object(5)\n",
      "memory usage: 165.7+ KB\n"
     ]
    }
   ],
   "source": [
    "df_impunted.info()"
   ]
  },
  {
   "cell_type": "markdown",
   "metadata": {},
   "source": [
    "<h6>Not-impunted TR DataFrame</h6>"
   ]
  },
  {
   "cell_type": "code",
   "execution_count": 93,
   "metadata": {},
   "outputs": [
    {
     "data": {
      "text/plain": [
       "(883, 30)"
      ]
     },
     "execution_count": 93,
     "metadata": {},
     "output_type": "execute_result"
    }
   ],
   "source": [
    "df_not_impunted = pd.read_csv(TR_not_impunted, sep=\",\") \n",
    "df_not_impunted.shape"
   ]
  },
  {
   "cell_type": "code",
   "execution_count": 94,
   "metadata": {},
   "outputs": [
    {
     "name": "stdout",
     "output_type": "stream",
     "text": [
      "(883, 24)\n"
     ]
    }
   ],
   "source": [
    "to_drop = [\"MaritalStatus\", \"EducationField\", \"Department\", \"YearsSinceLastPromotion\", \"HourlyRate\", \"MonthlyRate\"]\n",
    "\n",
    "# drop features \n",
    "for column_name in to_drop:\n",
    "    del df_not_impunted[column_name]\n",
    "    \n",
    "# check dropping output\n",
    "print(df_not_impunted.shape)"
   ]
  },
  {
   "cell_type": "markdown",
   "metadata": {},
   "source": [
    "<h6> Impunted TS DataFrame </h6>"
   ]
  },
  {
   "cell_type": "code",
   "execution_count": 95,
   "metadata": {},
   "outputs": [
    {
     "data": {
      "text/plain": [
       "(219, 24)"
      ]
     },
     "execution_count": 95,
     "metadata": {},
     "output_type": "execute_result"
    }
   ],
   "source": [
    "df_ts = pd.read_csv(TS_impunted_file, sep=\",\") \n",
    "df_ts.shape"
   ]
  },
  {
   "cell_type": "code",
   "execution_count": 96,
   "metadata": {},
   "outputs": [
    {
     "name": "stdout",
     "output_type": "stream",
     "text": [
      "<class 'pandas.core.frame.DataFrame'>\n",
      "RangeIndex: 219 entries, 0 to 218\n",
      "Data columns (total 24 columns):\n",
      " #   Column                    Non-Null Count  Dtype  \n",
      "---  ------                    --------------  -----  \n",
      " 0   Age                       219 non-null    int64  \n",
      " 1   Attrition                 219 non-null    object \n",
      " 2   BusinessTravel            219 non-null    object \n",
      " 3   DistanceFromHome          219 non-null    int64  \n",
      " 4   Education                 219 non-null    int64  \n",
      " 5   EnvironmentSatisfaction   219 non-null    int64  \n",
      " 6   Gender                    219 non-null    object \n",
      " 7   JobInvolvement            219 non-null    int64  \n",
      " 8   JobLevel                  219 non-null    int64  \n",
      " 9   JobRole                   219 non-null    object \n",
      " 10  JobSatisfaction           219 non-null    int64  \n",
      " 11  MonthlyIncome             219 non-null    int64  \n",
      " 12  NumCompaniesWorked        219 non-null    int64  \n",
      " 13  OverTime                  219 non-null    object \n",
      " 14  PercentSalaryHike         219 non-null    int64  \n",
      " 15  RelationshipSatisfaction  219 non-null    int64  \n",
      " 16  StockOptionLevel          219 non-null    int64  \n",
      " 17  TrainingTimesLastYear     219 non-null    int64  \n",
      " 18  WorkLifeBalance           219 non-null    int64  \n",
      " 19  YearsAtCompany            219 non-null    int64  \n",
      " 20  YearsInCurrentRole        219 non-null    int64  \n",
      " 21  MonthlyHours              219 non-null    float64\n",
      " 22  TaxRate                   219 non-null    float64\n",
      " 23  OverallSatisfaction       219 non-null    float64\n",
      "dtypes: float64(3), int64(16), object(5)\n",
      "memory usage: 41.2+ KB\n"
     ]
    }
   ],
   "source": [
    "df_ts.info()"
   ]
  },
  {
   "cell_type": "markdown",
   "metadata": {},
   "source": [
    "<h6> Not-impnted TS DataFrame </h6>"
   ]
  },
  {
   "cell_type": "code",
   "execution_count": 97,
   "metadata": {},
   "outputs": [
    {
     "name": "stdout",
     "output_type": "stream",
     "text": [
      "dropped rows = \t8\n",
      "dropped rows = \t2\n",
      "dropped rows = \t7\n"
     ]
    },
    {
     "data": {
      "text/plain": [
       "(219, 24)"
      ]
     },
     "execution_count": 97,
     "metadata": {},
     "output_type": "execute_result"
    }
   ],
   "source": [
    "df_ts_not_impunted = pd.read_csv(TS_not_impunted, sep=\",\") \n",
    "df_ts_not_impunted.shape\n",
    "\n",
    "del df_ts_not_impunted[\"Department\"]\n",
    "del df_ts_not_impunted[\"MonthlyRate\"]\n",
    "\n",
    "\n",
    "to_drop_indexes = df_ts_not_impunted.index[df_ts_not_impunted[\"YearsAtCompany\"] > 20]\n",
    "df_ts_not_impunted.drop(list(to_drop_indexes), axis=0, inplace=True)\n",
    "df_ts_not_impunted.reset_index(drop=True, inplace=True)\n",
    "print(\"dropped rows = \", len(to_drop_indexes), sep=\"\\t\")\n",
    "\n",
    "to_drop_indexes = df_ts_not_impunted.index[df_ts_not_impunted[\"YearsInCurrentRole\"] > 16]\n",
    "df_ts_not_impunted.drop(list(to_drop_indexes), axis=0, inplace=True)\n",
    "df_ts_not_impunted.reset_index(drop=True, inplace=True)\n",
    "print(\"dropped rows = \", len(to_drop_indexes), sep=\"\\t\")\n",
    "\n",
    "to_drop_indexes = df_ts_not_impunted.index[df_ts_not_impunted[\"MonthlyHours\"] > 590.9767441860465]\n",
    "df_ts_not_impunted.drop(list(to_drop_indexes), axis=0, inplace=True)\n",
    "df_ts_not_impunted.reset_index(drop=True, inplace=True)\n",
    "print(\"dropped rows = \", len(to_drop_indexes), sep=\"\\t\")\n",
    "\n",
    "df_ts_not_impunted.shape"
   ]
  },
  {
   "cell_type": "code",
   "execution_count": 98,
   "metadata": {},
   "outputs": [
    {
     "name": "stdout",
     "output_type": "stream",
     "text": [
      "<class 'pandas.core.frame.DataFrame'>\n",
      "RangeIndex: 219 entries, 0 to 218\n",
      "Data columns (total 24 columns):\n",
      " #   Column                    Non-Null Count  Dtype  \n",
      "---  ------                    --------------  -----  \n",
      " 0   Age                       191 non-null    float64\n",
      " 1   Attrition                 219 non-null    object \n",
      " 2   BusinessTravel            202 non-null    object \n",
      " 3   DistanceFromHome          219 non-null    int64  \n",
      " 4   Education                 219 non-null    int64  \n",
      " 5   EnvironmentSatisfaction   219 non-null    int64  \n",
      " 6   Gender                    208 non-null    object \n",
      " 7   JobInvolvement            219 non-null    int64  \n",
      " 8   JobLevel                  219 non-null    int64  \n",
      " 9   JobRole                   219 non-null    object \n",
      " 10  JobSatisfaction           219 non-null    int64  \n",
      " 11  MonthlyIncome             168 non-null    float64\n",
      " 12  NumCompaniesWorked        219 non-null    int64  \n",
      " 13  OverTime                  219 non-null    object \n",
      " 14  PercentSalaryHike         219 non-null    int64  \n",
      " 15  RelationshipSatisfaction  219 non-null    int64  \n",
      " 16  StockOptionLevel          219 non-null    int64  \n",
      " 17  TrainingTimesLastYear     170 non-null    float64\n",
      " 18  WorkLifeBalance           219 non-null    int64  \n",
      " 19  YearsAtCompany            207 non-null    float64\n",
      " 20  YearsInCurrentRole        219 non-null    int64  \n",
      " 21  MonthlyHours              219 non-null    float64\n",
      " 22  TaxRate                   168 non-null    float64\n",
      " 23  OverallSatisfaction       219 non-null    float64\n",
      "dtypes: float64(7), int64(12), object(5)\n",
      "memory usage: 41.2+ KB\n"
     ]
    }
   ],
   "source": [
    "df_ts_not_impunted.info()"
   ]
  },
  {
   "cell_type": "markdown",
   "metadata": {},
   "source": [
    "<h2> Continuos variables discretisation with K-Means</h2>\n",
    "K-Means => similar bins' size => IBM's Age and opportunity equity "
   ]
  },
  {
   "cell_type": "code",
   "execution_count": 99,
   "metadata": {},
   "outputs": [],
   "source": [
    "df_converted = df_impunted.copy()\n",
    "df_ts_conv = df_ts.copy()"
   ]
  },
  {
   "cell_type": "code",
   "execution_count": 100,
   "metadata": {},
   "outputs": [],
   "source": [
    "def print_performed_encoding(column_name, train_encoded):\n",
    "    column_index = df_impunted.columns.get_loc(column_name)\n",
    "    encoding_info = {}\n",
    "    for enc, i in zip(train_encoded, range(0, len(train_encoded))):\n",
    "        try:\n",
    "            tmp_list = encoding_info[str(enc)]\n",
    "            tmp_list.append(df_impunted.iloc[i, column_index])\n",
    "            encoding_info[str(enc)] = tmp_list\n",
    "        except KeyError:\n",
    "            encoding_info[str(enc)] = [df_impunted.iloc[i, column_index]]\n",
    "            \n",
    "    for key, value in encoding_info.items():\n",
    "        min_value = min(value)\n",
    "        max_value = max(value)\n",
    "        print(column_name, key, \"[%s-%s]\" %(min_value, max_value),sep=\"\\t\")"
   ]
  },
  {
   "cell_type": "code",
   "execution_count": 101,
   "metadata": {},
   "outputs": [
    {
     "name": "stdout",
     "output_type": "stream",
     "text": [
      "Age\t[3]\t[48-60]\n",
      "Age\t[1]\t[31-38]\n",
      "Age\t[0]\t[18-30]\n",
      "Age\t[2]\t[39-47]\n",
      "DistanceFromHome\t[1]\t[6-13]\n",
      "DistanceFromHome\t[0]\t[1-5]\n",
      "DistanceFromHome\t[2]\t[14-21]\n",
      "DistanceFromHome\t[3]\t[22-29]\n",
      "MonthlyIncome\t[1]\t[7094-13888]\n",
      "MonthlyIncome\t[0]\t[1009-6992]\n",
      "MonthlyIncome\t[2]\t[14004-20520]\n",
      "MonthlyIncome\t[3]\t[20933-26997]\n",
      "NumCompaniesWorked\t[3]\t[7-9]\n",
      "NumCompaniesWorked\t[0]\t[0-2]\n",
      "NumCompaniesWorked\t[1]\t[3-4]\n",
      "NumCompaniesWorked\t[2]\t[5-6]\n",
      "PercentSalaryHike\t[1]\t[15-18]\n",
      "PercentSalaryHike\t[0]\t[11-14]\n",
      "PercentSalaryHike\t[3]\t[22-25]\n",
      "PercentSalaryHike\t[2]\t[19-21]\n",
      "YearsAtCompany\t[1]\t[6-10]\n",
      "YearsAtCompany\t[0]\t[0-5]\n",
      "YearsAtCompany\t[2]\t[11-14]\n",
      "YearsAtCompany\t[3]\t[15-20]\n",
      "YearsInCurrentRole\t[1]\t[5-8]\n",
      "YearsInCurrentRole\t[0]\t[0-4]\n",
      "YearsInCurrentRole\t[2]\t[9-12]\n",
      "YearsInCurrentRole\t[3]\t[13-16]\n",
      "TaxRate\t[1]\t[0.2033107599699022-0.4878233954330433]\n",
      "TaxRate\t[2]\t[0.4902649218001915-0.7143783124261257]\n",
      "TaxRate\t[3]\t[0.7168701095461659-0.9513959334891722]\n",
      "TaxRate\t[0]\t[0.0-0.20014044943820225]\n",
      "MonthlyHours\t[1]\t[151.64893617021278-264.325]\n",
      "MonthlyHours\t[3]\t[404.2033898305085-590.9767441860465]\n",
      "MonthlyHours\t[2]\t[265.0588235294117-403.135593220339]\n",
      "MonthlyHours\t[0]\t[26.04347826086957-150.85333333333332]\n",
      "OverallSatisfaction\t[2]\t[2.6-3.0]\n",
      "OverallSatisfaction\t[3]\t[3.2-4.0]\n",
      "OverallSatisfaction\t[1]\t[2.0-2.4]\n",
      "OverallSatisfaction\t[0]\t[1.2-1.8]\n"
     ]
    }
   ],
   "source": [
    "cont_variables = [\"Age\", \"DistanceFromHome\", \"MonthlyIncome\", \"NumCompaniesWorked\", \"PercentSalaryHike\",\n",
    "                 \"YearsAtCompany\", \"YearsInCurrentRole\", \"TaxRate\", \"MonthlyHours\", \"OverallSatisfaction\"]\n",
    "\n",
    "for column_name in cont_variables:\n",
    "    discretizer = KBinsDiscretizer(n_bins=4, encode='ordinal', strategy='kmeans').fit(df_converted[[column_name]])\n",
    "    train_encoded = discretizer.transform(df_converted[[column_name]]).astype(int)\n",
    "    df_converted[column_name] = train_encoded\n",
    "    df_ts_conv[column_name] = discretizer.transform(df_ts_conv[[column_name]]).astype(int)\n",
    "    print_performed_encoding(column_name, train_encoded)"
   ]
  },
  {
   "cell_type": "code",
   "execution_count": 102,
   "metadata": {},
   "outputs": [],
   "source": [
    "for column_name in list(df_converted.columns):\n",
    "    df_converted[column_name] = df_converted[column_name].astype(str) + \"_\" + column_name\n",
    "    df_ts_conv[column_name] = df_ts_conv[column_name].astype(str) + \"_\" + column_name"
   ]
  },
  {
   "cell_type": "code",
   "execution_count": 103,
   "metadata": {},
   "outputs": [],
   "source": [
    "# transaction creation \n",
    "df_db = df_converted.values.tolist()\n",
    "df_ts_db = df_ts_conv.values.tolist()"
   ]
  },
  {
   "cell_type": "markdown",
   "metadata": {},
   "source": [
    "<h6> Missing values TR and TS discretisation </h6>"
   ]
  },
  {
   "cell_type": "code",
   "execution_count": 104,
   "metadata": {},
   "outputs": [],
   "source": [
    "df_not_impunted_converted = df_not_impunted.copy()\n",
    "df_ts_not_imp_conv = df_ts_not_impunted.copy()"
   ]
  },
  {
   "cell_type": "code",
   "execution_count": 105,
   "metadata": {},
   "outputs": [],
   "source": [
    "cont_variables = [\"Age\", \"DistanceFromHome\", \"MonthlyIncome\", \"NumCompaniesWorked\", \"PercentSalaryHike\",\n",
    "                 \"YearsAtCompany\", \"YearsInCurrentRole\", \"TaxRate\", \"MonthlyHours\", \"OverallSatisfaction\"]\n",
    "\n",
    "for column_name in cont_variables:\n",
    "    discretizer = KBinsDiscretizer(n_bins=4, encode='ordinal', strategy='kmeans').fit(df_impunted[[column_name]])\n",
    "    train_encoded = discretizer.transform(df_impunted[[column_name]]).astype(int)\n",
    "    df_not_impunted_converted[column_name] = train_encoded\n",
    "    df_ts_not_imp_conv[column_name] = discretizer.transform(df_ts[[column_name]]).astype(int)\n",
    "    # print_performed_encoding(column_name, train_encoded)"
   ]
  },
  {
   "cell_type": "code",
   "execution_count": 106,
   "metadata": {},
   "outputs": [],
   "source": [
    "for column_name in list(df_converted.columns):\n",
    "    df_not_impunted_converted[column_name] = df_not_impunted_converted[column_name].astype(str) + \"_\" + column_name\n",
    "    df_ts_not_imp_conv[column_name] = df_ts_not_imp_conv[column_name].astype(str) + \"_\" + column_name"
   ]
  },
  {
   "cell_type": "code",
   "execution_count": 107,
   "metadata": {},
   "outputs": [],
   "source": [
    "missing_numeric_values_columns = [\"Age\", \"YearsAtCompany\", \"MonthlyIncome\", \"TaxRate\", \"TrainingTimesLastYear\"]\n",
    "for column_name in missing_numeric_values_columns:\n",
    "    for i in range(0, len(df_not_impunted)):\n",
    "        column_index = df_not_impunted.columns.get_loc(column_name)\n",
    "        if df_not_impunted.iloc[i, column_index] >= 0:\n",
    "            pass\n",
    "        else:\n",
    "            df_not_impunted_converted.iloc[i, column_index] =  df_not_impunted.iloc[i, column_index]\n",
    "            \n",
    "for column_name in missing_numeric_values_columns:\n",
    "    for i in range(0, len(df_ts_not_impunted)):\n",
    "        column_index = df_ts_not_impunted.columns.get_loc(column_name)\n",
    "        if df_ts_not_impunted.iloc[i, column_index] >= 0:\n",
    "            pass\n",
    "        else:\n",
    "            df_ts_not_imp_conv.iloc[i, column_index] = df_ts_not_impunted.iloc[i, column_index]"
   ]
  },
  {
   "cell_type": "code",
   "execution_count": 108,
   "metadata": {},
   "outputs": [],
   "source": [
    "missing_categorical_values_columns = [\"BusinessTravel\", \"Gender\"]\n",
    "for column_name in missing_categorical_values_columns:\n",
    "    for i in range(0, len(df_not_impunted)):\n",
    "        column_index = df_not_impunted.columns.get_loc(column_name)\n",
    "        if df_not_impunted.iloc[i, column_index] != \"Male\" and \\\n",
    "        df_not_impunted.iloc[i, column_index] != \"Female\" and \\\n",
    "        df_not_impunted.iloc[i, column_index] != \"Travel_Rarely\" and \\\n",
    "        df_not_impunted.iloc[i, column_index] != \"Travel_Frequently\" and \\\n",
    "        df_not_impunted.iloc[i, column_index] != \"Non-Travel\":\n",
    "            df_not_impunted_converted.iloc[i, column_index] =  df_not_impunted.iloc[i, column_index]\n",
    "            \n",
    "for column_name in missing_categorical_values_columns:\n",
    "    for i in range(0, len(df_ts_not_impunted)):\n",
    "        column_index = df_ts_not_impunted.columns.get_loc(column_name)\n",
    "        if df_ts_not_impunted.iloc[i, column_index] != \"Male\" and \\\n",
    "        df_ts_not_impunted.iloc[i, column_index] != \"Female\" and \\\n",
    "        df_ts_not_impunted.iloc[i, column_index] != \"Travel_Rarely\" and \\\n",
    "        df_ts_not_impunted.iloc[i, column_index] != \"Travel_Frequently\" and \\\n",
    "        df_ts_not_impunted.iloc[i, column_index] != \"Non-Travel\":\n",
    "            df_ts_not_imp_conv.iloc[i, column_index] = df_ts_not_impunted.iloc[i, column_index]"
   ]
  },
  {
   "cell_type": "markdown",
   "metadata": {},
   "source": [
    "<h1> Comparison between frequent, maximal and closed itemsets </h1>\n",
    "\n",
    "- a **frequent itemsets** if its support is greater than or equal to the minimum value defined for\n",
    "this measure;\n",
    "- a **maximal itemset** if none of its immediate supersets is frequent;\n",
    "- a **closed itemset**, if none of its immediate supersets has the same support as that of the itemset.\n",
    "\n",
    "\n",
    "Remember also that given an association rule X -> Y, where X is a k-itemset, with k=2,...,n_features and Y is a 1-itemset ({\"Yes_Attrtion\"} or {\"No_Attrition\"}):\n",
    "- **support(XuY) = support_count(XuY) / 883**;\n",
    "- **confidence(XuY) = support_count(XuY) / support_count(X)**;\n",
    "- **lift(XuY) = confidence(XuY) / support_count(Y)**\n",
    "\n",
    "Additionally, since in our dataset employees leaving are 153/883 * 100 = 17.33 % we will search Yes_Attrition ARs having:\n",
    "\n",
    "- support \\in [1, 18]\n",
    "- confidence \\in [10, 20, 30, 40, 50, 60, 70, 80, 90]\n",
    "and computing at the same time the lift."
   ]
  },
  {
   "cell_type": "code",
   "execution_count": 109,
   "metadata": {},
   "outputs": [],
   "source": [
    "# help(apriori)"
   ]
  },
  {
   "cell_type": "code",
   "execution_count": 110,
   "metadata": {},
   "outputs": [],
   "source": [
    "# zmin_range = range(2, len(df_converted.columns))  # k = 2,...,n_features \n",
    "zmin_range = range(4, 10)  # k = 2,...,n_features \n",
    "support_range = [10]\n",
    "confidence_range = range(40, 101, 5)"
   ]
  },
  {
   "cell_type": "markdown",
   "metadata": {},
   "source": [
    "Saving frequent, closed and maximal info in a global dict having the following format:\n",
    "global_itemsets_info = {'z_min': {'min_supp': {'itemset_type': len(itemsets}}}"
   ]
  },
  {
   "cell_type": "code",
   "execution_count": 111,
   "metadata": {},
   "outputs": [],
   "source": [
    "global_itemsets_info = {}\n",
    "for zmin in zmin_range:\n",
    "    global_itemsets_info[str(zmin)] = {}\n",
    "    for supp in support_range:\n",
    "        global_itemsets_info[str(zmin)][str(supp)] = {}\n",
    "        for conf in confidence_range:\n",
    "            global_itemsets_info[str(zmin)][str(supp)][str(conf)] = {}\n",
    "            global_itemsets_info[str(zmin)][str(supp)][str(conf)][\"r\"] = 0\n",
    "            global_itemsets_info[str(zmin)][str(supp)][str(conf)][\"l\"] = []"
   ]
  },
  {
   "cell_type": "code",
   "execution_count": 112,
   "metadata": {},
   "outputs": [
    {
     "name": "stdout",
     "output_type": "stream",
     "text": [
      "zmin=4 supp=1 conf=40\n",
      "50203027\n",
      "zmin=4 supp=1 conf=45\n",
      "37076733\n",
      "zmin=4 supp=1 conf=50\n",
      "32674981\n",
      "zmin=4 supp=1 conf=55\n",
      "24744513\n",
      "zmin=4 supp=1 conf=60\n",
      "19207311\n",
      "zmin=4 supp=1 conf=65\n",
      "14441260\n",
      "zmin=4 supp=1 conf=70\n",
      "10418976\n",
      "zmin=4 supp=1 conf=75\n",
      "7645633\n",
      "zmin=4 supp=1 conf=80\n",
      "4983299\n",
      "zmin=4 supp=1 conf=85\n",
      "2973368\n",
      "zmin=4 supp=1 conf=90\n",
      "1881422\n",
      "zmin=4 supp=1 conf=95\n",
      "835748\n",
      "zmin=4 supp=1 conf=100\n",
      "801397\n",
      "\n",
      "zmin=5 supp=1 conf=40\n",
      "49248741\n",
      "zmin=5 supp=1 conf=45\n",
      "36333310\n",
      "zmin=5 supp=1 conf=50\n",
      "32040818\n",
      "zmin=5 supp=1 conf=55\n",
      "24263094\n",
      "zmin=5 supp=1 conf=60\n",
      "18829003\n",
      "zmin=5 supp=1 conf=65\n",
      "14164835\n",
      "zmin=5 supp=1 conf=70\n",
      "10220038\n",
      "zmin=5 supp=1 conf=75\n",
      "7506362\n",
      "zmin=5 supp=1 conf=80\n",
      "4894110\n",
      "zmin=5 supp=1 conf=85\n",
      "2922809\n",
      "zmin=5 supp=1 conf=90\n",
      "1851397\n",
      "zmin=5 supp=1 conf=95\n",
      "823695\n",
      "zmin=5 supp=1 conf=100\n",
      "791571\n",
      "\n",
      "zmin=6 supp=1 conf=40\n",
      "44046889\n",
      "zmin=6 supp=1 conf=45\n",
      "32337676\n",
      "zmin=6 supp=1 conf=50\n",
      "28585138\n",
      "zmin=6 supp=1 conf=55\n",
      "21652949\n",
      "zmin=6 supp=1 conf=60\n",
      "16761129\n",
      "zmin=6 supp=1 conf=65\n",
      "12634810\n",
      "zmin=6 supp=1 conf=70\n",
      "9103284\n",
      "zmin=6 supp=1 conf=75\n",
      "6701713\n",
      "zmin=6 supp=1 conf=80\n",
      "4366785\n",
      "zmin=6 supp=1 conf=85\n",
      "2616170\n",
      "zmin=6 supp=1 conf=90\n",
      "1659104\n",
      "zmin=6 supp=1 conf=95\n",
      "743658\n",
      "zmin=6 supp=1 conf=100\n",
      "720398\n",
      "\n",
      "zmin=7 supp=1 conf=40\n",
      "31217914\n",
      "zmin=7 supp=1 conf=45\n",
      "22654499\n",
      "zmin=7 supp=1 conf=50\n",
      "20116465\n",
      "zmin=7 supp=1 conf=55\n",
      "15258576\n",
      "zmin=7 supp=1 conf=60\n",
      "11713780\n",
      "zmin=7 supp=1 conf=65\n",
      "8859411\n",
      "zmin=7 supp=1 conf=70\n",
      "6339441\n",
      "zmin=7 supp=1 conf=75\n",
      "4679759\n",
      "zmin=7 supp=1 conf=80\n",
      "3030601\n",
      "zmin=7 supp=1 conf=85\n",
      "1824468\n",
      "zmin=7 supp=1 conf=90\n",
      "1149363\n",
      "zmin=7 supp=1 conf=95\n",
      "521791\n",
      "zmin=7 supp=1 conf=100\n",
      "511328\n",
      "\n",
      "zmin=8 supp=1 conf=40\n",
      "15287227\n",
      "zmin=8 supp=1 conf=45\n",
      "10878303\n",
      "zmin=8 supp=1 conf=50\n",
      "9719714\n",
      "zmin=8 supp=1 conf=55\n",
      "7394451\n",
      "zmin=8 supp=1 conf=60\n",
      "5580190\n",
      "zmin=8 supp=1 conf=65\n",
      "4235334\n",
      "zmin=8 supp=1 conf=70\n",
      "2980920\n",
      "zmin=8 supp=1 conf=75\n",
      "2203490\n",
      "zmin=8 supp=1 conf=80\n",
      "1403218\n",
      "zmin=8 supp=1 conf=85\n",
      "850052\n",
      "zmin=8 supp=1 conf=90\n",
      "522425\n",
      "zmin=8 supp=1 conf=95\n",
      "240772\n",
      "zmin=8 supp=1 conf=100\n",
      "238341\n",
      "\n",
      "zmin=9 supp=1 conf=40\n",
      "4692491\n",
      "zmin=9 supp=1 conf=45\n",
      "3241695\n",
      "zmin=9 supp=1 conf=50\n",
      "2918913\n",
      "zmin=9 supp=1 conf=55\n",
      "2231654\n",
      "zmin=9 supp=1 conf=60\n",
      "1634317\n",
      "zmin=9 supp=1 conf=65\n",
      "1245124\n",
      "zmin=9 supp=1 conf=70\n",
      "850387\n",
      "zmin=9 supp=1 conf=75\n",
      "627924\n",
      "zmin=9 supp=1 conf=80\n",
      "386863\n",
      "zmin=9 supp=1 conf=85\n",
      "235962\n",
      "zmin=9 supp=1 conf=90\n",
      "137226\n",
      "zmin=9 supp=1 conf=95\n",
      "64341\n",
      "zmin=9 supp=1 conf=100\n",
      "64116\n",
      "\n"
     ]
    }
   ],
   "source": [
    "itemset_types = ['r']\n",
    "\n",
    "for itemset_type in itemset_types:\n",
    "    for zmin in zmin_range:\n",
    "        for supp in support_range:\n",
    "            for conf in confidence_range:\n",
    "                print(\"zmin=%d\" %zmin, \"supp=%d\" %supp, \"conf=%d\" %conf)\n",
    "                itemsets = apriori(df_db, supp=supp, zmin=zmin, conf=conf, target=itemset_type, report='ascl') \n",
    "                print(len(itemsets))\n",
    "                # yes_rules = 0\n",
    "                yes_lifts = []\n",
    "                if len(itemsets) > 0:\n",
    "                    for itemset in itemsets:\n",
    "                        if \"Yes_Attrition\" in itemset[0] or \"Yes_Attrition\" in str(itemset[1]):\n",
    "                            lift = itemset[5]\n",
    "                            global_itemsets_info[str(zmin)][str(supp)][str(conf)][str(itemset_type)] += 1\n",
    "                            yes_lifts.append(lift)\n",
    "                # print('Number of %s itemsets for zmin=%s, supp=%s:' % (itemset_type, zmin, supp), yes_rules)\n",
    "                global_itemsets_info[str(zmin)][str(supp)][str(conf)][\"l\"] = yes_lifts        \n",
    "        print()"
   ]
  },
  {
   "cell_type": "code",
   "execution_count": 113,
   "metadata": {},
   "outputs": [],
   "source": [
    "def draw_multi_confidence_hist():\n",
    "    y_r = [0]*len(confidence_range)\n",
    "    \n",
    "    for zmin in zmin_range:\n",
    "        for supp in support_range:\n",
    "                for conf, i in zip(confidence_range, range(0, len(confidence_range))):\n",
    "                    for itemset_type in itemset_types:\n",
    "                        y_r[i] += int(global_itemsets_info[str(zmin)][str(supp)][str(conf)][str(itemset_type)])\n",
    "    \n",
    "    plt.ticklabel_format(style = 'plain')   \n",
    "    plt.bar(confidence_range, y_r, ec=\"white\", width=5)\n",
    "    plt.title(\"Number of Yes_Attrition rules for confidence thresholds\")\n",
    "    plt.xlabel(\"% confidence\")\n",
    "    plt.ylabel(\"# rules\")\n",
    "    plt.show()"
   ]
  },
  {
   "cell_type": "code",
   "execution_count": 114,
   "metadata": {},
   "outputs": [
    {
     "data": {
      "image/png": "[encoded data removed]",
      "text/plain": [
       "<Figure size 432x288 with 1 Axes>"
      ]
     },
     "metadata": {
      "needs_background": "light"
     },
     "output_type": "display_data"
    }
   ],
   "source": [
    "draw_multi_confidence_hist()"
   ]
  },
  {
   "cell_type": "code",
   "execution_count": 117,
   "metadata": {},
   "outputs": [],
   "source": [
    "def draw_multi_lift_hist():\n",
    "    y_r = []\n",
    "    \n",
    "    for zmin in zmin_range:\n",
    "        for supp in support_range:\n",
    "            for conf in confidence_range:\n",
    "                y_r += global_itemsets_info[str(zmin)][str(supp)][str(conf)][\"l\"]\n",
    "                \n",
    "    plt.ticklabel_format(style='plain')            \n",
    "    plt.hist(y_r, ec=\"white\", width=0.2)\n",
    "    plt.xlim([0.0, 4])\n",
    "    plt.title(\"Number of Yes_Attrition rules for lift values\")\n",
    "    plt.xlabel(\"lift\")\n",
    "    plt.ylabel(\"# rules\")\n",
    "    plt.show()"
   ]
  },
  {
   "cell_type": "code",
   "execution_count": 118,
   "metadata": {},
   "outputs": [
    {
     "data": {
      "image/png": "[encoded data removed]",
      "text/plain": [
       "<Figure size 432x288 with 1 Axes>"
      ]
     },
     "metadata": {
      "needs_background": "light"
     },
     "output_type": "display_data"
    }
   ],
   "source": [
    "draw_multi_lift_hist()"
   ]
  },
  {
   "cell_type": "markdown",
   "metadata": {},
   "source": [
    "<h2> Print rules with highest confidence</h2>"
   ]
  },
  {
   "cell_type": "code",
   "execution_count": 119,
   "metadata": {},
   "outputs": [],
   "source": [
    "global_itemsets_info = {}\n",
    "for zmin in zmin_range:\n",
    "    global_itemsets_info[str(zmin)] = {}\n",
    "    for supp in support_range:\n",
    "        global_itemsets_info[str(zmin)][str(supp)] = {}\n",
    "        for conf in confidence_range:\n",
    "            global_itemsets_info[str(zmin)][str(supp)][str(conf)] = {}\n",
    "            global_itemsets_info[str(zmin)][str(supp)][str(conf)][\"r\"] = []\n",
    "            global_itemsets_info[str(zmin)][str(supp)][str(conf)][\"l\"] = []"
   ]
  },
  {
   "cell_type": "code",
   "execution_count": null,
   "metadata": {},
   "outputs": [
    {
     "name": "stdout",
     "output_type": "stream",
     "text": [
      "Number of r itemsets for zmin=4, supp=1: 50203027\n"
     ]
    }
   ],
   "source": [
    "itemset_types = ['r']\n",
    "\n",
    "for itemset_type in itemset_types:\n",
    "    for zmin in zmin_range:\n",
    "        for supp in support_range:\n",
    "            for conf in confidence_range:\n",
    "                itemsets = apriori(df_db, supp=supp, zmin=zmin, conf=conf, target=itemset_type, report='ascl')  \n",
    "                print('Number of %s itemsets for zmin=%s, supp=%s:' % (itemset_type, zmin, supp), len(itemsets))\n",
    "                # update global dict\n",
    "                yes_rules = []\n",
    "                yes_lifts = []\n",
    "                if len(itemsets) > 0:\n",
    "                    for itemset in itemsets:\n",
    "                        if \"Yes_Attrition\" in itemset[0] or \"Yes_Attrition\" in str(itemset[1]):\n",
    "                            antecedents = itemset[1]\n",
    "                            conseguent = itemset[0]\n",
    "                            lift = itemset[5]\n",
    "                            rule = antecedents + (conseguent,)  # post-pend conseguent to antecedents\n",
    "                            global_itemsets_info[str(zmin)][str(supp)][str(conf)][str(itemset_type)].append(rule)\n",
    "                            global_itemsets_info[str(zmin)][str(supp)][str(conf)][\"l\"].append(lift)\n",
    "                            yes_rules.append(itemset)\n",
    "                print('Number of %s itemsets for zmin=%s, supp=%s:' % (itemset_type, zmin, supp), len(yes_rules))   \n",
    "        print()"
   ]
  },
  {
   "cell_type": "markdown",
   "metadata": {},
   "source": [
    "<h6> Greatest confidence rules print </h6>"
   ]
  },
  {
   "cell_type": "code",
   "execution_count": null,
   "metadata": {},
   "outputs": [],
   "source": [
    "for itemset_type in itemset_types:\n",
    "\n",
    "    tmp_conf_dict = {}\n",
    "    for zmin, value in global_itemsets_info.items(): \n",
    "        for supp, value2 in global_itemsets_info[str(zmin)].items():\n",
    "            for conf, value2 in global_itemsets_info[str(zmin)][str(supp)].items():\n",
    "                if len(global_itemsets_info[str(zmin)][str(supp)][str(conf)][itemset_type]) > 0:\n",
    "                    tmp_conf_dict[str(conf)] = global_itemsets_info[str(zmin)][str(supp)][str(conf)][itemset_type][0]\n",
    "\n",
    "    # ordering dict in descenting values (confidence)\n",
    "    int_docs_info = {int(k) : v for k, v in tmp_conf_dict.items()}\n",
    "    conf_dict = OrderedDict(sorted(int_docs_info.items(), key=lambda kv: kv[0], reverse=True))\n",
    "    print(\"%s SUPERSETS WITH GREATEST CONFIDENCE:\" % itemset_type)\n",
    "    for key, value in conf_dict.items():\n",
    "        print(\"zmin=%s\" % len(conf_dict[key][0]), \"confidence=%s\" % key, conf_dict[key])\n",
    "        print()\n",
    "\n",
    "    print()"
   ]
  },
  {
   "cell_type": "code",
   "execution_count": null,
   "metadata": {},
   "outputs": [],
   "source": [
    "df_converted[(df_converted[\"Attrition\"] == \"Yes_Attrition\") & \n",
    "          (df_converted[\"TaxRate\"] == \"3_TaxRate\") & \n",
    "          (df_converted[\"NumCompaniesWorked\"] == \"0_NumCompaniesWorked\") & \n",
    "          (df_converted[\"OverTime\"] == \"No_OverTime\") & \n",
    "           (df_converted[\"MonthlyIncome\"] == \"0_MonthlyIncome\") & \n",
    "           (df_converted[\"BusinessTravel\"] == \"Travel_Rarely_BusinessTravel\")].shape"
   ]
  },
  {
   "cell_type": "code",
   "execution_count": null,
   "metadata": {},
   "outputs": [],
   "source": [
    "df_converted[(df_converted[\"Attrition\"] == \"No_Attrition\") & \n",
    "          (df_converted[\"TaxRate\"] == \"3_TaxRate\") & \n",
    "          (df_converted[\"NumCompaniesWorked\"] == \"0_NumCompaniesWorked\") & \n",
    "          (df_converted[\"OverTime\"] == \"No_OverTime\") & \n",
    "           (df_converted[\"MonthlyIncome\"] == \"0_MonthlyIncome\") & \n",
    "           (df_converted[\"BusinessTravel\"] == \"Travel_Rarely_BusinessTravel\")].shape"
   ]
  },
  {
   "cell_type": "markdown",
   "metadata": {},
   "source": [
    "<h2> Print rules with highest lift</h2>"
   ]
  },
  {
   "cell_type": "code",
   "execution_count": null,
   "metadata": {},
   "outputs": [],
   "source": [
    "global_itemsets_info = {}\n",
    "for zmin in zmin_range:\n",
    "    global_itemsets_info[str(zmin)] = {}\n",
    "    for supp in support_range:\n",
    "        global_itemsets_info[str(zmin)][str(supp)] = {}\n",
    "        for conf in confidence_range:\n",
    "            global_itemsets_info[str(zmin)][str(supp)][str(conf)] = {}"
   ]
  },
  {
   "cell_type": "code",
   "execution_count": null,
   "metadata": {},
   "outputs": [],
   "source": [
    "itemset_types = ['r']\n",
    "\n",
    "for itemset_type in itemset_types:\n",
    "    for zmin in zmin_range:\n",
    "        for supp in support_range:\n",
    "            for conf in confidence_range:\n",
    "                itemsets = apriori(df_db, supp=supp, zmin=zmin, conf=conf, target=itemset_type, report='ascl')  \n",
    "                print('Number of %s itemsets for zmin=%s, supp=%s:' % (itemset_type, zmin, supp), len(itemsets))\n",
    "                # update global dict\n",
    "                for itemset in itemsets:\n",
    "                    if \"Yes_Attrition\" in itemset[0]:\n",
    "                        antecedents = itemset[1]\n",
    "                        conseguent = itemset[0]\n",
    "                        lift = itemset[5]\n",
    "                        rule = antecedents + (conseguent,)  # post-pend conseguent to antecedents\n",
    "                        try:\n",
    "                            tmp_list = global_itemsets_info[str(zmin)][str(supp)][str(conf)][str(lift)]\n",
    "                            tmp_list.append(rule)\n",
    "                            global_itemsets_info[str(zmin)][str(supp)][str(conf)][str(lift)] = tmp_list\n",
    "                        except KeyError:\n",
    "                            global_itemsets_info[str(zmin)][str(supp)][str(conf)][str(lift)] = [rule]\n",
    "        print()"
   ]
  },
  {
   "cell_type": "markdown",
   "metadata": {},
   "source": [
    "<h6> Greatest confidence rules print </h6>"
   ]
  },
  {
   "cell_type": "code",
   "execution_count": null,
   "metadata": {},
   "outputs": [],
   "source": [
    "for itemset_type in itemset_types:\n",
    "\n",
    "    tmp_lift_dict = {}\n",
    "    for zmin, value in global_itemsets_info.items(): \n",
    "        for supp, value2 in global_itemsets_info[str(zmin)].items():\n",
    "            for conf, value2 in global_itemsets_info[str(zmin)][str(supp)].items():\n",
    "                for lift, value3, in global_itemsets_info[str(zmin)][str(supp)][str(conf)].items():\n",
    "                    tmp_lift_dict[str(lift)] = global_itemsets_info[str(zmin)][str(supp)][str(conf)][str(lift)][0]\n",
    "\n",
    "    # ordering dict in descenting values (lift)\n",
    "    int_docs_info = {float(k) : v for k, v in tmp_lift_dict.items()}\n",
    "    lift_dict = OrderedDict(sorted(int_docs_info.items(), key=lambda kv: kv[0], reverse=True))\n",
    "    print(\"%s SUPERSETS WITH GREATEST LIFT:\" % itemset_type)\n",
    "    for key, value in lift_dict.items():\n",
    "        print(\"lift=%s\" % key, lift_dict[key], \"zmin=%s\" % len(lift_dict[key][0]))\n",
    "        print()\n",
    "\n",
    "    print()"
   ]
  },
  {
   "cell_type": "markdown",
   "metadata": {},
   "source": [
    "<h6>Checking how many items are correlated based on lift</h6> "
   ]
  },
  {
   "cell_type": "code",
   "execution_count": null,
   "metadata": {},
   "outputs": [],
   "source": [
    "count = 0\n",
    "for zmin, value in global_itemsets_info.items(): \n",
    "    for supp, value2 in global_itemsets_info[str(zmin)].items():\n",
    "        for conf, value2 in global_itemsets_info[str(zmin)][str(supp)].items():\n",
    "            for lift, value3, in global_itemsets_info[str(zmin)][str(supp)][str(conf)].items():\n",
    "                if float(lift) >= 1.1:\n",
    "                    count += len(global_itemsets_info[str(zmin)][str(supp)][str(conf)][str(lift)])\n",
    "print(count)"
   ]
  },
  {
   "cell_type": "code",
   "execution_count": null,
   "metadata": {},
   "outputs": [],
   "source": [
    "def itemset_validation(itemset):\n",
    "    res = df_converted[df_converted.columns]\n",
    "    for i in range(0, len(itemset)):\n",
    "        if \"Attrition\" in itemset[i]:\n",
    "            continue\n",
    "        elif \"BusinessTravel\" in itemset[i]:\n",
    "            column_name = \"BusinessTravel\"\n",
    "        else:\n",
    "            column_name = itemset[i].split(\"_\")[1]\n",
    "        res = res[res[column_name] == itemset[i]][res.columns]\n",
    "\n",
    "    res = res[\"Attrition\"]\n",
    "    yes_indeces = []\n",
    "    no_indeces = []\n",
    "    tmp_res_indeces = list(res.index)\n",
    "    count_yes = 0\n",
    "    count_no = 0\n",
    "    for elem, i in zip(res, range(0, len(res))):\n",
    "        if elem == \"Yes_Attrition\":\n",
    "            count_yes += 1\n",
    "            yes_indeces.append(tmp_res_indeces[i])\n",
    "        else:\n",
    "            count_no += 1\n",
    "            no_indeces.append(tmp_res_indeces[i])\n",
    "    return count_yes, count_no, yes_indeces, no_indeces"
   ]
  },
  {
   "cell_type": "code",
   "execution_count": null,
   "metadata": {},
   "outputs": [],
   "source": [
    "def check_presence_in_set(tmp_set, itemset):\n",
    "    for itemset_in_set in tmp_set:\n",
    "        if set(itemset_in_set).issubset(set(itemset)):\n",
    "            tmp_set.remove(itemset_in_set)\n",
    "            tmp_set.add(itemset)\n",
    "            return tmp_set\n",
    "    tmp_set.add(itemset)\n",
    "    return tmp_set"
   ]
  },
  {
   "cell_type": "code",
   "execution_count": null,
   "metadata": {},
   "outputs": [],
   "source": [
    "biggest_lift_ar_superset = set()\n",
    "for zmin, value in global_itemsets_info.items(): \n",
    "    for supp, value2 in global_itemsets_info[str(zmin)].items():\n",
    "        for conf, value2 in global_itemsets_info[str(zmin)][str(supp)].items():\n",
    "            for lift, value3, in global_itemsets_info[str(zmin)][str(supp)][str(conf)].items():\n",
    "                if float(lift) >= 1.1:\n",
    "                    for itemset in global_itemsets_info[str(zmin)][str(supp)][str(conf)][str(lift)]:\n",
    "                        biggest_lift_ar_superset = check_presence_in_set(biggest_lift_ar_superset, itemset)\n",
    "print(\"biggest_lift_ar_superset\", len(biggest_lift_ar_superset))"
   ]
  },
  {
   "cell_type": "code",
   "execution_count": null,
   "metadata": {},
   "outputs": [],
   "source": [
    "for itemset in biggest_lift_ar_superset:\n",
    "    count_yes, count_no, yes_indeces, no_indeces = itemset_validation(itemset)\n",
    "    if count_yes > count_no:\n",
    "        print(itemset, \"count_yes=%d\" % count_yes, \"count_no=%d\" % count_no)"
   ]
  },
  {
   "cell_type": "markdown",
   "metadata": {},
   "source": [
    "Since lift isn't performing well we are using confidence to take Yes_Attrition rules."
   ]
  },
  {
   "cell_type": "code",
   "execution_count": null,
   "metadata": {},
   "outputs": [],
   "source": []
  },
  {
   "cell_type": "code",
   "execution_count": null,
   "metadata": {},
   "outputs": [],
   "source": []
  },
  {
   "cell_type": "code",
   "execution_count": null,
   "metadata": {},
   "outputs": [],
   "source": []
  },
  {
   "cell_type": "code",
   "execution_count": null,
   "metadata": {},
   "outputs": [],
   "source": []
  },
  {
   "cell_type": "code",
   "execution_count": null,
   "metadata": {},
   "outputs": [],
   "source": [
    "tmp_lift_dict = {}\n",
    "for zmin, value in global_itemsets_info.items(): \n",
    "    for supp, value2 in global_itemsets_info[str(zmin)].items():\n",
    "        for conf, value2 in global_itemsets_info[str(zmin)][str(supp)].items():\n",
    "            for lift, value3, in global_itemsets_info[str(zmin)][str(supp)][str(conf)].items():\n",
    "                for itemset in global_itemsets_info[str(zmin)][str(supp)][str(conf)][str(lift)]:\n",
    "                    if itemset in biggest_lift_ar_superset:\n",
    "                        try:\n",
    "                            tmp_list = tmp_lift_dict[str(lift)] \n",
    "                            tmp_list.append(itemset)\n",
    "                        except KeyError:\n",
    "                            tmp_lift_dict[str(lift)] = [itemset]\n",
    "\n",
    "# ordering dict in descenting values (lift)\n",
    "int_docs_info = {float(k) : v for k, v in tmp_lift_dict.items()}\n",
    "lift_dict = OrderedDict(sorted(int_docs_info.items(), key=lambda kv: kv[0], reverse=True))\n",
    "print(\"%s SUPERSETS WITH GREATEST LIFT:\" % itemset_type)\n",
    "for key, value in lift_dict.items():\n",
    "    print(\"lift=%s\" % key, lift_dict[key], \"zmin=%s\" % len(lift_dict[key][0]),)\n",
    "    print()\n",
    "\n",
    "print()"
   ]
  }
 ],
 "metadata": {
  "kernelspec": {
   "display_name": "Python 3",
   "language": "python",
   "name": "python3"
  },
  "language_info": {
   "codemirror_mode": {
    "name": "ipython",
    "version": 3
   },
   "file_extension": ".py",
   "mimetype": "text/x-python",
   "name": "python",
   "nbconvert_exporter": "python",
   "pygments_lexer": "ipython3",
   "version": "3.8.3"
  }
 },
 "nbformat": 4,
 "nbformat_minor": 4
}
